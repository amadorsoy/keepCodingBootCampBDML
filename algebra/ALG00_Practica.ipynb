{
 "cells": [
  {
   "cell_type": "markdown",
   "metadata": {},
   "source": [
    "# Práctica"
   ]
  },
  {
   "cell_type": "markdown",
   "metadata": {},
   "source": [
    "## 1. La conjetura de Collatz\n",
    "\n",
    "<img src=\"Images/comic_collatz.png\" style=\"width: 400px;\"/>\n",
    "\n",
    "Empiezas con un número entero natural cualquiera (1, 2, 3, 4, 5...).  \n",
    "Si el número es par, lo divides por 2  \n",
    "Si es impar, lo multiplicas por 3 y le sumas 1  \n",
    "\n",
    "Escribir un procedimiento en Python que implemente el mecanismo de la conjetura de Collatz para cualquier número entero positivo."
   ]
  },
  {
   "cell_type": "code",
   "execution_count": 1,
   "metadata": {},
   "outputs": [
    {
     "name": "stdout",
     "output_type": "stream",
     "text": [
      "El proceso de Collatz para 16 es: \n",
      "16\n",
      "8.0\n",
      "4.0\n",
      "2.0\n",
      "1.0\n"
     ]
    },
    {
     "data": {
      "text/plain": [
       "1.0"
      ]
     },
     "execution_count": 1,
     "metadata": {},
     "output_type": "execute_result"
    }
   ],
   "source": [
    "def Collatz(numero):\n",
    "    \"\"\"Para poder ver la evolución\"\"\"\n",
    "    print(numero)\n",
    "    if (numero == 1):\n",
    "        return numero\n",
    "    if (numero % 2 == 0):\n",
    "        return Collatz(numero / 2)\n",
    "    else:\n",
    "        return Collatz( (numero * 3) + 1 )\n",
    "numero = 16\n",
    "print(\"El proceso de Collatz para {} es: \".format(numero))\n",
    "Collatz(16)"
   ]
  },
  {
   "cell_type": "markdown",
   "metadata": {},
   "source": [
    "## 2. Suma y producto escalar combinados\n",
    "\n",
    "Usando los procedimientos add y mult_vector_escalar definidos en el notebook **ALG05_Vectores**, calcular:   \n",
    "{$\\alpha$[1,2]+[3,4] : $\\alpha$$\\in$$\\mathbb{R}$, 0$\\leq$$\\alpha$$\\leq$1, con una precision de dos decimales (para la multiplicación)}"
   ]
  },
  {
   "cell_type": "code",
   "execution_count": 2,
   "metadata": {},
   "outputs": [
    {
     "name": "stdout",
     "output_type": "stream",
     "text": [
      "0.5 por [1, 2] + [3, 4] es: [3.5, 5.0]\n"
     ]
    }
   ],
   "source": [
    "def add(vX, vY):\n",
    "    return [ vX[i] + vY[i] for i in range(len(vX)) ]\n",
    "def mult_vector_escalar(vX, y):\n",
    "    return [ round(y * vX[i], 2) for i in range(len(vX))]\n",
    "a = 0.5\n",
    "vX = [1, 2]\n",
    "vY = [3, 4]\n",
    "print(\"{} por {} + {} es: {}\".format(a, vX, vY, add(mult_vector_escalar([1, 2], a), [3, 4])))"
   ]
  },
  {
   "cell_type": "markdown",
   "metadata": {},
   "source": [
    "## 3. El secreto perfecto\n",
    "\n",
    "Representa la encriptación de la adicción de un n-vector a un n-vector de GF(2)  \n",
    "\n",
    "<img src=\"Images/mortadelo-filemon.jpg\" style=\"width: 300px;\"/>\n",
    "\n",
    "Mortadelo y Filemón usan como clave el siguiente vector:  \n",
    "**k**=[0,1,0,0,1,0,1,0,1,0] \n",
    "\n",
    "Mortadelo quiere enviarle a Filemón el siguiente mensaje:  \n",
    "**p**=[0,0,0,1,1,1,0,1,0,1] \n",
    "\n",
    "Mortadelo encripta su mensaje añadiendo k: \n",
    "**c**=**p**+**k**=[0,0,0,1,1,1,0,1,0,1]+[0,1,0,0,1,0,1,0,1,0]=[0,1,0,1,0,1,1,1,1,1] \n",
    "\n",
    "Cuando Filemón recibe el mensaje, lo desencripta añadiendo **k** a lo que ha recibido \n",
    "**p**=**c**+**k**=[0,1,0,1,0,1,1,1,1,1]+[0,1,0,0,1,0,1,0,1,0]=[0,0,0,1,1,1,0,1,0,1]    \n",
    "\n",
    "que es el mensaje original.\n",
    "\n",
    "La idea es crear un procedimiento para que Filemón:\n",
    "* No tenga que hacer este proceso manualmente cada vez que Mortadelo le envíe un mensaje encriptado para descifrarlo\n",
    "* Si deciden cambiar la clave, que el procedimiento cambie mínimamente\n",
    "\n",
    "  \n"
   ]
  },
  {
   "cell_type": "code",
   "execution_count": 5,
   "metadata": {},
   "outputs": [
    {
     "name": "stdout",
     "output_type": "stream",
     "text": [
      "Mortadelo envía [0, 1, 0, 1, 0, 1, 1, 1, 1, 1] que es un valor encriptado y Filemón desencripta y lee [0, 0, 0, 1, 1, 1, 0, 1, 0, 1]\n"
     ]
    }
   ],
   "source": [
    "keyToEncript = [0, 0, 0, 1, 1, 1, 0, 1, 0, 1]\n",
    "keyValue = [0,1,0,0,1,0,1,0,1,0]\n",
    "def endecript(vMessage, vKey):    \n",
    "    return [ (vMessage[i] + vKey[i]) % 2 for i in range(len(vKey))]\n",
    "valueToDecript = endecript(keyToEncript, keyValue)\n",
    "valueDecript = endecript(valueToDecript, keyValue)\n",
    "print(\"Mortadelo envía {} que es un valor encriptado y Filemón desencripta y lee {}\".format(valueToDecript, valueDecript))"
   ]
  },
  {
   "cell_type": "markdown",
   "metadata": {},
   "source": [
    "## 4. ¿Cuánto cuesta hacer una cerveza?\n",
    "\n",
    "<img src=\"Images/cerveza.jpg\" style=\"width: 300px;\"/>\n",
    "\n",
    "Supongamos que D es el conjunto de algunos ingredientes de la cerveza: \n",
    "> D={lúpulo, malta, agua, levadura} \n",
    "\n",
    "Por otro lado tenemos el vector coste:\n",
    "> coste={lúpulo: 2,5€, malta: 1.5€, agua: 0.006€, levadura: 0,45€}  \n",
    "\n",
    "Por último tenemos el vector cantidad con lo necesario para hacer una cerveza:\n",
    "> cantidad={lúpulo: 6u, malta: 14u, agua: 7u, levadura: 11u} \n",
    "\n",
    "¿Cuánto cuesta hacer una cerveza?"
   ]
  },
  {
   "cell_type": "code",
   "execution_count": 6,
   "metadata": {},
   "outputs": [
    {
     "name": "stdout",
     "output_type": "stream",
     "text": [
      "El coste de hacer una cerveza es:  40.99\n"
     ]
    }
   ],
   "source": [
    "# Constantes\n",
    "Ingredientes = [\"lupulo\", \"malta\", \"agua\", \"levadura\"]\n",
    "Coste = { \"lupulo\": 2.5, \"malta\": 1.5, \"agua\": 0.006, \"levadura\": 0.45}\n",
    "Cantidad = { \"lupulo\": 6, \"malta\": 14, \"agua\": 7, \"levadura\": 11}\n",
    "\n",
    "def CosteCerveza(vCoste, vCantidad, vIngredientes):\n",
    "    acumulado = 0.0\n",
    "    for ingrediente in vIngredientes:\n",
    "        acumulado = acumulado + round(vCoste[ingrediente] * vCantidad[ingrediente], 2)\n",
    "    return acumulado\n",
    "\n",
    "print(\"El coste de hacer una cerveza es: \", CosteCerveza(Coste, Cantidad, Ingredientes))\n"
   ]
  },
  {
   "cell_type": "markdown",
   "metadata": {},
   "source": [
    "## 5. La carrera de caballos\n",
    "\n",
    "Tres caballos A, B y C compiten en una carrera.  \n",
    "Las apuestas para dar como vencedor a cada uno de ellos son de 4 a 1 para A, 3 a 1 para B y 2 a 1 para C, tomando las unidades siempre en euros.  \n",
    "¿Cuánto debo apostar por cada caballo para asegurarme recibir 13 euros en toal, sin importar qué csaballo gane la carrera?"
   ]
  },
  {
   "cell_type": "markdown",
   "metadata": {},
   "source": [
    "Sean x,y,z el dinero apostado por los caballos A, B y C respectivamente.\n",
    "El objetivo del problema escalcular la cantidad que debe apostarse por cada caballo de forma que la suma del dinero recibido y perdido en ñas apuestas sea siempre igual a 13€.  \n",
    "Así, podemos plantear un sistema de tres ecuaciones con tres incógnitas, en el que igualaremos matemáticamente la cantidad percibida por la victoria de los caballos A, B, C y, al mismo tiempo, señalaremos que esta cantidad corresponde a 13€.  \n",
    "\n",
    "> 4x-y-z=3y-x-z  \n",
    "> 3y-x-z=2z-x-y  \n",
    "> 2z-x-y=13\n"
   ]
  },
  {
   "cell_type": "code",
   "execution_count": 30,
   "metadata": {},
   "outputs": [
    {
     "name": "stdout",
     "output_type": "stream",
     "text": [
      "El valor de x = 12.0, el de y = 15.0 y el de z = 20.0 \n",
      "El valor de x = 12, el de y = 15 y el de z = 20 \n"
     ]
    }
   ],
   "source": [
    "#Si 4x-y-z = 3y-x-z y 3y-x-z = 2z-x-y y 2z-x-y=13 Entonces \n",
    "# 4x-y-z = 13\n",
    "# -x+3y-z = 13\n",
    "# -x-y+2z = 13\n",
    "# Esto se puede interpretar como la siguiente matriz\n",
    "import numpy as np\n",
    "A = np.matrix([\n",
    "    [4, -1, -1],\n",
    "    [-1, 3, -1],\n",
    "    [-1, -1, 2]\n",
    "])\n",
    "B = np.matrix([\n",
    "    [13],\n",
    "    [13],\n",
    "    [13]\n",
    "])\n",
    "X = np.linalg.solve(A, B)\n",
    "print('El valor de x = {}, el de y = {} y el de z = {} '.format(X[0,0],X[1,0],X[2,0]))\n",
    "\n",
    "#Si quisieramos solucionar esto con sympy para comprobar que da el mismo resultado podríamos hacer\n",
    "from sympy import Matrix, solve_linear_system\n",
    "from sympy.abc import x,y,z \n",
    "\n",
    "A=Matrix([\n",
    "    [4, -1, -1, 13],\n",
    "    [-1, 3, -1, 13],\n",
    "    [-1, -1, 2, 13]\n",
    "   ])\n",
    "\n",
    "X2 = solve_linear_system(A,x,y,z)\n",
    "print('El valor de x = {}, el de y = {} y el de z = {} '.format(X2[x],X2[y],X2[z]))"
   ]
  },
  {
   "cell_type": "markdown",
   "metadata": {},
   "source": [
    "## 6. Dimensión de matrices\n",
    "\n",
    "Sea la matriz $\n",
    "  M=\n",
    "  \\left[ {\\begin{array}{cc}\n",
    "   1 & 0  & 0 & 5 \\\\\n",
    "   0 & 2  & 0 & 7 \\\\\n",
    "   0 & 0  & 3 & 9 \\\\\n",
    "  \\end{array} } \\right]\n",
    "$. Calcular el rango por filas y por columnas usando Python."
   ]
  },
  {
   "cell_type": "code",
   "execution_count": 38,
   "metadata": {},
   "outputs": [
    {
     "name": "stdout",
     "output_type": "stream",
     "text": [
      "Dada la matriz M (anteriormente representada) el rango por filas es:  3  y el rango de columnas es:  3\n"
     ]
    }
   ],
   "source": [
    "import numpy as np\n",
    "M=np.matrix([\n",
    "   [1, 0, 0, 5],\n",
    "   [0, 2, 0, 7],\n",
    "   [0, 0, 3, 9]\n",
    "   ])\n",
    "MT = np.transpose(M)\n",
    "rowRank = np.linalg.matrix_rank(M)\n",
    "colRank = np.linalg.matrix_rank(MC)\n",
    "print('Dada la matriz M (anteriormente representada) el rango por filas es: ', \n",
    "      rowRank, ' y el rango de columnas es: ', colRank)"
   ]
  },
  {
   "cell_type": "code",
   "execution_count": null,
   "metadata": {},
   "outputs": [],
   "source": []
  },
  {
   "cell_type": "markdown",
   "metadata": {},
   "source": [
    "## 7. Bosque de extensión mínima\n",
    "\n",
    "<img src=\"Images/bosque.png\" style=\"width: 800px;\"/>\n",
    "\n",
    "En clase hemos hecho el caso del grafo de la derecha. Le toca el turno al de la izquierda.\n",
    "Supongamos que queremos diseñar la red de internet para el otro campus universitario.  \n",
    "La red debe lograr la misma conectividad que el grafo de entrada.  \n",
    "Una arista representa un posible cable.  \n",
    "El peso de la arista es el coste de instalar el cable.  \n",
    "Nuestro objetivo es minimizar el coste total, usando el algoritmo Grow y el algoritmo Shrink.\n",
    "Lo único que en este caso se pide crear un procedimiento para el algoritmo Grow y otro para el Shrink que lo hagan automáticamente una vez les metamos como parámetros las aristas y sus pesos"
   ]
  },
  {
   "cell_type": "code",
   "execution_count": 333,
   "metadata": {},
   "outputs": [],
   "source": [
    "gCampus = [  \n",
    "        ({\"Pembroke Campus\",\"Bio-Med\"},2),\n",
    "        ({\"Athletic Complex\",\"Pembroke Campus\"},7),         \n",
    "        ({\"Bio-Med\",\"Athletic Complex\"},9)\n",
    "]\n",
    "\n",
    "# Get Array of values from position in Grapho\n",
    "def GetArrayFromGrapho(grapho, position, desc=True):\n",
    "    vSize=[]\n",
    "    for i in grapho:\n",
    "        vSize.append(i[position])\n",
    "    vSize.sort(reverse=desc)\n",
    "    return vSize\n",
    "\n",
    "def GetNodeFromSize(grapho, size):\n",
    "    vertex = ()\n",
    "    for i in range(len(grapho)):\n",
    "        if grapho[i][1] == size:\n",
    "            vertex = grapho.pop(i)\n",
    "            break\n",
    "    return vertex\n",
    "\n",
    "def GetRelations(grapho, vertex, forest):\n",
    "    vResult = []\n",
    "    for value in vertex[0]:\n",
    "        for vx in grapho:\n",
    "            vxData = vx[0]\n",
    "            if vertex[0] != vxData:\n",
    "                if value in vxData:\n",
    "                    if not vx in forest:\n",
    "                        vResult.append(vx)\n",
    "    vResult.sort(reverse=False)\n",
    "    return vResult"
   ]
  },
  {
   "cell_type": "code",
   "execution_count": 334,
   "metadata": {},
   "outputs": [],
   "source": [
    "def AlgorithmGrow(grapho):\n",
    "    #El bosque final que devolverá la función\n",
    "    forest=[]\n",
    "    #Nos copiamos el original para no romperlo\n",
    "    grCopy = grapho.copy()\n",
    "    #obtenemos el mínimo valor del grafo\n",
    "    minSize = min(GetArrayFromGrapho(grCopy, 1, False))\n",
    "    maxSize = max(GetArrayFromGrapho(grCopy, 1, False))\n",
    "    #Por lo tanto obtenemos el mínimo vertice y lo añadimos al bosque\n",
    "    minVertex = GetNodeFromSize(grCopy, minSize)    \n",
    "    forest.append(minVertex)\n",
    "    #Ahora obtenemos las relaciones de ese mínimo valor\n",
    "    vertexWithMinRelations = GetRelations(grCopy, minVertex, forest)\n",
    "    while (vertexWithMinRelations):\n",
    "        #mientras tengamos más de una relación, sino pues hemos llegado al final que sería el máximo normalmente\n",
    "        if len(vertexWithMinRelations) > 1:\n",
    "            #obtenemos el mínimo y el máximo (mínimo para quedarnos con él y máximo para no descartarlo de los vertices)\n",
    "            minSize = min(GetArrayFromGrapho(vertexWithMinRelations, 1, False))\n",
    "            maxSize = max(GetArrayFromGrapho(vertexWithMinRelations, 1, False))\n",
    "            #Agregamos el mínimo al bosque\n",
    "            minVertex = GetNodeFromSize(grCopy, minSize)\n",
    "            forest.append(minVertex)\n",
    "            # Eliminamos todos aquellos nodos que sean distintos al mínimo y al máximo para evitar triangulaciones\n",
    "            for vertex in vertexWithMinRelations:\n",
    "                if (vertex[1] != minSize) and (vertex[1] != maxSize):\n",
    "                    grCopy.pop(grCopy.index(vertex))\n",
    "            # Obtenemos las relaciones del último vertice agregado\n",
    "            vertexWithMinRelations = GetRelations(grCopy, minVertex, forest)\n",
    "        else:\n",
    "            #Vamos a comprobar por si las moscas, pero normalmente el último valor será el máximo que no nos interesa\n",
    "            if (vertexWithMinRelations[0][1] != maxSize):\n",
    "                forest.append(vertexWithMinRelations)\n",
    "            break\n",
    "    \n",
    "    return forest    "
   ]
  },
  {
   "cell_type": "code",
   "execution_count": 337,
   "metadata": {},
   "outputs": [],
   "source": [
    "def SortGrapho(grapho):\n",
    "    newGrapho = []\n",
    "    while grapho:\n",
    "        maxSize = max(GetArrayFromGrapho(grapho, 1, False))\n",
    "        newGrapho.append(GetNodeFromSize(grapho, maxSize))\n",
    "    return newGrapho\n",
    "\n",
    "def HasRelation(grapho):\n",
    "    existsRelation = False\n",
    "    grCheck = grapho.copy()\n",
    "    vertex1 = grCheck.pop(0)\n",
    "    valuesVertex1 = vertex1[0]\n",
    "    for v in grCheck:\n",
    "        valuesV = v[0]\n",
    "        for valInVertex1 in valuesVertex1:\n",
    "            existsRelation = valInVertex1 in valuesV\n",
    "        if (existsRelation == True):\n",
    "            break\n",
    "    return existsRelation\n",
    "\n",
    "def GetNodes(grafo):\n",
    "    nodos = set()\n",
    "    for i in grafo:\n",
    "        for e in i[0]:\n",
    "            nodos.add(e)            \n",
    "    return nodos\n",
    "\n",
    "def AlgorithmShrink(grapho):    \n",
    "    #Nos copiamos el original para no romperlo y además lo ordenamos de mayor amenr\n",
    "    grCopy = grapho.copy()\n",
    "    grCopy = SortGrapho(grCopy)\n",
    "    grSort = grCopy.copy()\n",
    "    #Obtenemos el array de los pesos\n",
    "    weights = GetArrayFromGrapho(grCopy, 1, True)\n",
    "    allNodes = GetNodes(grCopy)\n",
    "    #Recorremos el bucle\n",
    "    while weights:\n",
    "        #quitamos el mayor\n",
    "        maxSize = weights[0]\n",
    "        maxVertex = GetNodeFromSize(grCopy, maxSize)\n",
    "        weights.remove(maxSize)\n",
    "        #Cuando la relación desaparece entonces lo volvemos a agregar\n",
    "        if (HasRelation(grCopy) == False):\n",
    "            grCopy.append(maxVertex)\n",
    "        #O cuando perdemos algunos de los nodos que teníamos inicialmente\n",
    "        elif allNodes != GetNodes(grCopy):\n",
    "            grCopy.append(maxVertex)\n",
    "        print('--------------------------')\n",
    "    return grCopy"
   ]
  },
  {
   "cell_type": "code",
   "execution_count": 338,
   "metadata": {},
   "outputs": [
    {
     "name": "stdout",
     "output_type": "stream",
     "text": [
      "Para  [({'Bio-Med', 'Pembroke Campus'}, 2), ({'Athletic Complex', 'Pembroke Campus'}, 7), ({'Bio-Med', 'Athletic Complex'}, 9)]\n",
      "**************************\n",
      "Grow daría la siguiente solución:  [({'Bio-Med', 'Pembroke Campus'}, 2), ({'Athletic Complex', 'Pembroke Campus'}, 7)]\n",
      "**************************\n",
      "--------------------------\n",
      "--------------------------\n",
      "--------------------------\n",
      "Shrink daría la siguiente solución:  [({'Athletic Complex', 'Pembroke Campus'}, 7), ({'Bio-Med', 'Pembroke Campus'}, 2)]\n"
     ]
    }
   ],
   "source": [
    "print('Para ', gCampus)\n",
    "print('**************************')\n",
    "print('Grow daría la siguiente solución: ', AlgorithmGrow(gCampus))\n",
    "print('**************************')\n",
    "print('Shrink daría la siguiente solución: ', AlgorithmShrink(gCampus))"
   ]
  },
  {
   "cell_type": "markdown",
   "metadata": {},
   "source": [
    "## 8. El dígito móvil\n",
    "\n",
    "<img src=\"Images/imagenx2.png\" style=\"width: 500px;\"/>\n",
    "\n",
    "Hallar un número tal que, multiplicado por 3 y dividido entre 2, dé el mismo resultado que si moviéramos el primer dígito del número, el 3, desde el principio hasta el final de la fila de dígitos\n",
    "\n",
    "PISTA: Los únicos números que, al ser multiplicados por determinadas cifras, producen otros números cuyos dígitos siguen la misma secuencia que el número original aunque comenzando por otro de sus dígitos, son los períodos de los números decimales periódicos. Estos números se dicen **cíclicos**.  \n",
    "Nosotros queremos buscar un número de este tipo\n",
    "\n",
    "PISTA: No hay que resolverlo con Python"
   ]
  },
  {
   "cell_type": "code",
   "execution_count": 415,
   "metadata": {},
   "outputs": [
    {
     "name": "stdout",
     "output_type": "stream",
     "text": [
      "[3529]\n",
      "3529 5293\n"
     ]
    }
   ],
   "source": [
    "numeroTres = 3\n",
    "posibles = []\n",
    "for i in range(1000):\n",
    "    posible = int(str(numeroTres)+str(i))\n",
    "    lPosible = list(map(int, str(posible)))\n",
    "    resto = (posible * 3) / 2\n",
    "    lResto = list(map(int, str(int(resto))))\n",
    "    lPosibleOk = lPosible[1:]\n",
    "    lPosibleOk.append(lPosible[0])    \n",
    "    if (lPosibleOk == lResto):\n",
    "        posibles.append(posible)\n",
    "print(posibles)\n",
    "if len(posibles) > 0:\n",
    "    print(posibles[0], int(posibles[0] * 3 / 2))"
   ]
  },
  {
   "cell_type": "markdown",
   "metadata": {},
   "source": []
  },
  {
   "cell_type": "markdown",
   "metadata": {},
   "source": [
    "## 9. Agujas superpuestas\n",
    "\n",
    "<img src=\"Images/reloj-movimiento--478x578.jpg\" style=\"width: 250px;\"/>\n",
    "\n",
    "El horario y el minutero de un reloj se juntan exactamente cada 65 minutos.  \n",
    "Calcular si el reloj se adelanta o se atrasa, y cuánto por hora.  \n",
    "\n",
    "PISTA: Suponer que las agujas del reloj empiezan en las 12 en punto.\n",
    "\n",
    "PISTA: No hace falta resolverlo con Python"
   ]
  },
  {
   "cell_type": "code",
   "execution_count": 458,
   "metadata": {},
   "outputs": [
    {
     "name": "stdout",
     "output_type": "stream",
     "text": [
      "Si empieza a las 00:00\n",
      "1º vez en juntarse sería: 1:05\n",
      "2º vez en juntarse sería: 2:10\n",
      "3º vez en juntarse sería: 3:15\n",
      "4º vez en juntarse sería: 4:20\n",
      "5º vez en juntarse sería: 5:25\n",
      "6º vez en juntarse sería: 6:30\n",
      "7º vez en juntarse sería: 7:35\n",
      "8º vez en juntarse sería: 8:40\n",
      "9º vez en juntarse sería: 9:45\n",
      "10º vez en juntarse sería: 10:50\n",
      "11º vez en juntarse sería: 11:55\n",
      "12º vez en juntarse sería: 13:00\n",
      "Por lo tanto se están adelantando, porque tendrían que haberse juntado a las 12:00\n"
     ]
    }
   ],
   "source": [
    "print('Si empieza a las 00:00')\n",
    "print('1º vez en juntarse sería: 1:05')\n",
    "print('2º vez en juntarse sería: 2:10')\n",
    "print('3º vez en juntarse sería: 3:15')\n",
    "print('4º vez en juntarse sería: 4:20')\n",
    "print('5º vez en juntarse sería: 5:25')\n",
    "print('6º vez en juntarse sería: 6:30')\n",
    "print('7º vez en juntarse sería: 7:35')\n",
    "print('8º vez en juntarse sería: 8:40')\n",
    "print('9º vez en juntarse sería: 9:45')\n",
    "print('10º vez en juntarse sería: 10:50')\n",
    "print('11º vez en juntarse sería: 11:55')\n",
    "print('12º vez en juntarse sería: 13:00')\n",
    "print('Por lo tanto se están adelantando, porque tendrían que haberse juntado a las 12:00')"
   ]
  },
  {
   "cell_type": "markdown",
   "metadata": {},
   "source": []
  },
  {
   "cell_type": "markdown",
   "metadata": {},
   "source": [
    "## 10. Cuadrados perfectos\n",
    "\n",
    "<img src=\"Images/cuadrados-perfectos.jpg\" style=\"width: 500px;\"/>\n",
    "\n",
    "Averiguar el número entero positivo que, sumado tanto a 100 como a 164, propociona sendos cuadrados perfectos.\n",
    "\n",
    "PISTA: No hace falta resolverlo con Python"
   ]
  },
  {
   "cell_type": "code",
   "execution_count": 456,
   "metadata": {},
   "outputs": [
    {
     "name": "stdout",
     "output_type": "stream",
     "text": [
      "El primer número que tanto sumado a 100, como a 164 da cuadrados perfectos  (he aumentado el rango y sigue saliendo solo este) es:  125\n"
     ]
    }
   ],
   "source": [
    "posibles = []\n",
    "r = 1 / 2\n",
    "4 ** r\n",
    "def raizcuadradaperfecta (a, constante):\n",
    "    suma = a + constante\n",
    "    x = suma ** (1 / 2)\n",
    "    check = (x % int(x) == 0)\n",
    "    return check\n",
    "for i in range(10000):\n",
    "    check1 = raizcuadradaperfecta(i, 100)\n",
    "    check2 = raizcuadradaperfecta(i, 164)\n",
    "    if ( (check1 == True) and (check2 == True) ):\n",
    "        posibles.append(i)\n",
    "print('El primer número que tanto sumado a 100, como a 164 da cuadrados perfectos ',\n",
    "      '(he aumentado el rango y sigue saliendo solo este) es: ', posibles[0])"
   ]
  },
  {
   "cell_type": "markdown",
   "metadata": {},
   "source": []
  },
  {
   "cell_type": "markdown",
   "metadata": {},
   "source": [
    "## 11. Días de vacaciones\n",
    "\n",
    "<img src=\"Images/vacaciones.jpg\" style=\"width: 500px;\"/>\n",
    "\n",
    "Durante mis vacaciones llovió 9 días, y hubo 10 mañanas y 9 tardes soleadas. Cuando llovió por la mañana, la tarde fue soleada.\n",
    "¿Cuántos días duraron mis vacaciones?"
   ]
  },
  {
   "cell_type": "code",
   "execution_count": 457,
   "metadata": {},
   "outputs": [
    {
     "name": "stdout",
     "output_type": "stream",
     "text": [
      "x + y = 9\n",
      "10 + x = y + 9\n",
      "x = 9 - y\n",
      "10 + 9 - y = y + 9\n",
      "10 + 9 - 9 = y + y\n",
      "10 = 2y\n",
      "y = 10 / 2\n",
      "y = 5\n",
      "x + y = 9 -> como y = 5\n",
      "x = 9 - 5 -> x = 4\n",
      "Por lo tanto los días de vacaciones son 10 + 4 = 14\n"
     ]
    }
   ],
   "source": [
    "# x = los días con sol por la mañana\n",
    "# y = días que llovió por la tarde\n",
    "print('x + y = 9')\n",
    "print('10 + x = y + 9')\n",
    "print('x = 9 - y')\n",
    "print('10 + 9 - y = y + 9')\n",
    "print('10 + 9 - 9 = y + y')\n",
    "print('10 = 2y')\n",
    "print('y = 10 / 2')\n",
    "print('y = 5')\n",
    "print('x + y = 9 -> como y = 5')\n",
    "print('x = 9 - 5 -> x = 4')\n",
    "print('Por lo tanto los días de vacaciones son 10 + 4 = 14')"
   ]
  },
  {
   "cell_type": "markdown",
   "metadata": {},
   "source": []
  },
  {
   "cell_type": "markdown",
   "metadata": {},
   "source": []
  }
 ],
 "metadata": {
  "kernelspec": {
   "display_name": "Python 3",
   "language": "python",
   "name": "python3"
  },
  "language_info": {
   "codemirror_mode": {
    "name": "ipython",
    "version": 3
   },
   "file_extension": ".py",
   "mimetype": "text/x-python",
   "name": "python",
   "nbconvert_exporter": "python",
   "pygments_lexer": "ipython3",
   "version": "3.7.4"
  }
 },
 "nbformat": 4,
 "nbformat_minor": 2
}

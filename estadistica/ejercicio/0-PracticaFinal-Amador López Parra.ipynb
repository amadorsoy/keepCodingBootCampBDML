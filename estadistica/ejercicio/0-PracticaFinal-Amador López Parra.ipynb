{
 "cells": [
  {
   "cell_type": "code",
   "execution_count": 1,
   "metadata": {},
   "outputs": [],
   "source": [
    "library(ggplot2)\n",
    "options(repr.plot.height=4,repr.plot.width=6)"
   ]
  },
  {
   "cell_type": "markdown",
   "metadata": {},
   "source": [
    "Cargar los datos en un dataframe llamado: airbnb"
   ]
  },
  {
   "cell_type": "code",
   "execution_count": 2,
   "metadata": {},
   "outputs": [],
   "source": [
    "airbnb<-read.csv('data//airbnb.csv',sep = ',')"
   ]
  },
  {
   "cell_type": "markdown",
   "metadata": {},
   "source": [
    "Mostrar las primeras 6 filas del dataframe"
   ]
  },
  {
   "cell_type": "code",
   "execution_count": 3,
   "metadata": {
    "scrolled": true
   },
   "outputs": [
    {
     "data": {
      "text/html": [
       "<table>\n",
       "<caption>A data.frame: 6 × 13</caption>\n",
       "<thead>\n",
       "\t<tr><th></th><th scope=col>Zipcode</th><th scope=col>Neighbourhood.Cleansed</th><th scope=col>Property.Type</th><th scope=col>Room.Type</th><th scope=col>Accommodates</th><th scope=col>Bathrooms</th><th scope=col>Bedrooms</th><th scope=col>Beds</th><th scope=col>Bed.Type</th><th scope=col>Amenities</th><th scope=col>Square.Feet</th><th scope=col>Price</th><th scope=col>Review.Scores.Rating</th></tr>\n",
       "\t<tr><th></th><th scope=col>&lt;fct&gt;</th><th scope=col>&lt;fct&gt;</th><th scope=col>&lt;fct&gt;</th><th scope=col>&lt;fct&gt;</th><th scope=col>&lt;int&gt;</th><th scope=col>&lt;dbl&gt;</th><th scope=col>&lt;int&gt;</th><th scope=col>&lt;int&gt;</th><th scope=col>&lt;fct&gt;</th><th scope=col>&lt;fct&gt;</th><th scope=col>&lt;int&gt;</th><th scope=col>&lt;int&gt;</th><th scope=col>&lt;int&gt;</th></tr>\n",
       "</thead>\n",
       "<tbody>\n",
       "\t<tr><th scope=row>1</th><td>28004</td><td>Universidad</td><td>Apartment</td><td>Private room   </td><td>2</td><td>2</td><td>1</td><td>1</td><td>Real Bed</td><td>TV,Wireless Internet,Kitchen,Pets allowed,Pets live on this property,Buzzer/wireless intercom,Heating,Suitable for events,Washer,First aid kit,Essentials,Lock on bedroom door,Iron                                                                                                                                                                             </td><td> NA</td><td>35</td><td> NA</td></tr>\n",
       "\t<tr><th scope=row>2</th><td>28004</td><td>Universidad</td><td>Apartment</td><td>Entire home/apt</td><td>6</td><td>1</td><td>3</td><td>5</td><td>Real Bed</td><td>TV,Internet,Wireless Internet,Air conditioning,Kitchen,Indoor fireplace,Heating,Family/kid friendly,Washer,Dryer,Smoke detector,Carbon monoxide detector,Essentials,Shampoo                                                                                                                                                                                     </td><td> NA</td><td>92</td><td> 96</td></tr>\n",
       "\t<tr><th scope=row>3</th><td>28004</td><td>Universidad</td><td>Apartment</td><td>Entire home/apt</td><td>3</td><td>1</td><td>2</td><td>2</td><td>Real Bed</td><td>TV,Internet,Wireless Internet,Air conditioning,Kitchen,Doorman,Heating,Family/kid friendly,Washer,Essentials,Shampoo,Hangers,Hair dryer,Iron,Laptop friendly workspace                                                                                                                                                                                          </td><td> NA</td><td>55</td><td> 91</td></tr>\n",
       "\t<tr><th scope=row>4</th><td>28004</td><td>Universidad</td><td>Loft     </td><td>Entire home/apt</td><td>3</td><td>2</td><td>1</td><td>1</td><td>Real Bed</td><td>TV,Internet,Wireless Internet,Air conditioning,Kitchen,Pets allowed,Breakfast,Elevator in building,Indoor fireplace,Buzzer/wireless intercom,Heating,Washer,Essentials,Shampoo,Hangers,Hair dryer,Iron,Laptop friendly workspace,translation missing: en.hosting_amenity_49,translation missing: en.hosting_amenity_50                                          </td><td> NA</td><td>60</td><td>100</td></tr>\n",
       "\t<tr><th scope=row>5</th><td>28015</td><td>Universidad</td><td>Apartment</td><td>Entire home/apt</td><td>5</td><td>1</td><td>1</td><td>1</td><td>Real Bed</td><td>TV,Wireless Internet,Air conditioning,Kitchen,Smoking allowed,Pets allowed,Elevator in building,Heating,Family/kid friendly,Washer,Essentials,Iron                                                                                                                                                                                                              </td><td>538</td><td>75</td><td> 90</td></tr>\n",
       "\t<tr><th scope=row>6</th><td>28004</td><td>Universidad</td><td>Apartment</td><td>Entire home/apt</td><td>2</td><td>1</td><td>0</td><td>1</td><td>Real Bed</td><td>TV,Cable TV,Internet,Wireless Internet,Air conditioning,Wheelchair accessible,Kitchen,Doorman,Elevator in building,Buzzer/wireless intercom,Heating,Washer,Smoke detector,Carbon monoxide detector,First aid kit,Safety card,Fire extinguisher,Essentials,Shampoo,24-hour check-in,Hangers,Hair dryer,Iron,Laptop friendly workspace,Self Check-In,Doorman Entry</td><td> NA</td><td>55</td><td> 95</td></tr>\n",
       "</tbody>\n",
       "</table>\n"
      ],
      "text/latex": [
       "A data.frame: 6 × 13\n",
       "\\begin{tabular}{r|lllllllllllll}\n",
       "  & Zipcode & Neighbourhood.Cleansed & Property.Type & Room.Type & Accommodates & Bathrooms & Bedrooms & Beds & Bed.Type & Amenities & Square.Feet & Price & Review.Scores.Rating\\\\\n",
       "  & <fct> & <fct> & <fct> & <fct> & <int> & <dbl> & <int> & <int> & <fct> & <fct> & <int> & <int> & <int>\\\\\n",
       "\\hline\n",
       "\t1 & 28004 & Universidad & Apartment & Private room    & 2 & 2 & 1 & 1 & Real Bed & TV,Wireless Internet,Kitchen,Pets allowed,Pets live on this property,Buzzer/wireless intercom,Heating,Suitable for events,Washer,First aid kit,Essentials,Lock on bedroom door,Iron                                                                                                                                                                              &  NA & 35 &  NA\\\\\n",
       "\t2 & 28004 & Universidad & Apartment & Entire home/apt & 6 & 1 & 3 & 5 & Real Bed & TV,Internet,Wireless Internet,Air conditioning,Kitchen,Indoor fireplace,Heating,Family/kid friendly,Washer,Dryer,Smoke detector,Carbon monoxide detector,Essentials,Shampoo                                                                                                                                                                                      &  NA & 92 &  96\\\\\n",
       "\t3 & 28004 & Universidad & Apartment & Entire home/apt & 3 & 1 & 2 & 2 & Real Bed & TV,Internet,Wireless Internet,Air conditioning,Kitchen,Doorman,Heating,Family/kid friendly,Washer,Essentials,Shampoo,Hangers,Hair dryer,Iron,Laptop friendly workspace                                                                                                                                                                                           &  NA & 55 &  91\\\\\n",
       "\t4 & 28004 & Universidad & Loft      & Entire home/apt & 3 & 2 & 1 & 1 & Real Bed & TV,Internet,Wireless Internet,Air conditioning,Kitchen,Pets allowed,Breakfast,Elevator in building,Indoor fireplace,Buzzer/wireless intercom,Heating,Washer,Essentials,Shampoo,Hangers,Hair dryer,Iron,Laptop friendly workspace,translation missing: en.hosting\\_amenity\\_49,translation missing: en.hosting\\_amenity\\_50                                           &  NA & 60 & 100\\\\\n",
       "\t5 & 28015 & Universidad & Apartment & Entire home/apt & 5 & 1 & 1 & 1 & Real Bed & TV,Wireless Internet,Air conditioning,Kitchen,Smoking allowed,Pets allowed,Elevator in building,Heating,Family/kid friendly,Washer,Essentials,Iron                                                                                                                                                                                                               & 538 & 75 &  90\\\\\n",
       "\t6 & 28004 & Universidad & Apartment & Entire home/apt & 2 & 1 & 0 & 1 & Real Bed & TV,Cable TV,Internet,Wireless Internet,Air conditioning,Wheelchair accessible,Kitchen,Doorman,Elevator in building,Buzzer/wireless intercom,Heating,Washer,Smoke detector,Carbon monoxide detector,First aid kit,Safety card,Fire extinguisher,Essentials,Shampoo,24-hour check-in,Hangers,Hair dryer,Iron,Laptop friendly workspace,Self Check-In,Doorman Entry &  NA & 55 &  95\\\\\n",
       "\\end{tabular}\n"
      ],
      "text/markdown": [
       "\n",
       "A data.frame: 6 × 13\n",
       "\n",
       "| <!--/--> | Zipcode &lt;fct&gt; | Neighbourhood.Cleansed &lt;fct&gt; | Property.Type &lt;fct&gt; | Room.Type &lt;fct&gt; | Accommodates &lt;int&gt; | Bathrooms &lt;dbl&gt; | Bedrooms &lt;int&gt; | Beds &lt;int&gt; | Bed.Type &lt;fct&gt; | Amenities &lt;fct&gt; | Square.Feet &lt;int&gt; | Price &lt;int&gt; | Review.Scores.Rating &lt;int&gt; |\n",
       "|---|---|---|---|---|---|---|---|---|---|---|---|---|---|\n",
       "| 1 | 28004 | Universidad | Apartment | Private room    | 2 | 2 | 1 | 1 | Real Bed | TV,Wireless Internet,Kitchen,Pets allowed,Pets live on this property,Buzzer/wireless intercom,Heating,Suitable for events,Washer,First aid kit,Essentials,Lock on bedroom door,Iron                                                                                                                                                                              |  NA | 35 |  NA |\n",
       "| 2 | 28004 | Universidad | Apartment | Entire home/apt | 6 | 1 | 3 | 5 | Real Bed | TV,Internet,Wireless Internet,Air conditioning,Kitchen,Indoor fireplace,Heating,Family/kid friendly,Washer,Dryer,Smoke detector,Carbon monoxide detector,Essentials,Shampoo                                                                                                                                                                                      |  NA | 92 |  96 |\n",
       "| 3 | 28004 | Universidad | Apartment | Entire home/apt | 3 | 1 | 2 | 2 | Real Bed | TV,Internet,Wireless Internet,Air conditioning,Kitchen,Doorman,Heating,Family/kid friendly,Washer,Essentials,Shampoo,Hangers,Hair dryer,Iron,Laptop friendly workspace                                                                                                                                                                                           |  NA | 55 |  91 |\n",
       "| 4 | 28004 | Universidad | Loft      | Entire home/apt | 3 | 2 | 1 | 1 | Real Bed | TV,Internet,Wireless Internet,Air conditioning,Kitchen,Pets allowed,Breakfast,Elevator in building,Indoor fireplace,Buzzer/wireless intercom,Heating,Washer,Essentials,Shampoo,Hangers,Hair dryer,Iron,Laptop friendly workspace,translation missing: en.hosting_amenity_49,translation missing: en.hosting_amenity_50                                           |  NA | 60 | 100 |\n",
       "| 5 | 28015 | Universidad | Apartment | Entire home/apt | 5 | 1 | 1 | 1 | Real Bed | TV,Wireless Internet,Air conditioning,Kitchen,Smoking allowed,Pets allowed,Elevator in building,Heating,Family/kid friendly,Washer,Essentials,Iron                                                                                                                                                                                                               | 538 | 75 |  90 |\n",
       "| 6 | 28004 | Universidad | Apartment | Entire home/apt | 2 | 1 | 0 | 1 | Real Bed | TV,Cable TV,Internet,Wireless Internet,Air conditioning,Wheelchair accessible,Kitchen,Doorman,Elevator in building,Buzzer/wireless intercom,Heating,Washer,Smoke detector,Carbon monoxide detector,First aid kit,Safety card,Fire extinguisher,Essentials,Shampoo,24-hour check-in,Hangers,Hair dryer,Iron,Laptop friendly workspace,Self Check-In,Doorman Entry |  NA | 55 |  95 |\n",
       "\n"
      ],
      "text/plain": [
       "  Zipcode Neighbourhood.Cleansed Property.Type Room.Type       Accommodates\n",
       "1 28004   Universidad            Apartment     Private room    2           \n",
       "2 28004   Universidad            Apartment     Entire home/apt 6           \n",
       "3 28004   Universidad            Apartment     Entire home/apt 3           \n",
       "4 28004   Universidad            Loft          Entire home/apt 3           \n",
       "5 28015   Universidad            Apartment     Entire home/apt 5           \n",
       "6 28004   Universidad            Apartment     Entire home/apt 2           \n",
       "  Bathrooms Bedrooms Beds Bed.Type\n",
       "1 2         1        1    Real Bed\n",
       "2 1         3        5    Real Bed\n",
       "3 1         2        2    Real Bed\n",
       "4 2         1        1    Real Bed\n",
       "5 1         1        1    Real Bed\n",
       "6 1         0        1    Real Bed\n",
       "  Amenities                                                                                                                                                                                                                                                                                                                                                       \n",
       "1 TV,Wireless Internet,Kitchen,Pets allowed,Pets live on this property,Buzzer/wireless intercom,Heating,Suitable for events,Washer,First aid kit,Essentials,Lock on bedroom door,Iron                                                                                                                                                                             \n",
       "2 TV,Internet,Wireless Internet,Air conditioning,Kitchen,Indoor fireplace,Heating,Family/kid friendly,Washer,Dryer,Smoke detector,Carbon monoxide detector,Essentials,Shampoo                                                                                                                                                                                     \n",
       "3 TV,Internet,Wireless Internet,Air conditioning,Kitchen,Doorman,Heating,Family/kid friendly,Washer,Essentials,Shampoo,Hangers,Hair dryer,Iron,Laptop friendly workspace                                                                                                                                                                                          \n",
       "4 TV,Internet,Wireless Internet,Air conditioning,Kitchen,Pets allowed,Breakfast,Elevator in building,Indoor fireplace,Buzzer/wireless intercom,Heating,Washer,Essentials,Shampoo,Hangers,Hair dryer,Iron,Laptop friendly workspace,translation missing: en.hosting_amenity_49,translation missing: en.hosting_amenity_50                                          \n",
       "5 TV,Wireless Internet,Air conditioning,Kitchen,Smoking allowed,Pets allowed,Elevator in building,Heating,Family/kid friendly,Washer,Essentials,Iron                                                                                                                                                                                                              \n",
       "6 TV,Cable TV,Internet,Wireless Internet,Air conditioning,Wheelchair accessible,Kitchen,Doorman,Elevator in building,Buzzer/wireless intercom,Heating,Washer,Smoke detector,Carbon monoxide detector,First aid kit,Safety card,Fire extinguisher,Essentials,Shampoo,24-hour check-in,Hangers,Hair dryer,Iron,Laptop friendly workspace,Self Check-In,Doorman Entry\n",
       "  Square.Feet Price Review.Scores.Rating\n",
       "1  NA         35     NA                 \n",
       "2  NA         92     96                 \n",
       "3  NA         55     91                 \n",
       "4  NA         60    100                 \n",
       "5 538         75     90                 \n",
       "6  NA         55     95                 "
      ]
     },
     "metadata": {},
     "output_type": "display_data"
    }
   ],
   "source": [
    "#Mostrar las primeras 6 filas\n",
    "airbnb[1:6,]"
   ]
  },
  {
   "cell_type": "markdown",
   "metadata": {},
   "source": [
    "Renombrar las columnas de la siguiente forma:\n",
    "\n",
    "| Nombre original | Nuevo nombre |\n",
    "| - | - |\n",
    "| Zipcode | CodigoPostal |\n",
    "| Neighbourhood.Cleansed | Barrio |\n",
    "| Property.Type\t| TipoPropiedad |\n",
    "| Room.Type | TipoAlquiler |\n",
    "| Accommodates | MaxOcupantes |\n",
    "| Bathrooms\t| NumBanyos |\n",
    "| Bedrooms\t| NumDormitorios |\n",
    "| Beds\t|  NumCamas |\n",
    "| Bed.Type\t| TipoCama |\n",
    "| Amenities | Comodidades |\n",
    "| Square.Feet | PiesCuadrados |\n",
    "| Price\t| Precio |\n",
    "| Review.Scores.Rating | Puntuacion |"
   ]
  },
  {
   "cell_type": "code",
   "execution_count": 4,
   "metadata": {},
   "outputs": [],
   "source": [
    "# Nuevo vector con los nombres de las columnas que queremos tener\n",
    "newnames<-c(\"CodigoPostal\",\"Barrio\",\"TipoPropiedad\",\"TipoAlquiler\",\"MaxOcupantes\",\"NumBanyos\",\n",
    "\"NumDormitorios\",\"NumCamas\",\"TipoCama\",\"Comodidades\",\"PiesCuadrados\",\"Precio\",\"Puntuacion\")\n",
    "# Asigno los nuevos nombres de columnas\n",
    "names(airbnb) <- newnames"
   ]
  },
  {
   "cell_type": "code",
   "execution_count": 5,
   "metadata": {},
   "outputs": [
    {
     "data": {
      "text/html": [
       "<style>\n",
       ".list-inline {list-style: none; margin:0; padding: 0}\n",
       ".list-inline>li {display: inline-block}\n",
       ".list-inline>li:not(:last-child)::after {content: \"\\00b7\"; padding: 0 .5ex}\n",
       "</style>\n",
       "<ol class=list-inline><li>'CodigoPostal'</li><li>'Barrio'</li><li>'TipoPropiedad'</li><li>'TipoAlquiler'</li><li>'MaxOcupantes'</li><li>'NumBanyos'</li><li>'NumDormitorios'</li><li>'NumCamas'</li><li>'TipoCama'</li><li>'Comodidades'</li><li>'PiesCuadrados'</li><li>'Precio'</li><li>'Puntuacion'</li></ol>\n"
      ],
      "text/latex": [
       "\\begin{enumerate*}\n",
       "\\item 'CodigoPostal'\n",
       "\\item 'Barrio'\n",
       "\\item 'TipoPropiedad'\n",
       "\\item 'TipoAlquiler'\n",
       "\\item 'MaxOcupantes'\n",
       "\\item 'NumBanyos'\n",
       "\\item 'NumDormitorios'\n",
       "\\item 'NumCamas'\n",
       "\\item 'TipoCama'\n",
       "\\item 'Comodidades'\n",
       "\\item 'PiesCuadrados'\n",
       "\\item 'Precio'\n",
       "\\item 'Puntuacion'\n",
       "\\end{enumerate*}\n"
      ],
      "text/markdown": [
       "1. 'CodigoPostal'\n",
       "2. 'Barrio'\n",
       "3. 'TipoPropiedad'\n",
       "4. 'TipoAlquiler'\n",
       "5. 'MaxOcupantes'\n",
       "6. 'NumBanyos'\n",
       "7. 'NumDormitorios'\n",
       "8. 'NumCamas'\n",
       "9. 'TipoCama'\n",
       "10. 'Comodidades'\n",
       "11. 'PiesCuadrados'\n",
       "12. 'Precio'\n",
       "13. 'Puntuacion'\n",
       "\n",
       "\n"
      ],
      "text/plain": [
       " [1] \"CodigoPostal\"   \"Barrio\"         \"TipoPropiedad\"  \"TipoAlquiler\"  \n",
       " [5] \"MaxOcupantes\"   \"NumBanyos\"      \"NumDormitorios\" \"NumCamas\"      \n",
       " [9] \"TipoCama\"       \"Comodidades\"    \"PiesCuadrados\"  \"Precio\"        \n",
       "[13] \"Puntuacion\"    "
      ]
     },
     "metadata": {},
     "output_type": "display_data"
    }
   ],
   "source": [
    "# Compruebo que se han cambiado correctamente los nombres de las columnas\n",
    "colnames(airbnb)"
   ]
  },
  {
   "cell_type": "markdown",
   "metadata": {},
   "source": [
    "Crea una nueva columna llamada MetrosCuadrados a partir de la columna PiesCuadrados.\n",
    "\n",
    "Ayuda: 1 pie cuadrado son 0,092903 metros cuadrdados"
   ]
  },
  {
   "cell_type": "code",
   "execution_count": 6,
   "metadata": {},
   "outputs": [],
   "source": [
    "# Crear nueva columna \"MetrosCuadrados\"\n",
    "airbnb$MetrosCuadrados <- airbnb$PiesCuadrados * 0.092903"
   ]
  },
  {
   "cell_type": "code",
   "execution_count": 7,
   "metadata": {},
   "outputs": [
    {
     "data": {
      "text/html": [
       "<table>\n",
       "<caption>A data.frame: 10 × 3</caption>\n",
       "<thead>\n",
       "\t<tr><th></th><th scope=col>CodigoPostal</th><th scope=col>PiesCuadrados</th><th scope=col>MetrosCuadrados</th></tr>\n",
       "\t<tr><th></th><th scope=col>&lt;fct&gt;</th><th scope=col>&lt;int&gt;</th><th scope=col>&lt;dbl&gt;</th></tr>\n",
       "</thead>\n",
       "<tbody>\n",
       "\t<tr><th scope=row>1</th><td>28004</td><td> NA</td><td>      NA</td></tr>\n",
       "\t<tr><th scope=row>2</th><td>28004</td><td> NA</td><td>      NA</td></tr>\n",
       "\t<tr><th scope=row>3</th><td>28004</td><td> NA</td><td>      NA</td></tr>\n",
       "\t<tr><th scope=row>4</th><td>28004</td><td> NA</td><td>      NA</td></tr>\n",
       "\t<tr><th scope=row>5</th><td>28015</td><td>538</td><td>49.98181</td></tr>\n",
       "\t<tr><th scope=row>6</th><td>28004</td><td> NA</td><td>      NA</td></tr>\n",
       "\t<tr><th scope=row>7</th><td>28004</td><td> NA</td><td>      NA</td></tr>\n",
       "\t<tr><th scope=row>8</th><td>28004</td><td> NA</td><td>      NA</td></tr>\n",
       "\t<tr><th scope=row>9</th><td>28015</td><td>700</td><td>65.03210</td></tr>\n",
       "\t<tr><th scope=row>10</th><td>28004</td><td> NA</td><td>      NA</td></tr>\n",
       "</tbody>\n",
       "</table>\n"
      ],
      "text/latex": [
       "A data.frame: 10 × 3\n",
       "\\begin{tabular}{r|lll}\n",
       "  & CodigoPostal & PiesCuadrados & MetrosCuadrados\\\\\n",
       "  & <fct> & <int> & <dbl>\\\\\n",
       "\\hline\n",
       "\t1 & 28004 &  NA &       NA\\\\\n",
       "\t2 & 28004 &  NA &       NA\\\\\n",
       "\t3 & 28004 &  NA &       NA\\\\\n",
       "\t4 & 28004 &  NA &       NA\\\\\n",
       "\t5 & 28015 & 538 & 49.98181\\\\\n",
       "\t6 & 28004 &  NA &       NA\\\\\n",
       "\t7 & 28004 &  NA &       NA\\\\\n",
       "\t8 & 28004 &  NA &       NA\\\\\n",
       "\t9 & 28015 & 700 & 65.03210\\\\\n",
       "\t10 & 28004 &  NA &       NA\\\\\n",
       "\\end{tabular}\n"
      ],
      "text/markdown": [
       "\n",
       "A data.frame: 10 × 3\n",
       "\n",
       "| <!--/--> | CodigoPostal &lt;fct&gt; | PiesCuadrados &lt;int&gt; | MetrosCuadrados &lt;dbl&gt; |\n",
       "|---|---|---|---|\n",
       "| 1 | 28004 |  NA |       NA |\n",
       "| 2 | 28004 |  NA |       NA |\n",
       "| 3 | 28004 |  NA |       NA |\n",
       "| 4 | 28004 |  NA |       NA |\n",
       "| 5 | 28015 | 538 | 49.98181 |\n",
       "| 6 | 28004 |  NA |       NA |\n",
       "| 7 | 28004 |  NA |       NA |\n",
       "| 8 | 28004 |  NA |       NA |\n",
       "| 9 | 28015 | 700 | 65.03210 |\n",
       "| 10 | 28004 |  NA |       NA |\n",
       "\n"
      ],
      "text/plain": [
       "   CodigoPostal PiesCuadrados MetrosCuadrados\n",
       "1  28004         NA                 NA       \n",
       "2  28004         NA                 NA       \n",
       "3  28004         NA                 NA       \n",
       "4  28004         NA                 NA       \n",
       "5  28015        538           49.98181       \n",
       "6  28004         NA                 NA       \n",
       "7  28004         NA                 NA       \n",
       "8  28004         NA                 NA       \n",
       "9  28015        700           65.03210       \n",
       "10 28004         NA                 NA       "
      ]
     },
     "metadata": {},
     "output_type": "display_data"
    }
   ],
   "source": [
    "# Comprobar los datos insertados\n",
    "airbnb[1:10,c(\"CodigoPostal\", \"PiesCuadrados\", \"MetrosCuadrados\")]"
   ]
  },
  {
   "cell_type": "markdown",
   "metadata": {},
   "source": [
    "Miremos el código postal. Es una variable con entradas erroneas.\n",
    "Hay valores como '', '-'  y '28' que deberían ser considerados como NA.\n",
    "Así mismo también debería ser NA todos los que no compiencen por 28, ya que estamos con códigos postales de Madrid\n",
    "\n",
    "El código postal 28002, 28004 y 28051 tienen entradas repetidas. \n",
    "Por ejemplo las entradas 28002\\n20882 deberían ir dnetro de 28002\n",
    "\n",
    "El codigo 2804 debería ser 28004, 2805 deberia ser 28005 y 2815 juncto con 2815 debería ser 28015\n",
    "\n",
    "Limpia los datos de la columna Codigo Postal"
   ]
  },
  {
   "cell_type": "code",
   "execution_count": 8,
   "metadata": {},
   "outputs": [],
   "source": [
    "# Arreglar valores de Columna Código Postal\n",
    "airbnb$CodigoPostal[airbnb$CodigoPostal == '28' | airbnb$CodigoPostal == \"-\" | airbnb$CodigoPostal == \"\"]<-NA\n",
    "airbnb$CodigoPostal[airbnb$CodigoPostal == '28002\\n28002']<-'28002'\n",
    "airbnb$CodigoPostal[airbnb$CodigoPostal == '28002 28002']<-'28002'\n",
    "airbnb$CodigoPostal[airbnb$CodigoPostal == '28004\\n28004']<-'28004'\n",
    "airbnb$CodigoPostal[airbnb$CodigoPostal == '28004 28004']<-'28004'\n",
    "airbnb$CodigoPostal[airbnb$CodigoPostal == '28051\\n28051']<-'28051'\n",
    "airbnb$CodigoPostal[airbnb$CodigoPostal == '28051 28051']<-'28051'\n",
    "airbnb$CodigoPostal[airbnb$CodigoPostal == 'Madrid\\n28004']<-'28004'\n",
    "airbnb$CodigoPostal[airbnb$CodigoPostal == 'Madrid 28004']<-'28004'\n",
    "airbnb$CodigoPostal[airbnb$CodigoPostal == '2804']<-'28004'\n",
    "airbnb$CodigoPostal[airbnb$CodigoPostal == '2805']<-'28005'\n",
    "airbnb$CodigoPostal[airbnb$CodigoPostal == '2815']<-'28015'\n",
    "airbnb$CodigoPostal[airbnb$CodigoPostal == '280013']<-'28013'\n",
    "airbnb$CodigoPostal[!grepl(\"28\", airbnb$CodigoPostal)]<-NA"
   ]
  },
  {
   "cell_type": "markdown",
   "metadata": {},
   "source": [
    "Una vez limpios los datos ¿Cuales son los códigos postales que tenemos? "
   ]
  },
  {
   "cell_type": "code",
   "execution_count": 9,
   "metadata": {},
   "outputs": [
    {
     "data": {
      "text/html": [
       "<style>\n",
       ".list-inline {list-style: none; margin:0; padding: 0}\n",
       ".list-inline>li {display: inline-block}\n",
       ".list-inline>li:not(:last-child)::after {content: \"\\00b7\"; padding: 0 .5ex}\n",
       "</style>\n",
       "<ol class=list-inline><li>28004</li><li>28015</li><li>28013</li><li>28005</li><li>28012</li><li>28014</li><li>28045</li><li>28007</li><li>28028</li><li>28009</li><li>28001</li><li>28006</li><li>28010</li><li>28002</li><li>28034</li><li>28050</li><li>28008</li><li>28011</li><li>28049</li><li>28038</li><li>28053</li><li>28047</li><li>28025</li><li>28019</li><li>28024</li><li>28016</li><li>28036</li><li>28046</li><li>28039</li><li>28020</li><li>28003</li><li>28029</li><li>28054</li><li>28041</li><li>28026</li><li>28058</li><li>28018</li><li>28030</li><li>28017</li><li>28027</li><li>28043</li><li>28033</li><li>28055</li><li>28021</li><li>28032</li><li>28037</li><li>28022</li><li>28042</li><li>28094</li><li>28035</li><li>28040</li><li>28031</li><li>28044</li><li>28105</li><li>28023</li><li>28051</li><li>28850</li><li>28048</li><li>28056</li><li>28060</li><li>28052</li></ol>\n",
       "\n",
       "<details>\n",
       "\t<summary style=display:list-item;cursor:pointer>\n",
       "\t\t<strong>Levels</strong>:\n",
       "\t</summary>\n",
       "\t<style>\n",
       "\t.list-inline {list-style: none; margin:0; padding: 0}\n",
       "\t.list-inline>li {display: inline-block}\n",
       "\t.list-inline>li:not(:last-child)::after {content: \"\\00b7\"; padding: 0 .5ex}\n",
       "\t</style>\n",
       "\t<ol class=list-inline><li>''</li><li>'-'</li><li>'20013'</li><li>'20126'</li><li>'2015'</li><li>'25008'</li><li>'27004'</li><li>'27013'</li><li>'28'</li><li>'28001'</li><li>'280013'</li><li>'28002'</li><li>'28002\\n28002'</li><li>'28003'</li><li>'28004'</li><li>'28005'</li><li>'28006'</li><li>'28007'</li><li>'28008'</li><li>'28009'</li><li>'28010'</li><li>'28011'</li><li>'28012'</li><li>'28013'</li><li>'28014'</li><li>'28015'</li><li>'28016'</li><li>'28017'</li><li>'28018'</li><li>'28019'</li><li>'28020'</li><li>'28021'</li><li>'28022'</li><li>'28023'</li><li>'28024'</li><li>'28025'</li><li>'28026'</li><li>'28027'</li><li>'28028'</li><li>'28029'</li><li>'28030'</li><li>'28031'</li><li>'28032'</li><li>'28033'</li><li>'28034'</li><li>'28035'</li><li>'28036'</li><li>'28037'</li><li>'28038'</li><li>'28039'</li><li>'2804'</li><li>'28040'</li><li>'28041'</li><li>'28042'</li><li>'28043'</li><li>'28044'</li><li>'28045'</li><li>'28046'</li><li>'28047'</li><li>'28048'</li><li>'28049'</li><li>'2805'</li><li>'28050'</li><li>'28051'</li><li>'28051\\n28051'</li><li>'28052'</li><li>'28053'</li><li>'28054'</li><li>'28055'</li><li>'28056'</li><li>'28058'</li><li>'28060'</li><li>'28094'</li><li>'28105'</li><li>'2815'</li><li>'28850'</li><li>'Madrid 28004'</li></ol>\n",
       "</details>"
      ],
      "text/latex": [
       "\\begin{enumerate*}\n",
       "\\item 28004\n",
       "\\item 28015\n",
       "\\item 28013\n",
       "\\item 28005\n",
       "\\item 28012\n",
       "\\item 28014\n",
       "\\item 28045\n",
       "\\item 28007\n",
       "\\item 28028\n",
       "\\item 28009\n",
       "\\item 28001\n",
       "\\item 28006\n",
       "\\item 28010\n",
       "\\item 28002\n",
       "\\item 28034\n",
       "\\item 28050\n",
       "\\item 28008\n",
       "\\item 28011\n",
       "\\item 28049\n",
       "\\item 28038\n",
       "\\item 28053\n",
       "\\item 28047\n",
       "\\item 28025\n",
       "\\item 28019\n",
       "\\item 28024\n",
       "\\item 28016\n",
       "\\item 28036\n",
       "\\item 28046\n",
       "\\item 28039\n",
       "\\item 28020\n",
       "\\item 28003\n",
       "\\item 28029\n",
       "\\item 28054\n",
       "\\item 28041\n",
       "\\item 28026\n",
       "\\item 28058\n",
       "\\item 28018\n",
       "\\item 28030\n",
       "\\item 28017\n",
       "\\item 28027\n",
       "\\item 28043\n",
       "\\item 28033\n",
       "\\item 28055\n",
       "\\item 28021\n",
       "\\item 28032\n",
       "\\item 28037\n",
       "\\item 28022\n",
       "\\item 28042\n",
       "\\item 28094\n",
       "\\item 28035\n",
       "\\item 28040\n",
       "\\item 28031\n",
       "\\item 28044\n",
       "\\item 28105\n",
       "\\item 28023\n",
       "\\item 28051\n",
       "\\item 28850\n",
       "\\item 28048\n",
       "\\item 28056\n",
       "\\item 28060\n",
       "\\item 28052\n",
       "\\end{enumerate*}\n",
       "\n",
       "\\emph{Levels}: \\begin{enumerate*}\n",
       "\\item ''\n",
       "\\item '-'\n",
       "\\item '20013'\n",
       "\\item '20126'\n",
       "\\item '2015'\n",
       "\\item '25008'\n",
       "\\item '27004'\n",
       "\\item '27013'\n",
       "\\item '28'\n",
       "\\item '28001'\n",
       "\\item '280013'\n",
       "\\item '28002'\n",
       "\\item '28002\\textbackslash{}n28002'\n",
       "\\item '28003'\n",
       "\\item '28004'\n",
       "\\item '28005'\n",
       "\\item '28006'\n",
       "\\item '28007'\n",
       "\\item '28008'\n",
       "\\item '28009'\n",
       "\\item '28010'\n",
       "\\item '28011'\n",
       "\\item '28012'\n",
       "\\item '28013'\n",
       "\\item '28014'\n",
       "\\item '28015'\n",
       "\\item '28016'\n",
       "\\item '28017'\n",
       "\\item '28018'\n",
       "\\item '28019'\n",
       "\\item '28020'\n",
       "\\item '28021'\n",
       "\\item '28022'\n",
       "\\item '28023'\n",
       "\\item '28024'\n",
       "\\item '28025'\n",
       "\\item '28026'\n",
       "\\item '28027'\n",
       "\\item '28028'\n",
       "\\item '28029'\n",
       "\\item '28030'\n",
       "\\item '28031'\n",
       "\\item '28032'\n",
       "\\item '28033'\n",
       "\\item '28034'\n",
       "\\item '28035'\n",
       "\\item '28036'\n",
       "\\item '28037'\n",
       "\\item '28038'\n",
       "\\item '28039'\n",
       "\\item '2804'\n",
       "\\item '28040'\n",
       "\\item '28041'\n",
       "\\item '28042'\n",
       "\\item '28043'\n",
       "\\item '28044'\n",
       "\\item '28045'\n",
       "\\item '28046'\n",
       "\\item '28047'\n",
       "\\item '28048'\n",
       "\\item '28049'\n",
       "\\item '2805'\n",
       "\\item '28050'\n",
       "\\item '28051'\n",
       "\\item '28051\\textbackslash{}n28051'\n",
       "\\item '28052'\n",
       "\\item '28053'\n",
       "\\item '28054'\n",
       "\\item '28055'\n",
       "\\item '28056'\n",
       "\\item '28058'\n",
       "\\item '28060'\n",
       "\\item '28094'\n",
       "\\item '28105'\n",
       "\\item '2815'\n",
       "\\item '28850'\n",
       "\\item 'Madrid 28004'\n",
       "\\end{enumerate*}\n"
      ],
      "text/markdown": [
       "1. 28004\n",
       "2. 28015\n",
       "3. 28013\n",
       "4. 28005\n",
       "5. 28012\n",
       "6. 28014\n",
       "7. 28045\n",
       "8. 28007\n",
       "9. 28028\n",
       "10. 28009\n",
       "11. 28001\n",
       "12. 28006\n",
       "13. 28010\n",
       "14. 28002\n",
       "15. 28034\n",
       "16. 28050\n",
       "17. 28008\n",
       "18. 28011\n",
       "19. 28049\n",
       "20. 28038\n",
       "21. 28053\n",
       "22. 28047\n",
       "23. 28025\n",
       "24. 28019\n",
       "25. 28024\n",
       "26. 28016\n",
       "27. 28036\n",
       "28. 28046\n",
       "29. 28039\n",
       "30. 28020\n",
       "31. 28003\n",
       "32. 28029\n",
       "33. 28054\n",
       "34. 28041\n",
       "35. 28026\n",
       "36. 28058\n",
       "37. 28018\n",
       "38. 28030\n",
       "39. 28017\n",
       "40. 28027\n",
       "41. 28043\n",
       "42. 28033\n",
       "43. 28055\n",
       "44. 28021\n",
       "45. 28032\n",
       "46. 28037\n",
       "47. 28022\n",
       "48. 28042\n",
       "49. 28094\n",
       "50. 28035\n",
       "51. 28040\n",
       "52. 28031\n",
       "53. 28044\n",
       "54. 28105\n",
       "55. 28023\n",
       "56. 28051\n",
       "57. 28850\n",
       "58. 28048\n",
       "59. 28056\n",
       "60. 28060\n",
       "61. 28052\n",
       "\n",
       "\n",
       "\n",
       "**Levels**: 1. ''\n",
       "2. '-'\n",
       "3. '20013'\n",
       "4. '20126'\n",
       "5. '2015'\n",
       "6. '25008'\n",
       "7. '27004'\n",
       "8. '27013'\n",
       "9. '28'\n",
       "10. '28001'\n",
       "11. '280013'\n",
       "12. '28002'\n",
       "13. '28002\\n28002'\n",
       "14. '28003'\n",
       "15. '28004'\n",
       "16. '28005'\n",
       "17. '28006'\n",
       "18. '28007'\n",
       "19. '28008'\n",
       "20. '28009'\n",
       "21. '28010'\n",
       "22. '28011'\n",
       "23. '28012'\n",
       "24. '28013'\n",
       "25. '28014'\n",
       "26. '28015'\n",
       "27. '28016'\n",
       "28. '28017'\n",
       "29. '28018'\n",
       "30. '28019'\n",
       "31. '28020'\n",
       "32. '28021'\n",
       "33. '28022'\n",
       "34. '28023'\n",
       "35. '28024'\n",
       "36. '28025'\n",
       "37. '28026'\n",
       "38. '28027'\n",
       "39. '28028'\n",
       "40. '28029'\n",
       "41. '28030'\n",
       "42. '28031'\n",
       "43. '28032'\n",
       "44. '28033'\n",
       "45. '28034'\n",
       "46. '28035'\n",
       "47. '28036'\n",
       "48. '28037'\n",
       "49. '28038'\n",
       "50. '28039'\n",
       "51. '2804'\n",
       "52. '28040'\n",
       "53. '28041'\n",
       "54. '28042'\n",
       "55. '28043'\n",
       "56. '28044'\n",
       "57. '28045'\n",
       "58. '28046'\n",
       "59. '28047'\n",
       "60. '28048'\n",
       "61. '28049'\n",
       "62. '2805'\n",
       "63. '28050'\n",
       "64. '28051'\n",
       "65. '28051\\n28051'\n",
       "66. '28052'\n",
       "67. '28053'\n",
       "68. '28054'\n",
       "69. '28055'\n",
       "70. '28056'\n",
       "71. '28058'\n",
       "72. '28060'\n",
       "73. '28094'\n",
       "74. '28105'\n",
       "75. '2815'\n",
       "76. '28850'\n",
       "77. 'Madrid 28004'\n",
       "\n",
       "\n"
      ],
      "text/plain": [
       " [1] 28004 28015 28013 28005 28012 28014 28045 28007 28028 28009 28001 28006\n",
       "[13] 28010 28002 28034 28050 28008 28011 28049 28038 28053 28047 28025 28019\n",
       "[25] 28024 28016 28036 28046 28039 28020 28003 28029 28054 28041 28026 28058\n",
       "[37] 28018 28030 28017 28027 28043 28033 28055 28021 28032 28037 28022 28042\n",
       "[49] 28094 28035 28040 28031 28044 28105 28023 28051 28850 28048 28056 28060\n",
       "[61] 28052\n",
       "attr(,\"na.action\")\n",
       "[1] 8\n",
       "attr(,\"class\")\n",
       "[1] omit\n",
       "77 Levels:  - 20013 20126 2015 25008 27004 27013 28 28001 280013 ... Madrid 28004"
      ]
     },
     "metadata": {},
     "output_type": "display_data"
    }
   ],
   "source": [
    "#Mostrar los Códigos Postales que tenemos\n",
    "na.omit(unique(airbnb$CodigoPostal))"
   ]
  },
  {
   "cell_type": "markdown",
   "metadata": {},
   "source": [
    "¿Cuales son los 5 códigos postales con más entradas? ¿Y con menos? ¿Cuantas entradas tienen?"
   ]
  },
  {
   "cell_type": "code",
   "execution_count": 10,
   "metadata": {},
   "outputs": [
    {
     "name": "stdout",
     "output_type": "stream",
     "text": [
      "[1] \"Los 5 códigos postales con más entradas:  28012, 28004, 28005, 28013, 28014  y sus valores son:  2060, 1796, 1195, 1020, 630\"\n",
      "[1] \"Los 5 códigos postales con menos entradas:  28048, 28052, 28056, 28058, 28060  y sus valores son:  1, 1, 1, 1, 1\"\n"
     ]
    }
   ],
   "source": [
    "# Creamos una tabla para realizar los conteos\n",
    "tablaCodigosPostales <- table(droplevels(airbnb$CodigoPostal))\n",
    "\n",
    "strCodigosMasEntradas = paste( names(tablaCodigosPostales[order(-tablaCodigosPostales)][1:5]), collapse=', ')\n",
    "strValoresMasEntradas = paste( as.character(tablaCodigosPostales[order(-tablaCodigosPostales)][1:5]), collapse=', ')\n",
    "print(paste('Los 5 códigos postales con más entradas: ', \n",
    "            strCodigosMasEntradas, \n",
    "            ' y sus valores son: ', \n",
    "            strValoresMasEntradas))\n",
    "\n",
    "strCodigosMenosEntradas = paste( names(tablaCodigosPostales[order(tablaCodigosPostales)][1:5]), collapse=', ')\n",
    "strValoresMenosEntradas = paste( as.character(tablaCodigosPostales[order(tablaCodigosPostales)][1:5]), collapse=', ')\n",
    "print(paste('Los 5 códigos postales con menos entradas: ', \n",
    "            strCodigosMenosEntradas, \n",
    "            ' y sus valores son: ', \n",
    "            strValoresMenosEntradas ))"
   ]
  },
  {
   "cell_type": "markdown",
   "metadata": {},
   "source": [
    "¿Cuales son los barrios que hay en el código postal 28012?"
   ]
  },
  {
   "cell_type": "code",
   "execution_count": 11,
   "metadata": {},
   "outputs": [
    {
     "data": {
      "text/html": [
       "<span style=white-space:pre-wrap>'Los barrios con el código postal 28012 son:  Sol, Acacias, Palos de Moguer, Embajadores, Cortes, Palacio, Universidad, Delicias, Arapiles, Atocha, Goya'</span>"
      ],
      "text/latex": [
       "'Los barrios con el código postal 28012 son:  Sol, Acacias, Palos de Moguer, Embajadores, Cortes, Palacio, Universidad, Delicias, Arapiles, Atocha, Goya'"
      ],
      "text/markdown": [
       "<span style=white-space:pre-wrap>'Los barrios con el código postal 28012 son:  Sol, Acacias, Palos de Moguer, Embajadores, Cortes, Palacio, Universidad, Delicias, Arapiles, Atocha, Goya'</span>"
      ],
      "text/plain": [
       "[1] \"Los barrios con el código postal 28012 son:  Sol, Acacias, Palos de Moguer, Embajadores, Cortes, Palacio, Universidad, Delicias, Arapiles, Atocha, Goya\""
      ]
     },
     "metadata": {},
     "output_type": "display_data"
    }
   ],
   "source": [
    "# Obtenemos los nombres (únicos) de los barrios que tienen el código postal 28012\n",
    "strBarrios = paste(as.character(na.omit(unique(airbnb$Barrio[airbnb$CodigoPostal == \"28012\"]))), collapse=', ')\n",
    "paste('Los barrios con el código postal 28012 son: ', strBarrios)"
   ]
  },
  {
   "cell_type": "markdown",
   "metadata": {},
   "source": [
    "¿Cuantas entradas hay en cada uno de esos barrios para el codigo postao 28012? Asumiendo que el identificador de Barrio sea correcto, ¿es fiable la columna de código postal?"
   ]
  },
  {
   "cell_type": "code",
   "execution_count": 12,
   "metadata": {},
   "outputs": [
    {
     "name": "stdout",
     "output_type": "stream",
     "text": [
      "[1] \"Con el resumen vemos el número de entradas en cada barrio del Código Postal 28012\"\n"
     ]
    },
    {
     "data": {
      "text/html": [
       "<style>\n",
       ".dl-inline {width: auto; margin:0; padding: 0}\n",
       ".dl-inline>dt, .dl-inline>dd {float: none; width: auto; display: inline-block}\n",
       ".dl-inline>dt::after {content: \":\\0020\"; padding-right: .5ex}\n",
       ".dl-inline>dt:not(:first-of-type) {padding-left: .5ex}\n",
       "</style><dl class=dl-inline><dt>Embajadores</dt><dd>1449</dd><dt>Sol</dt><dd>301</dd><dt>Cortes</dt><dd>216</dd><dt>Palos de Moguer</dt><dd>46</dd><dt>Palacio</dt><dd>27</dd><dt>Acacias</dt><dd>13</dd><dt>Universidad</dt><dd>4</dd><dt>Arapiles</dt><dd>1</dd><dt>Atocha</dt><dd>1</dd><dt>Delicias</dt><dd>1</dd><dt>Goya</dt><dd>1</dd></dl>\n"
      ],
      "text/latex": [
       "\\begin{description*}\n",
       "\\item[Embajadores] 1449\n",
       "\\item[Sol] 301\n",
       "\\item[Cortes] 216\n",
       "\\item[Palos de Moguer] 46\n",
       "\\item[Palacio] 27\n",
       "\\item[Acacias] 13\n",
       "\\item[Universidad] 4\n",
       "\\item[Arapiles] 1\n",
       "\\item[Atocha] 1\n",
       "\\item[Delicias] 1\n",
       "\\item[Goya] 1\n",
       "\\end{description*}\n"
      ],
      "text/markdown": [
       "Embajadores\n",
       ":   1449Sol\n",
       ":   301Cortes\n",
       ":   216Palos de Moguer\n",
       ":   46Palacio\n",
       ":   27Acacias\n",
       ":   13Universidad\n",
       ":   4Arapiles\n",
       ":   1Atocha\n",
       ":   1Delicias\n",
       ":   1Goya\n",
       ":   1\n",
       "\n"
      ],
      "text/plain": [
       "    Embajadores             Sol          Cortes Palos de Moguer         Palacio \n",
       "           1449             301             216              46              27 \n",
       "        Acacias     Universidad        Arapiles          Atocha        Delicias \n",
       "             13               4               1               1               1 \n",
       "           Goya \n",
       "              1 "
      ]
     },
     "metadata": {},
     "output_type": "display_data"
    },
    {
     "name": "stdout",
     "output_type": "stream",
     "text": [
      "[1] \"No creo fiable la columna Código Postal, porque parece que estos barrios no son limitrofes unos con otros. Tal y como se puede comprobar en cualquier mapa de los barrios de Madrid.\"\n"
     ]
    }
   ],
   "source": [
    "# Creamos un DataFrame con las columnas Barrio y CodigoPostal\n",
    "dfBarrio <- na.omit(airbnb[airbnb$CodigoPostal == '28012' , c(\"Barrio\", \"CodigoPostal\")])\n",
    "print(\"Con el resumen vemos el número de entradas en cada barrio del Código Postal 28012\")\n",
    "summary(dfBarrio$Barrio)[as.numeric(summary(dfBarrio$Barrio)) > 0]\n",
    "\n",
    "print(\n",
    "    paste(\n",
    "        \"No creo fiable la columna Código Postal, porque parece que estos barrios no son limitrofes unos con otros.\",\n",
    "        \"Tal y como se puede comprobar en cualquier mapa de los barrios de Madrid.\"\n",
    "    )\n",
    ")\n"
   ]
  },
  {
   "cell_type": "markdown",
   "metadata": {},
   "source": [
    "¿Cuantos barrios hay en todo el dataset airbnb? ¿Cuales son?"
   ]
  },
  {
   "cell_type": "code",
   "execution_count": 13,
   "metadata": {},
   "outputs": [
    {
     "name": "stdout",
     "output_type": "stream",
     "text": [
      "[1] \"Hay  125  barrios distintos en el dataset AirBNB:  Abrantes, Acacias, Adelfas, Aeropuerto, Aguilas, Alameda de Osuna, Almagro, Almenara, Almendrales, Aluche, Ambroz, Amposta, Apostol Santiago, Arapiles, Aravaca, Arcos, Argüelles, Atocha, Bellas Vistas, Berruguete, Buenavista, Butarque, Campamento, Canillas, Canillejas, Cármenes, Casa de Campo, Casco Histórico de Barajas, Casco Histórico de Vallecas, Casco Histórico de Vicálvaro, Castellana, Castilla, Castillejos, Chopera, Ciudad Jardín, Ciudad Universitaria, Colina, Comillas, Concepción, Corralejos, Cortes, Costillares, Cuatro Caminos, Cuatro Vientos, Delicias, El Goloso, El Plantío, El Viso, Embajadores, Entrevías, Estrella, Fontarrón, Fuente del Berro, Fuentelareina, Gaztambide, Goya, Guindalera, Hellín, Hispanoamérica, Ibiza, Imperial, Jerónimos, Justicia, La Paz, Legazpi, Lista, Los Angeles, Los Rosales, Lucero, Marroquina, Media Legua, Mirasierra, Moscardó, Niño Jesús, Nueva España, Numancia, Opañel, Orcasitas, Orcasur, Pacífico, Palacio, Palomas, Palomeras Bajas, Palomeras Sureste, Palos de Moguer, Pavones, Peñagrande, Pilar, Pinar del Rey, Piovera, Portazgo, Pradolongo, Prosperidad, Pueblo Nuevo, Puerta Bonita, Puerta del Angel, Quintana, Recoletos, Rejas, Rios Rosas, Rosas, Salvador, San Andrés, San Cristobal, San Diego, San Fermín, San Isidro, San Juan Bautista, San Pascual, Santa Eugenia, Simancas, Sol, Timón, Trafalgar, Universidad, Valdeacederas, Valdefuentes, Valdemarín, Valdezarza, Vallehermoso, Valverde, Ventas, Vinateros, Vista Alegre, Zofío\"\n"
     ]
    }
   ],
   "source": [
    "print( paste( \"Hay \", \n",
    "             length(levels(airbnb$Barrio)), \n",
    "             \" barrios distintos en el dataset AirBNB: \", \n",
    "             paste(levels(airbnb$Barrio), collapse=', ')))"
   ]
  },
  {
   "cell_type": "markdown",
   "metadata": {},
   "source": [
    "¿Cuales son los 5 barrios que tienen mayor número entradas?"
   ]
  },
  {
   "cell_type": "code",
   "execution_count": 14,
   "metadata": {},
   "outputs": [
    {
     "data": {
      "text/html": [
       "<span style=white-space:pre-wrap>'Los 5 barrios con mayor número de entradas son:  Embajadores, Universidad, Palacio, Sol, Justicia'</span>"
      ],
      "text/latex": [
       "'Los 5 barrios con mayor número de entradas son:  Embajadores, Universidad, Palacio, Sol, Justicia'"
      ],
      "text/markdown": [
       "<span style=white-space:pre-wrap>'Los 5 barrios con mayor número de entradas son:  Embajadores, Universidad, Palacio, Sol, Justicia'</span>"
      ],
      "text/plain": [
       "[1] \"Los 5 barrios con mayor número de entradas son:  Embajadores, Universidad, Palacio, Sol, Justicia\""
      ]
     },
     "metadata": {},
     "output_type": "display_data"
    }
   ],
   "source": [
    "tablaBarrios <- table(airbnb$Barrio)\n",
    "paste(\"Los 5 barrios con mayor número de entradas son: \", \n",
    "      paste(names(tablaBarrios[order(-tablaBarrios)][1:5]), collapse=', '))"
   ]
  },
  {
   "cell_type": "markdown",
   "metadata": {},
   "source": [
    "¿Cuantos Tipos de Alquiler diferentes hay? ¿Cuales son? ¿Cuantas entradas en el dataframe hay por cada tipo?"
   ]
  },
  {
   "cell_type": "code",
   "execution_count": 15,
   "metadata": {},
   "outputs": [
    {
     "name": "stdout",
     "output_type": "stream",
     "text": [
      "[1] \"Hay  3  tipos distintos de alquileres:  Entire home/apt, Private room, Shared room\"\n",
      "[1] \"Entire home/apt  tiene  7903  entradas.\"\n",
      "[1] \"Private room  tiene  5113  entradas.\"\n",
      "[1] \"Shared room  tiene  191  entradas.\"\n"
     ]
    }
   ],
   "source": [
    "tablaTipoAlquiler <- table(airbnb$TipoAlquiler)\n",
    "print(\n",
    "    paste(\n",
    "        \"Hay \",\n",
    "        length(names(tablaTipoAlquiler)),\n",
    "        \" tipos distintos de alquileres: \",\n",
    "        paste(names(tablaTipoAlquiler), collapse = ', ')\n",
    "    )\n",
    ")\n",
    "for(i in 1:length(names(tablaTipoAlquiler))){\n",
    "    print(paste(names(tablaTipoAlquiler)[i], \" tiene \", as.numeric(tablaTipoAlquiler)[i], \" entradas.\"))\n",
    "}"
   ]
  },
  {
   "cell_type": "markdown",
   "metadata": {},
   "source": [
    "Muestra el diagrama de cajas del precio para cada uno de los diferentes Tipos de Alquiler"
   ]
  },
  {
   "cell_type": "code",
   "execution_count": 16,
   "metadata": {},
   "outputs": [
    {
     "name": "stderr",
     "output_type": "stream",
     "text": [
      "Warning message:\n",
      "“Removed 9 rows containing non-finite values (stat_boxplot).”\n"
     ]
    },
    {
     "data": {
      "text/plain": [
       "List of 1\n",
       " $ text:List of 11\n",
       "  ..$ family       : NULL\n",
       "  ..$ face         : NULL\n",
       "  ..$ colour       : NULL\n",
       "  ..$ size         : num 20\n",
       "  ..$ hjust        : NULL\n",
       "  ..$ vjust        : NULL\n",
       "  ..$ angle        : NULL\n",
       "  ..$ lineheight   : NULL\n",
       "  ..$ margin       : NULL\n",
       "  ..$ debug        : NULL\n",
       "  ..$ inherit.blank: logi FALSE\n",
       "  ..- attr(*, \"class\")= chr [1:2] \"element_text\" \"element\"\n",
       " - attr(*, \"class\")= chr [1:2] \"theme\" \"gg\"\n",
       " - attr(*, \"complete\")= logi FALSE\n",
       " - attr(*, \"validate\")= logi TRUE"
      ]
     },
     "metadata": {},
     "output_type": "display_data"
    },
    {
     "data": {
      "image/png": "[encoded data removed]",
      "text/plain": [
       "plot without title"
      ]
     },
     "metadata": {
      "image/png": {
       "height": 600,
       "width": 840
      },
      "text/plain": {
       "height": 600,
       "width": 840
      }
     },
     "output_type": "display_data"
    }
   ],
   "source": [
    "options(repr.plot.height=10,repr.plot.width=14)\n",
    "ggplot(data=airbnb,aes(x=TipoAlquiler, y=Precio,color=TipoAlquiler))+geom_boxplot()+\n",
    " scale_color_discrete(name=\"Tipos Alquiler\")\n",
    "theme(tex=element_text(size=20))"
   ]
  },
  {
   "cell_type": "markdown",
   "metadata": {},
   "source": [
    "Cual es el precio medio de alquiler medio de cada uno, la diferencia que hay ¿es estadísticamente significativa?\n",
    "¿Con que test lo comprobarías?"
   ]
  },
  {
   "cell_type": "code",
   "execution_count": 17,
   "metadata": {},
   "outputs": [
    {
     "name": "stdout",
     "output_type": "stream",
     "text": [
      "[1] \"Precio Medio por cada tipo de alquiler: \"\n",
      "Entire home/apt    Private room     Shared room \n",
      "          65.27           66.35           66.16 \n",
      "[1] \"Asumiendo el valor de Shapiro: 0.32  como un valor suficientemente alto como para considerar que podemos estar frente a una distribución Gaussiana.  Usamos el test ANOVA por tener más de 2 valores para el estudio.\"\n"
     ]
    },
    {
     "data": {
      "text/plain": [
       "               Df   Sum Sq Mean Sq F value Pr(>F)\n",
       "cl              2     2933    1467   0.468  0.627\n",
       "Residuals   13195 41395500    3137               "
      ]
     },
     "metadata": {},
     "output_type": "display_data"
    },
    {
     "name": "stdout",
     "output_type": "stream",
     "text": [
      "[1] \"Tras el Test ANOVA, no se aprecia una diferencia estadística significativa.  El test nos devuelve un p-valor de 0.627, no es un resultado alto.\"\n"
     ]
    }
   ],
   "source": [
    "# Creo un dataframe con los datos que quiero analizar\n",
    "dfAlquilerPrecio <- airbnb[, c(\"TipoAlquiler\", \"Precio\")]\n",
    "\n",
    "#Creo un vector para ir poniendo los precios medios de cada tipo de alquiler\n",
    "vectorMedias <- c(0, 0, 0)\n",
    "names(vectorMedias) <- levels(dfAlquilerPrecio$TipoAlquiler)\n",
    "#Asigno el valor a cada uno de los tipos de alquiler\n",
    "for (name in names(vectorMedias)){\n",
    "    vectorMedias[name] = round( mean(na.omit(dfAlquilerPrecio[levels(dfAlquilerPrecio$TipoAlquiler) == name, \"Precio\"])), 2 )\n",
    "}\n",
    "#Podemos comprobar el resultado\n",
    "print(\"Precio Medio por cada tipo de alquiler: \")\n",
    "print(vectorMedias)\n",
    "#vectorMedias\n",
    "print(\n",
    "    paste(\n",
    "        \"Asumiendo el valor de Shapiro:\",\n",
    "        round(as.numeric(shapiro.test(vectorMedias)[\"p.value\"]), 2),\n",
    "        \" como un valor suficientemente alto como para considerar que podemos estar frente a una distribución Gaussiana.\",\n",
    "        \" Usamos el test ANOVA por tener más de 2 valores para el estudio.\"\n",
    "    )\n",
    ")\n",
    "\n",
    "# Realizamos los cálculos para hacer el test Anova\n",
    "vectorElementosEntire <- na.omit(dfAlquilerPrecio$Precio[levels(dfAlquilerPrecio$TipoAlquiler) == 'Entire home/apt'])\n",
    "vectorElementosPrivate <- na.omit(dfAlquilerPrecio$Precio[levels(dfAlquilerPrecio$TipoAlquiler) == 'Private room'])\n",
    "vectorElementosShared <- na.omit(dfAlquilerPrecio$Precio[levels(dfAlquilerPrecio$TipoAlquiler) == 'Shared room'])\n",
    "\n",
    "dfValoresUnidos <- rbind(\n",
    "    data.frame(value=vectorElementosEntire,cl='Entire'),\n",
    "    data.frame(value=vectorElementosPrivate,cl='Private'),\n",
    "    data.frame(value=vectorElementosShared,cl='Shared'))\n",
    "\n",
    "summary(aov( value ~ cl, data=dfValoresUnidos))\n",
    "\n",
    "print(\n",
    "    paste(\n",
    "        \"Tras el Test ANOVA, no se aprecia una diferencia estadística significativa. \",\n",
    "        \"El test nos devuelve un p-valor de 0.627, no es un resultado alto.\"\n",
    "    )\n",
    ")"
   ]
  },
  {
   "cell_type": "markdown",
   "metadata": {},
   "source": [
    "Filtra el dataframe cuyos tipo de alquiler sea  'Entire home/apt' y guardalo en un dataframe llamado \n",
    "*airbnb_entire*.\n",
    "Estas serán las entradas que tienen un alquiler del piso completo."
   ]
  },
  {
   "cell_type": "code",
   "execution_count": 18,
   "metadata": {},
   "outputs": [
    {
     "data": {
      "text/plain": [
       "  CodigoPostal          Barrio                TipoPropiedad \n",
       " 28012  :1435   Embajadores:1228   Apartment         :6995  \n",
       " 28004  :1271   Universidad: 984   House             : 327  \n",
       " 28005  : 803   Palacio    : 769   Loft              : 250  \n",
       " 28013  : 721   Sol        : 701   Condominium       : 188  \n",
       " 28014  : 473   Cortes     : 574   Other             : 111  \n",
       " (Other):2979   Justicia   : 534   Serviced apartment:  11  \n",
       " NA's   : 221   (Other)    :3113   (Other)           :  21  \n",
       "          TipoAlquiler   MaxOcupantes      NumBanyos     NumDormitorios  \n",
       " Entire home/apt:7903   Min.   : 1.000   Min.   :0.000   Min.   : 0.000  \n",
       " Private room   :   0   1st Qu.: 3.000   1st Qu.:1.000   1st Qu.: 1.000  \n",
       " Shared room    :   0   Median : 4.000   Median :1.000   Median : 1.000  \n",
       "                        Mean   : 4.051   Mean   :1.241   Mean   : 1.463  \n",
       "                        3rd Qu.: 5.000   3rd Qu.:1.000   3rd Qu.: 2.000  \n",
       "                        Max.   :16.000   Max.   :6.500   Max.   :10.000  \n",
       "                                         NA's   :14      NA's   :9       \n",
       "    NumCamas               TipoCama   \n",
       " Min.   : 1.000   Airbed       :   4  \n",
       " 1st Qu.: 1.000   Couch        :  11  \n",
       " Median : 2.000   Futon        :  12  \n",
       " Mean   : 2.374   Pull-out Sofa: 179  \n",
       " 3rd Qu.: 3.000   Real Bed     :7697  \n",
       " Max.   :16.000                       \n",
       " NA's   :9                            \n",
       "                                                                                                                                                                                                                        Comodidades  \n",
       " TV,Internet,Wireless Internet,Air conditioning,Kitchen,Elevator in building,Buzzer/wireless intercom,Heating,Family/kid friendly,Washer,Essentials,Hangers,Hair dryer,Iron,Laptop friendly workspace                         :  41  \n",
       " TV,Wireless Internet,Air conditioning,Kitchen,Elevator in building,Heating,Family/kid friendly,Washer,Dryer,Essentials,Shampoo,Hangers,Hair dryer,Iron                                                                       :  34  \n",
       "                                                                                                                                                                                                                              :  29  \n",
       " TV,Internet,Wireless Internet,Air conditioning,Kitchen,Elevator in building,Buzzer/wireless intercom,Heating,Family/kid friendly,Washer,Essentials,Shampoo,24-hour check-in,Hangers,Hair dryer,Iron,Laptop friendly workspace:  28  \n",
       " TV,Wireless Internet,Air conditioning,Kitchen,Smoking allowed,Pets allowed,Elevator in building,Heating,Family/kid friendly,Washer,Essentials,Iron                                                                           :  18  \n",
       " TV,Internet,Wireless Internet,Air conditioning,Kitchen,Elevator in building,Buzzer/wireless intercom,Heating,Family/kid friendly,Washer,Essentials,Hangers,Hair dryer,Iron                                                   :  17  \n",
       " (Other)                                                                                                                                                                                                                      :7736  \n",
       " PiesCuadrados        Precio        Puntuacion     MetrosCuadrados \n",
       " Min.   :   0.0   Min.   : 10.0   Min.   : 20.00   Min.   :  0.00  \n",
       " 1st Qu.:   0.0   1st Qu.: 55.0   1st Qu.: 88.00   1st Qu.:  0.00  \n",
       " Median : 291.0   Median : 71.0   Median : 93.00   Median : 27.04  \n",
       " Mean   : 401.5   Mean   : 87.3   Mean   : 91.47   Mean   : 37.30  \n",
       " 3rd Qu.: 646.0   3rd Qu.: 99.0   3rd Qu.: 97.00   3rd Qu.: 60.02  \n",
       " Max.   :5167.0   Max.   :875.0   Max.   :100.00   Max.   :480.03  \n",
       " NA's   :7546     NA's   :7       NA's   :1273     NA's   :7546    "
      ]
     },
     "metadata": {},
     "output_type": "display_data"
    }
   ],
   "source": [
    "# Crear un dataframe con todos los registros cuyo tipo de alquiler sea  'Entire home/apt'\n",
    "airbnb_entire <- airbnb[ airbnb$TipoAlquiler ==  'Entire home/apt' ,]\n",
    "summary(airbnb_entire)"
   ]
  },
  {
   "cell_type": "markdown",
   "metadata": {},
   "source": [
    "¿Cuales son los 5 barrios que tienen un mayor número de apartamentos enteros en alquiler?\n",
    "Nota: Mirar solo en airbnb_entire"
   ]
  },
  {
   "cell_type": "code",
   "execution_count": 19,
   "metadata": {
    "scrolled": true
   },
   "outputs": [
    {
     "data": {
      "text/html": [
       "<span style=white-space:pre-wrap>'Los 5 barrios con mayor número de entradas son:  Embajadores, Universidad, Palacio, Sol, Cortes'</span>"
      ],
      "text/latex": [
       "'Los 5 barrios con mayor número de entradas son:  Embajadores, Universidad, Palacio, Sol, Cortes'"
      ],
      "text/markdown": [
       "<span style=white-space:pre-wrap>'Los 5 barrios con mayor número de entradas son:  Embajadores, Universidad, Palacio, Sol, Cortes'</span>"
      ],
      "text/plain": [
       "[1] \"Los 5 barrios con mayor número de entradas son:  Embajadores, Universidad, Palacio, Sol, Cortes\""
      ]
     },
     "metadata": {},
     "output_type": "display_data"
    }
   ],
   "source": [
    "tablaBarriosEntire <- table(airbnb_entire$Barrio)\n",
    "paste(\"Los 5 barrios con mayor número de entradas son: \", \n",
    "      paste(names(tablaBarriosEntire[order(-tablaBarriosEntire)][1:5]), collapse=', '))"
   ]
  },
  {
   "cell_type": "markdown",
   "metadata": {},
   "source": [
    "¿Cuales son los 5 barrios que tienen un mayor precio medio de alquiler para apartamentos enteros?\n",
    "\n",
    "¿Cual es su precio medio?\n",
    "\n",
    "Ayuda: Usa la función aggregate `aggregate(.~colname,df,mean,na.rm=TRUE)`"
   ]
  },
  {
   "cell_type": "code",
   "execution_count": 20,
   "metadata": {},
   "outputs": [
    {
     "name": "stdout",
     "output_type": "stream",
     "text": [
      "[1] \"Los 5 barrios con mayor precio medio y su valor son: \"\n",
      "      Palomas Fuentelareina     Recoletos    El Plantío    Castellana \n",
      "       309.75        180.00        161.93        150.00        141.39 \n"
     ]
    }
   ],
   "source": [
    "# Creo un dataframe para tener los datos que necesito\n",
    "dfBarriosPrecio <- airbnb_entire[, c('Barrio', 'Precio')]\n",
    "#Obtengo por barrio el precio medio\n",
    "dfBarrioPrecioMedio <- aggregate(Precio ~ Barrio, dfBarriosPrecio, mean, na.rm = T )\n",
    "# Inserto los datos en un vector para mejorar la facilidad a la hora de la presentación\n",
    "vectorBarriosMasCaros <- round( c(dfBarrioPrecioMedio[order(-dfBarrioPrecioMedio$Precio), 'Precio'][1:5]), 2)\n",
    "names(vectorBarriosMasCaros) <- c(as.character(dfBarrioPrecioMedio[order(-dfBarrioPrecioMedio$Precio), 'Barrio'][1:5]))\n",
    "print(\"Los 5 barrios con mayor precio medio y su valor son: \")\n",
    "print(vectorBarriosMasCaros)\n",
    "\n",
    "\n"
   ]
  },
  {
   "cell_type": "markdown",
   "metadata": {},
   "source": [
    "¿Cuantos apartamentos hay en cada uno de esos barrios?\n",
    "\n",
    "Mostrar una dataframe con el nombre del barrio, el precio y el número de entradas.\n",
    "\n",
    "Ayuda: Podeis crear un nuevo dataframe con las columnas \"Barrio\" y \"Freq\" que contenga el número de entradas en cada barrio y hacer un merge con el dataframe del punto anterior."
   ]
  },
  {
   "cell_type": "code",
   "execution_count": 21,
   "metadata": {},
   "outputs": [
    {
     "name": "stdout",
     "output_type": "stream",
     "text": [
      "[1] \"El DataFrame resultante de unir los precios medios de los barrios y los números de apartamentos por barrio es: \"\n",
      "'data.frame':\t119 obs. of  3 variables:\n",
      " $ Barrio    : Factor w/ 125 levels \"Abrantes\",\"Acacias\",..: 1 2 3 4 5 6 7 8 9 10 ...\n",
      " $ Frecuencia: num  3 61 33 2 2 4 97 25 18 9 ...\n",
      " $ Precio    : num  46 68.2 68.7 38 54.5 ...\n"
     ]
    },
    {
     "data": {
      "text/plain": [
       "              Barrio      Frecuencia          Precio      \n",
       " Abrantes        :  1   Min.   :   1.00   Min.   : 31.50  \n",
       " Acacias         :  1   1st Qu.:   5.00   1st Qu.: 58.69  \n",
       " Adelfas         :  1   Median :  14.00   Median : 71.58  \n",
       " Aeropuerto      :  1   Mean   :  66.41   Mean   : 79.17  \n",
       " Aguilas         :  1   3rd Qu.:  42.00   3rd Qu.: 90.89  \n",
       " Alameda de Osuna:  1   Max.   :1228.00   Max.   :309.75  \n",
       " (Other)         :113                                     "
      ]
     },
     "metadata": {},
     "output_type": "display_data"
    }
   ],
   "source": [
    "# Usaremos una tabla para conseguir los datos de los conteos\n",
    "tablaBarrios <- table(airbnb_entire[, c('Barrio')])\n",
    "# Creamos un data frame con esos datos\n",
    "dfBarriosFreq <- data.frame(Barrio=names(tablaBarrios), Frecuencia=as.numeric(tablaBarrios))\n",
    "# Hacemos un merge por el campo en común (Barrio)\n",
    "dfBarriosPrecioFreq <- merge(dfBarriosFreq, dfBarrioPrecioMedio, by='Barrio')\n",
    "print(\"El DataFrame resultante de unir los precios medios de los barrios y los números de apartamentos por barrio es: \")\n",
    "str(dfBarriosPrecioFreq)\n",
    "summary(dfBarriosPrecioFreq)\n"
   ]
  },
  {
   "cell_type": "markdown",
   "metadata": {},
   "source": [
    "Partiendo del dataframe anterior, muestra los 5 barrios con mayor precio, pero que tengan más de 100 entradas de alquiler."
   ]
  },
  {
   "cell_type": "code",
   "execution_count": 22,
   "metadata": {},
   "outputs": [
    {
     "data": {
      "text/html": [
       "<table>\n",
       "<caption>A data.frame: 5 × 3</caption>\n",
       "<thead>\n",
       "\t<tr><th></th><th scope=col>Barrio</th><th scope=col>Frecuencia</th><th scope=col>Precio</th></tr>\n",
       "\t<tr><th></th><th scope=col>&lt;fct&gt;</th><th scope=col>&lt;dbl&gt;</th><th scope=col>&lt;dbl&gt;</th></tr>\n",
       "</thead>\n",
       "<tbody>\n",
       "\t<tr><th scope=row>93</th><td>Recoletos</td><td>135</td><td>161.92537</td></tr>\n",
       "\t<tr><th scope=row>52</th><td>Goya     </td><td>142</td><td>111.33803</td></tr>\n",
       "\t<tr><th scope=row>106</th><td>Sol      </td><td>701</td><td>100.75036</td></tr>\n",
       "\t<tr><th scope=row>108</th><td>Trafalgar</td><td>223</td><td> 98.57848</td></tr>\n",
       "\t<tr><th scope=row>59</th><td>Justicia </td><td>534</td><td> 98.25468</td></tr>\n",
       "</tbody>\n",
       "</table>\n"
      ],
      "text/latex": [
       "A data.frame: 5 × 3\n",
       "\\begin{tabular}{r|lll}\n",
       "  & Barrio & Frecuencia & Precio\\\\\n",
       "  & <fct> & <dbl> & <dbl>\\\\\n",
       "\\hline\n",
       "\t93 & Recoletos & 135 & 161.92537\\\\\n",
       "\t52 & Goya      & 142 & 111.33803\\\\\n",
       "\t106 & Sol       & 701 & 100.75036\\\\\n",
       "\t108 & Trafalgar & 223 &  98.57848\\\\\n",
       "\t59 & Justicia  & 534 &  98.25468\\\\\n",
       "\\end{tabular}\n"
      ],
      "text/markdown": [
       "\n",
       "A data.frame: 5 × 3\n",
       "\n",
       "| <!--/--> | Barrio &lt;fct&gt; | Frecuencia &lt;dbl&gt; | Precio &lt;dbl&gt; |\n",
       "|---|---|---|---|\n",
       "| 93 | Recoletos | 135 | 161.92537 |\n",
       "| 52 | Goya      | 142 | 111.33803 |\n",
       "| 106 | Sol       | 701 | 100.75036 |\n",
       "| 108 | Trafalgar | 223 |  98.57848 |\n",
       "| 59 | Justicia  | 534 |  98.25468 |\n",
       "\n"
      ],
      "text/plain": [
       "    Barrio    Frecuencia Precio   \n",
       "93  Recoletos 135        161.92537\n",
       "52  Goya      142        111.33803\n",
       "106 Sol       701        100.75036\n",
       "108 Trafalgar 223         98.57848\n",
       "59  Justicia  534         98.25468"
      ]
     },
     "metadata": {},
     "output_type": "display_data"
    }
   ],
   "source": [
    "# Para mejorar la legibilidad creamos un dataframe primero con los datos cuya frecuencia sean mayor a 100\n",
    "dfBarriosPrecioFreqMayorA100 <- dfBarriosPrecioFreq[dfBarriosPrecioFreq$Frecuencia > 100,]\n",
    "# Ahora ordenamos por el precio de mayor a menor y nos quedamos con los 5 primeros\n",
    "dfBarriosPrecioFreqMayorA100[order(-dfBarriosPrecioFreqMayorA100$Precio), ][1:5,]"
   ]
  },
  {
   "cell_type": "markdown",
   "metadata": {},
   "source": [
    "Dibuja el diagrama de densidad de distribución de los diferentes precios"
   ]
  },
  {
   "cell_type": "code",
   "execution_count": 23,
   "metadata": {},
   "outputs": [
    {
     "data": {
      "image/png": "[encoded data removed]",
      "text/plain": [
       "plot without title"
      ]
     },
     "metadata": {
      "image/png": {
       "height": 600,
       "width": 840
      },
      "text/plain": {
       "height": 600,
       "width": 840
      }
     },
     "output_type": "display_data"
    }
   ],
   "source": [
    "#El gráfico de densidad de los precios\n",
    "ggplot(dfBarriosPrecioFreqMayorA100, aes(x=Precio))+geom_density()+theme_bw()\n"
   ]
  },
  {
   "cell_type": "markdown",
   "metadata": {},
   "source": [
    "Calcula el tamaño medio, en metros cuadrados, para los 5 barrios anteriores y muestralo en el mismo dataframe junto con el precio y número de entradas"
   ]
  },
  {
   "cell_type": "code",
   "execution_count": 24,
   "metadata": {},
   "outputs": [
    {
     "name": "stdout",
     "output_type": "stream",
     "text": [
      "     Barrio Frecuencia    Precio MetrosCuadrados\n",
      "1      Goya        142 111.33803       169.57040\n",
      "2  Justicia        534  98.25468        93.59153\n",
      "3 Recoletos        135 161.92537        87.47760\n",
      "4       Sol        701 100.75036       149.66188\n",
      "5 Trafalgar        223  98.57848        96.14263\n"
     ]
    }
   ],
   "source": [
    "# Creo un dataframe para tener los 5 barrios más caros\n",
    "dfBarriosMasCaros <- dfBarriosPrecioFreqMayorA100[order(-dfBarriosPrecioFreqMayorA100$Precio), ][1:5,]\n",
    "#Creo un dataframe con los datos de los pies al cuadrado, los convierto a metros y luego elimino la columna de pies\n",
    "dfBarriosMedidas <- airbnb_entire[, c('Barrio', 'PiesCuadrados')]\n",
    "dfBarriosMedidas$MetrosCuadrados <- dfBarriosMedidas$PiesCuadrados * 0.3048\n",
    "dfBarriosMedidas$PiesCuadrados<-NULL\n",
    "# Saco la media de los metros cuadrados por barrio\n",
    "dfBarriosMedidas <- aggregate(MetrosCuadrados ~ Barrio, dfBarriosMedidas, mean, na.rm = T )\n",
    "# Hago un merge con el dataframe de los barrios más caros\n",
    "dfBarriosPreciosMedidas <- merge(dfBarriosMasCaros, dfBarriosMedidas, by='Barrio')\n",
    "print(dfBarriosPreciosMedidas)\n"
   ]
  },
  {
   "cell_type": "markdown",
   "metadata": {},
   "source": [
    "Dibuja el diagrama de densidad de distribución de los diferentes tamaños de apartamentos"
   ]
  },
  {
   "cell_type": "code",
   "execution_count": 25,
   "metadata": {},
   "outputs": [
    {
     "data": {
      "image/png": "[encoded data removed]",
      "text/plain": [
       "plot without title"
      ]
     },
     "metadata": {
      "image/png": {
       "height": 600,
       "width": 840
      },
      "text/plain": {
       "height": 600,
       "width": 840
      }
     },
     "output_type": "display_data"
    }
   ],
   "source": [
    "ggplot(dfBarriosPreciosMedidas, aes(x=MetrosCuadrados))+geom_density()+theme_bw()"
   ]
  },
  {
   "cell_type": "markdown",
   "metadata": {},
   "source": [
    "Esta claro que las medias de cada uno de estos 5 barrios parecen ser diferentes, pero ¿son estadísticamente diferentes?\n",
    "¿Que test habría que usar para comprobarlo?"
   ]
  },
  {
   "cell_type": "code",
   "execution_count": 26,
   "metadata": {},
   "outputs": [
    {
     "name": "stdout",
     "output_type": "stream",
     "text": [
      "[1] \"Asumiendo el valor de Shapiro: 0.12  como un valor no suficientemente alto como para considerar que podemos estar frente a una distribución Gaussiana.  Usamos el test kruskal para el estudio.\"\n",
      " num [1:5] 169.6 93.6 87.5 149.7 96.1\n"
     ]
    },
    {
     "data": {
      "text/plain": [
       "\n",
       "\tKruskal-Wallis rank sum test\n",
       "\n",
       "data:  value by cl\n",
       "Kruskal-Wallis chi-squared = 1.1976, df = 2, p-value = 0.5495\n"
      ]
     },
     "metadata": {},
     "output_type": "display_data"
    },
    {
     "name": "stdout",
     "output_type": "stream",
     "text": [
      "[1] \"El test Kruskal nos dice que el valor de p es de 0.55, entendemos que sí son medias estadísticamente diferentes.\"\n"
     ]
    }
   ],
   "source": [
    "print(\n",
    "    paste(\n",
    "        \"Asumiendo el valor de Shapiro:\",\n",
    "        round(as.numeric(shapiro.test(dfBarriosPreciosMedidas$MetrosCuadrados)[\"p.value\"]), 2),\n",
    "        \" como un valor no suficientemente alto como para considerar que podemos estar frente a una distribución Gaussiana.\",\n",
    "        \" Usamos el test kruskal para el estudio.\"\n",
    "    )\n",
    ")\n",
    "\n",
    "# Realizamos los cálculos para hacer el test Anova\n",
    "vectorElementos <- dfBarriosPreciosMedidas$MetrosCuadrados\n",
    "str(vectorElementos)\n",
    "\n",
    "dfElementos <- data.frame(value=vectorElementos,cl='MetrosCuadrados')\n",
    "\n",
    "kruskal.test( value ~ cl, data=dfValoresUnidos)\n",
    "\n",
    "print('El test Kruskal nos dice que el valor de p es de 0.55, entendemos que sí son medias estadísticamente diferentes.')\n",
    "\n"
   ]
  },
  {
   "cell_type": "markdown",
   "metadata": {},
   "source": [
    "Para únicamente los pisos de alquiler en el barrio de Sol:\n",
    "\n",
    "``barrio_sol<-subset(airbnb_entire,Barrio==\"Sol\")``\n",
    "\n",
    "Calcular un modelo lineal que combine alguna de estas variables:\n",
    "* NumBanyos\n",
    "* NumDormitorios\n",
    "* MaxOcupantes\n",
    "* MetrosCuadrados"
   ]
  },
  {
   "cell_type": "code",
   "execution_count": 27,
   "metadata": {},
   "outputs": [
    {
     "data": {
      "text/html": [
       "<table>\n",
       "<caption>A matrix: 4 × 4 of type dbl</caption>\n",
       "<thead>\n",
       "\t<tr><th></th><th scope=col>numBanyos</th><th scope=col>numDormitorios</th><th scope=col>maxOcupantes</th><th scope=col>metrosCuadrados</th></tr>\n",
       "</thead>\n",
       "<tbody>\n",
       "\t<tr><th scope=row>numBanyos</th><td> 0.3883475</td><td> 0.5016949</td><td> 1.233898</td><td>  15.67569</td></tr>\n",
       "\t<tr><th scope=row>numDormitorios</th><td> 0.5016949</td><td> 1.3717514</td><td> 2.595480</td><td>  34.74173</td></tr>\n",
       "\t<tr><th scope=row>maxOcupantes</th><td> 1.2338983</td><td> 2.5954802</td><td> 7.961582</td><td>  63.10959</td></tr>\n",
       "\t<tr><th scope=row>metrosCuadrados</th><td>15.6756885</td><td>34.7417329</td><td>63.109585</td><td>2722.95099</td></tr>\n",
       "</tbody>\n",
       "</table>\n"
      ],
      "text/latex": [
       "A matrix: 4 × 4 of type dbl\n",
       "\\begin{tabular}{r|llll}\n",
       "  & numBanyos & numDormitorios & maxOcupantes & metrosCuadrados\\\\\n",
       "\\hline\n",
       "\tnumBanyos &  0.3883475 &  0.5016949 &  1.233898 &   15.67569\\\\\n",
       "\tnumDormitorios &  0.5016949 &  1.3717514 &  2.595480 &   34.74173\\\\\n",
       "\tmaxOcupantes &  1.2338983 &  2.5954802 &  7.961582 &   63.10959\\\\\n",
       "\tmetrosCuadrados & 15.6756885 & 34.7417329 & 63.109585 & 2722.95099\\\\\n",
       "\\end{tabular}\n"
      ],
      "text/markdown": [
       "\n",
       "A matrix: 4 × 4 of type dbl\n",
       "\n",
       "| <!--/--> | numBanyos | numDormitorios | maxOcupantes | metrosCuadrados |\n",
       "|---|---|---|---|---|\n",
       "| numBanyos |  0.3883475 |  0.5016949 |  1.233898 |   15.67569 |\n",
       "| numDormitorios |  0.5016949 |  1.3717514 |  2.595480 |   34.74173 |\n",
       "| maxOcupantes |  1.2338983 |  2.5954802 |  7.961582 |   63.10959 |\n",
       "| metrosCuadrados | 15.6756885 | 34.7417329 | 63.109585 | 2722.95099 |\n",
       "\n"
      ],
      "text/plain": [
       "                numBanyos  numDormitorios maxOcupantes metrosCuadrados\n",
       "numBanyos        0.3883475  0.5016949      1.233898      15.67569     \n",
       "numDormitorios   0.5016949  1.3717514      2.595480      34.74173     \n",
       "maxOcupantes     1.2338983  2.5954802      7.961582      63.10959     \n",
       "metrosCuadrados 15.6756885 34.7417329     63.109585    2722.95099     "
      ]
     },
     "metadata": {},
     "output_type": "display_data"
    }
   ],
   "source": [
    "barrio_sol <- subset(airbnb_entire, Barrio=='Sol')\n",
    "\n",
    "numBanyos <- barrio_sol$NumBanyos\n",
    "numDormitorios <- barrio_sol$NumDormitorios\n",
    "maxOcupantes <- barrio_sol$MaxOcupantes\n",
    "metrosCuadrados <- barrio_sol$MetrosCuadrados\n",
    "\n",
    "dfValoresBarrioSol <- data.frame(numBanyos, numDormitorios, maxOcupantes, metrosCuadrados)\n",
    "cov(dfValoresBarrioSol, use=\"complete.obs\")"
   ]
  },
  {
   "cell_type": "markdown",
   "metadata": {},
   "source": [
    "Primero calculamos la correlación para ver como se relacionan estas variables entre sí."
   ]
  },
  {
   "cell_type": "code",
   "execution_count": 28,
   "metadata": {},
   "outputs": [
    {
     "name": "stdout",
     "output_type": "stream",
     "text": [
      "[1] \"Según la correlación entre los diferentes datos, no nos podríamos fiar de los metros cuadrados.  No es lógico que exista tan poca correlación entre el número de mestros cuadrados en una casa y el número de baños, dormitorios.\"\n"
     ]
    },
    {
     "data": {
      "text/html": [
       "<table>\n",
       "<caption>A matrix: 4 × 4 of type dbl</caption>\n",
       "<thead>\n",
       "\t<tr><th></th><th scope=col>numBanyos</th><th scope=col>numDormitorios</th><th scope=col>maxOcupantes</th><th scope=col>metrosCuadrados</th></tr>\n",
       "</thead>\n",
       "<tbody>\n",
       "\t<tr><th scope=row>numBanyos</th><td>1.0000000</td><td>0.6873719</td><td>0.7017290</td><td>0.4820549</td></tr>\n",
       "\t<tr><th scope=row>numDormitorios</th><td>0.6873719</td><td>1.0000000</td><td>0.7853809</td><td>0.5684521</td></tr>\n",
       "\t<tr><th scope=row>maxOcupantes</th><td>0.7017290</td><td>0.7853809</td><td>1.0000000</td><td>0.4286233</td></tr>\n",
       "\t<tr><th scope=row>metrosCuadrados</th><td>0.4820549</td><td>0.5684521</td><td>0.4286233</td><td>1.0000000</td></tr>\n",
       "</tbody>\n",
       "</table>\n"
      ],
      "text/latex": [
       "A matrix: 4 × 4 of type dbl\n",
       "\\begin{tabular}{r|llll}\n",
       "  & numBanyos & numDormitorios & maxOcupantes & metrosCuadrados\\\\\n",
       "\\hline\n",
       "\tnumBanyos & 1.0000000 & 0.6873719 & 0.7017290 & 0.4820549\\\\\n",
       "\tnumDormitorios & 0.6873719 & 1.0000000 & 0.7853809 & 0.5684521\\\\\n",
       "\tmaxOcupantes & 0.7017290 & 0.7853809 & 1.0000000 & 0.4286233\\\\\n",
       "\tmetrosCuadrados & 0.4820549 & 0.5684521 & 0.4286233 & 1.0000000\\\\\n",
       "\\end{tabular}\n"
      ],
      "text/markdown": [
       "\n",
       "A matrix: 4 × 4 of type dbl\n",
       "\n",
       "| <!--/--> | numBanyos | numDormitorios | maxOcupantes | metrosCuadrados |\n",
       "|---|---|---|---|---|\n",
       "| numBanyos | 1.0000000 | 0.6873719 | 0.7017290 | 0.4820549 |\n",
       "| numDormitorios | 0.6873719 | 1.0000000 | 0.7853809 | 0.5684521 |\n",
       "| maxOcupantes | 0.7017290 | 0.7853809 | 1.0000000 | 0.4286233 |\n",
       "| metrosCuadrados | 0.4820549 | 0.5684521 | 0.4286233 | 1.0000000 |\n",
       "\n"
      ],
      "text/plain": [
       "                numBanyos numDormitorios maxOcupantes metrosCuadrados\n",
       "numBanyos       1.0000000 0.6873719      0.7017290    0.4820549      \n",
       "numDormitorios  0.6873719 1.0000000      0.7853809    0.5684521      \n",
       "maxOcupantes    0.7017290 0.7853809      1.0000000    0.4286233      \n",
       "metrosCuadrados 0.4820549 0.5684521      0.4286233    1.0000000      "
      ]
     },
     "metadata": {},
     "output_type": "display_data"
    }
   ],
   "source": [
    "numBanyos <- barrio_sol$NumBanyos\n",
    "numDormitorios <- barrio_sol$NumDormitorios\n",
    "maxOcupantes <- barrio_sol$MaxOcupantes\n",
    "metrosCuadrados <- barrio_sol$MetrosCuadrados\n",
    "\n",
    "print(\n",
    "    paste(\n",
    "        \"Según la correlación entre los diferentes datos, no nos podríamos fiar de los metros cuadrados. \",\n",
    "        \"No es lógico que exista tan poca correlación entre el número de mestros cuadrados en una casa y el número de baños, dormitorios.\"\n",
    "    )\n",
    ")\n",
    "corValores <- cor(cbind(numBanyos, numDormitorios, maxOcupantes, metrosCuadrados ), use=\"complete\" )\n",
    "corValores\n"
   ]
  },
  {
   "cell_type": "markdown",
   "metadata": {},
   "source": [
    "Se observa que la correlación entre el número de dormitorios y los metros cuadrados es sorprendentemente baja.\n",
    "¿Son de fiar esos números?\n",
    "\n",
    "Mediante un histograma o curvas de densidad podemos descartar números que notienen sentido en el dataframe barrio_sol,\n",
    "para tener una matriz de correlación que tenga mayor sentido.\n"
   ]
  },
  {
   "cell_type": "code",
   "execution_count": 29,
   "metadata": {},
   "outputs": [
    {
     "name": "stderr",
     "output_type": "stream",
     "text": [
      "Warning message:\n",
      "“Removed 641 rows containing non-finite values (stat_bin).”\n"
     ]
    },
    {
     "data": {
      "image/png": "[encoded data removed]",
      "text/plain": [
       "plot without title"
      ]
     },
     "metadata": {
      "image/png": {
       "height": 600,
       "width": 840
      },
      "text/plain": {
       "height": 600,
       "width": 840
      }
     },
     "output_type": "display_data"
    }
   ],
   "source": [
    "ggplot(data=dfValoresBarrioSol,aes(x=metrosCuadrados))+\n",
    "   theme(tex=element_text(size=20))+\n",
    "   geom_histogram(bins=20,fill='#7070BB',color=\"#2020EE\")+\n",
    "   xlab(\"Metros Cuadrados\")"
   ]
  },
  {
   "cell_type": "code",
   "execution_count": 30,
   "metadata": {},
   "outputs": [
    {
     "name": "stdout",
     "output_type": "stream",
     "text": [
      "[1] \"Tras analizar el Histograma, vamos a quedarnos con aquellos valores que tengan más de 50 metros cuadrados. Además vamos a eliminar los valores NA, no hay lógica para mantenerlos. Nuestros datos quedarían: \"\n"
     ]
    },
    {
     "data": {
      "text/html": [
       "<table>\n",
       "<caption>A data.frame: 23 × 14</caption>\n",
       "<thead>\n",
       "\t<tr><th></th><th scope=col>CodigoPostal</th><th scope=col>Barrio</th><th scope=col>TipoPropiedad</th><th scope=col>TipoAlquiler</th><th scope=col>MaxOcupantes</th><th scope=col>NumBanyos</th><th scope=col>NumDormitorios</th><th scope=col>NumCamas</th><th scope=col>TipoCama</th><th scope=col>Comodidades</th><th scope=col>PiesCuadrados</th><th scope=col>Precio</th><th scope=col>Puntuacion</th><th scope=col>MetrosCuadrados</th></tr>\n",
       "\t<tr><th></th><th scope=col>&lt;fct&gt;</th><th scope=col>&lt;fct&gt;</th><th scope=col>&lt;fct&gt;</th><th scope=col>&lt;fct&gt;</th><th scope=col>&lt;int&gt;</th><th scope=col>&lt;dbl&gt;</th><th scope=col>&lt;int&gt;</th><th scope=col>&lt;int&gt;</th><th scope=col>&lt;fct&gt;</th><th scope=col>&lt;fct&gt;</th><th scope=col>&lt;int&gt;</th><th scope=col>&lt;int&gt;</th><th scope=col>&lt;int&gt;</th><th scope=col>&lt;dbl&gt;</th></tr>\n",
       "</thead>\n",
       "<tbody>\n",
       "\t<tr><th scope=row>15</th><td>28013</td><td>Sol</td><td>Apartment</td><td>Entire home/apt</td><td> 4</td><td>1</td><td>1</td><td>1</td><td>Real Bed</td><td>TV,Wireless Internet,Air conditioning,Kitchen,Doorman,Elevator in building,Buzzer/wireless intercom,Heating,Family/kid friendly,Suitable for events,Washer,Essentials,Hangers,Hair dryer,Iron                                                                                                                                                </td><td> 646</td><td> 75</td><td> 91</td><td> 60.01534</td></tr>\n",
       "\t<tr><th scope=row>25</th><td>28012</td><td>Sol</td><td>Apartment</td><td>Entire home/apt</td><td> 4</td><td>1</td><td>1</td><td>1</td><td>Real Bed</td><td>TV,Cable TV,Internet,Wireless Internet,Air conditioning,Kitchen,Elevator in building,Buzzer/wireless intercom,Heating,Family/kid friendly,Washer,Essentials,Hair dryer,Iron                                                                                                                                                                  </td><td> 753</td><td>100</td><td> 87</td><td> 69.95596</td></tr>\n",
       "\t<tr><th scope=row>574</th><td>28014</td><td>Sol</td><td>Apartment</td><td>Entire home/apt</td><td> 8</td><td>2</td><td>4</td><td>5</td><td>Real Bed</td><td>TV,Internet,Wireless Internet,Air conditioning,Wheelchair accessible,Kitchen,Smoking allowed,Elevator in building,Buzzer/wireless intercom,Heating,Family/kid friendly,Washer,Fire extinguisher,Shampoo,Hangers,Iron,Laptop friendly workspace                                                                                               </td><td>2153</td><td>250</td><td> 99</td><td>200.02016</td></tr>\n",
       "\t<tr><th scope=row>690</th><td>28012</td><td>Sol</td><td>Apartment</td><td>Entire home/apt</td><td>10</td><td>2</td><td>2</td><td>6</td><td>Real Bed</td><td>TV,Wireless Internet,Air conditioning,Kitchen,Doorman,Elevator in building,Buzzer/wireless intercom,Heating,Family/kid friendly,Washer,Essentials                                                                                                                                                                                            </td><td>1453</td><td> 98</td><td> 94</td><td>134.98806</td></tr>\n",
       "\t<tr><th scope=row>1414</th><td>28013</td><td>Sol</td><td>Apartment</td><td>Entire home/apt</td><td> 4</td><td>1</td><td>1</td><td>2</td><td>Real Bed</td><td>TV,Internet,Wireless Internet,Air conditioning,Kitchen,Smoking allowed,Pets allowed,Pets live on this property,Cat(s),Buzzer/wireless intercom,Heating,Family/kid friendly,Washer,Essentials,Shampoo                                                                                                                                         </td><td> 915</td><td> 70</td><td>100</td><td> 85.00624</td></tr>\n",
       "\t<tr><th scope=row>1578</th><td>28013</td><td>Sol</td><td>Apartment</td><td>Entire home/apt</td><td> 3</td><td>1</td><td>0</td><td>1</td><td>Real Bed</td><td>TV,Internet,Wireless Internet,Air conditioning,Kitchen,Doorman,Elevator in building,Buzzer/wireless intercom,Heating,Family/kid friendly,Washer,Smoke detector,Carbon monoxide detector,First aid kit,Fire extinguisher,Essentials,Shampoo,24-hour check-in,Hangers,Hair dryer,Iron,Laptop friendly workspace,Private entrance               </td><td> 646</td><td> 45</td><td> 97</td><td> 60.01534</td></tr>\n",
       "\t<tr><th scope=row>2422</th><td>28012</td><td>Sol</td><td>Apartment</td><td>Entire home/apt</td><td> 8</td><td>1</td><td>2</td><td>6</td><td>Real Bed</td><td>TV,Wireless Internet,Air conditioning,Kitchen,Buzzer/wireless intercom,Heating,Family/kid friendly,Washer,Fire extinguisher,Essentials                                                                                                                                                                                                       </td><td> 883</td><td>145</td><td> 97</td><td> 82.03335</td></tr>\n",
       "\t<tr><th scope=row>3804</th><td>28005</td><td>Sol</td><td>Apartment</td><td>Entire home/apt</td><td> 4</td><td>1</td><td>1</td><td>2</td><td>Futon   </td><td>TV,Cable TV,Internet,Wireless Internet,Air conditioning,Kitchen,Smoking allowed,Pets allowed,Heating,Family/kid friendly,Washer,Dryer,Essentials,Shampoo,Hangers,Hair dryer,Iron,translation missing: en.hosting_amenity_50                                                                                                                  </td><td> 700</td><td> 95</td><td> 90</td><td> 65.03210</td></tr>\n",
       "\t<tr><th scope=row>4402</th><td>28013</td><td>Sol</td><td>Apartment</td><td>Entire home/apt</td><td> 4</td><td>1</td><td>1</td><td>1</td><td>Real Bed</td><td>TV,Wireless Internet,Air conditioning,Doorman,Elevator in building,Buzzer/wireless intercom,Heating,Family/kid friendly,Suitable for events,Washer,Hangers,Hair dryer,Iron                                                                                                                                                                   </td><td> 646</td><td> 75</td><td> 92</td><td> 60.01534</td></tr>\n",
       "\t<tr><th scope=row>6025</th><td>28013</td><td>Sol</td><td>Apartment</td><td>Entire home/apt</td><td> 4</td><td>1</td><td>1</td><td>1</td><td>Real Bed</td><td>TV,Wireless Internet,Air conditioning,Kitchen,Doorman,Elevator in building,Buzzer/wireless intercom,Heating,Family/kid friendly,Suitable for events,Washer,Hangers,Hair dryer,Iron                                                                                                                                                           </td><td> 646</td><td> 75</td><td> 90</td><td> 60.01534</td></tr>\n",
       "\t<tr><th scope=row>6922</th><td>28012</td><td>Sol</td><td>Apartment</td><td>Entire home/apt</td><td>10</td><td>2</td><td>5</td><td>8</td><td>Real Bed</td><td>TV,Wireless Internet,Air conditioning,Kitchen,Pets allowed,Elevator in building,Buzzer/wireless intercom,Heating,Family/kid friendly,Washer,Smoke detector,Carbon monoxide detector,Essentials,Shampoo,24-hour check-in,Hangers,Hair dryer,Iron,Laptop friendly workspace                                                                    </td><td>1615</td><td>300</td><td> 95</td><td>150.03834</td></tr>\n",
       "\t<tr><th scope=row>8299</th><td>28012</td><td>Sol</td><td>Apartment</td><td>Entire home/apt</td><td> 4</td><td>1</td><td>1</td><td>1</td><td>Real Bed</td><td>TV,Internet,Wireless Internet,Air conditioning,Kitchen,Elevator in building,Buzzer/wireless intercom,Heating,Family/kid friendly,Washer,Essentials,Shampoo,24-hour check-in,Hangers,Hair dryer,Iron,Laptop friendly workspace                                                                                                                </td><td> 592</td><td> 82</td><td> 88</td><td> 54.99858</td></tr>\n",
       "\t<tr><th scope=row>8850</th><td>28013</td><td>Sol</td><td>Apartment</td><td>Entire home/apt</td><td>12</td><td>4</td><td>4</td><td>8</td><td>Real Bed</td><td>TV,Internet,Wireless Internet,Air conditioning,Kitchen,Doorman,Elevator in building,Heating,Family/kid friendly,Washer,Essentials,24-hour check-in,Hangers,Hair dryer,Iron                                                                                                                                                                   </td><td>1238</td><td>250</td><td> 96</td><td>115.01391</td></tr>\n",
       "\t<tr><th scope=row>9178</th><td>28012</td><td>Sol</td><td>Apartment</td><td>Entire home/apt</td><td> 6</td><td>2</td><td>3</td><td>4</td><td>Real Bed</td><td>TV,Cable TV,Internet,Wireless Internet,Air conditioning,Kitchen,Elevator in building,Hot tub,Heating,Family/kid friendly,Suitable for events,Washer,Smoke detector,Carbon monoxide detector,First aid kit,Safety card,Fire extinguisher,Essentials,Shampoo,24-hour check-in,Hangers,Hair dryer,Iron,Laptop friendly workspace                </td><td>2153</td><td>199</td><td> 96</td><td>200.02016</td></tr>\n",
       "\t<tr><th scope=row>10389</th><td>28012</td><td>Sol</td><td>Apartment</td><td>Entire home/apt</td><td> 8</td><td>2</td><td>2</td><td>8</td><td>Real Bed</td><td>TV,Internet,Wireless Internet,Air conditioning,Kitchen,Smoking allowed,Pets allowed,Elevator in building,Buzzer/wireless intercom,Heating,Family/kid friendly,Suitable for events,Washer                                                                                                                                                     </td><td>1292</td><td>110</td><td> 80</td><td>120.03068</td></tr>\n",
       "\t<tr><th scope=row>10392</th><td>28012</td><td>Sol</td><td>Apartment</td><td>Entire home/apt</td><td> 4</td><td>1</td><td>1</td><td>3</td><td>Real Bed</td><td>TV,Internet,Wireless Internet,Air conditioning,Kitchen,Elevator in building,Buzzer/wireless intercom,Heating,Family/kid friendly,Washer,Essentials,Shampoo,Hangers,Hair dryer,Iron,Laptop friendly workspace                                                                                                                                 </td><td> 624</td><td> 50</td><td> 89</td><td> 57.97147</td></tr>\n",
       "\t<tr><th scope=row>10729</th><td>28012</td><td>Sol</td><td>Apartment</td><td>Entire home/apt</td><td> 4</td><td>1</td><td>1</td><td>3</td><td>Real Bed</td><td>TV,Internet,Wireless Internet,Air conditioning,Kitchen,Pets allowed,Buzzer/wireless intercom,Heating,Family/kid friendly,Washer,Smoke detector,Carbon monoxide detector,Essentials,Shampoo,24-hour check-in,Hangers,Hair dryer,Iron,Laptop friendly workspace                                                                                </td><td> 603</td><td> 85</td><td> 94</td><td> 56.02051</td></tr>\n",
       "\t<tr><th scope=row>10835</th><td>28005</td><td>Sol</td><td>Loft     </td><td>Entire home/apt</td><td> 7</td><td>2</td><td>5</td><td>7</td><td>Real Bed</td><td>Internet,Wireless Internet,Kitchen,Smoking allowed,Pets allowed,Buzzer/wireless intercom,Heating,Family/kid friendly,Washer,First aid kit,Fire extinguisher,Essentials,Shampoo,Hangers,Hair dryer,Iron,Laptop friendly workspace                                                                                                             </td><td>1776</td><td>149</td><td> 87</td><td>164.99573</td></tr>\n",
       "\t<tr><th scope=row>11080</th><td>28013</td><td>Sol</td><td>Apartment</td><td>Entire home/apt</td><td> 6</td><td>1</td><td>2</td><td>3</td><td>Real Bed</td><td>TV,Internet,Air conditioning,Kitchen,Washer / Dryer,Doorman,Elevator in building,Heating,Family/kid friendly,Washer,Dryer                                                                                                                                                                                                                    </td><td> 807</td><td>102</td><td> 80</td><td> 74.97272</td></tr>\n",
       "\t<tr><th scope=row>11962</th><td>28013</td><td>Sol</td><td>Apartment</td><td>Entire home/apt</td><td> 5</td><td>1</td><td>2</td><td>5</td><td>Real Bed</td><td>TV,Cable TV,Internet,Wireless Internet,Air conditioning,Kitchen,Pets allowed,Elevator in building,Buzzer/wireless intercom,Heating,Family/kid friendly,Smoke detector,Carbon monoxide detector,First aid kit,Safety card,Fire extinguisher,Essentials,Shampoo,24-hour check-in,Hangers,Hair dryer,Iron,Laptop friendly workspace,Game console</td><td> 753</td><td>100</td><td> 91</td><td> 69.95596</td></tr>\n",
       "\t<tr><th scope=row>12747</th><td>28012</td><td>Sol</td><td>Apartment</td><td>Entire home/apt</td><td> 6</td><td>2</td><td>2</td><td>3</td><td>Real Bed</td><td>TV,Cable TV,Internet,Wireless Internet,Air conditioning,Kitchen,Doorman,Elevator in building,Buzzer/wireless intercom,Heating,Family/kid friendly,Washer,24-hour check-in,Hangers,Hair dryer,Iron,Laptop friendly workspace                                                                                                                  </td><td>1076</td><td>140</td><td> 94</td><td> 99.96363</td></tr>\n",
       "\t<tr><th scope=row>12749</th><td>28012</td><td>Sol</td><td>Apartment</td><td>Entire home/apt</td><td> 4</td><td>1</td><td>2</td><td>3</td><td>Real Bed</td><td>TV,Internet,Wireless Internet,Air conditioning,Kitchen,Doorman,Elevator in building,Buzzer/wireless intercom,Heating,Family/kid friendly,Washer,Essentials,Hair dryer,Iron                                                                                                                                                                   </td><td> 947</td><td> 95</td><td> 93</td><td> 87.97914</td></tr>\n",
       "\t<tr><th scope=row>12912</th><td>28013</td><td>Sol</td><td>Apartment</td><td>Entire home/apt</td><td>10</td><td>3</td><td>3</td><td>7</td><td>Real Bed</td><td>TV,Internet,Air conditioning,Kitchen,Smoking allowed,Pets allowed,Heating,Family/kid friendly,Washer                                                                                                                                                                                                                                         </td><td> 807</td><td>150</td><td> 65</td><td> 74.97272</td></tr>\n",
       "</tbody>\n",
       "</table>\n"
      ],
      "text/latex": [
       "A data.frame: 23 × 14\n",
       "\\begin{tabular}{r|llllllllllllll}\n",
       "  & CodigoPostal & Barrio & TipoPropiedad & TipoAlquiler & MaxOcupantes & NumBanyos & NumDormitorios & NumCamas & TipoCama & Comodidades & PiesCuadrados & Precio & Puntuacion & MetrosCuadrados\\\\\n",
       "  & <fct> & <fct> & <fct> & <fct> & <int> & <dbl> & <int> & <int> & <fct> & <fct> & <int> & <int> & <int> & <dbl>\\\\\n",
       "\\hline\n",
       "\t15 & 28013 & Sol & Apartment & Entire home/apt &  4 & 1 & 1 & 1 & Real Bed & TV,Wireless Internet,Air conditioning,Kitchen,Doorman,Elevator in building,Buzzer/wireless intercom,Heating,Family/kid friendly,Suitable for events,Washer,Essentials,Hangers,Hair dryer,Iron                                                                                                                                                 &  646 &  75 &  91 &  60.01534\\\\\n",
       "\t25 & 28012 & Sol & Apartment & Entire home/apt &  4 & 1 & 1 & 1 & Real Bed & TV,Cable TV,Internet,Wireless Internet,Air conditioning,Kitchen,Elevator in building,Buzzer/wireless intercom,Heating,Family/kid friendly,Washer,Essentials,Hair dryer,Iron                                                                                                                                                                   &  753 & 100 &  87 &  69.95596\\\\\n",
       "\t574 & 28014 & Sol & Apartment & Entire home/apt &  8 & 2 & 4 & 5 & Real Bed & TV,Internet,Wireless Internet,Air conditioning,Wheelchair accessible,Kitchen,Smoking allowed,Elevator in building,Buzzer/wireless intercom,Heating,Family/kid friendly,Washer,Fire extinguisher,Shampoo,Hangers,Iron,Laptop friendly workspace                                                                                                & 2153 & 250 &  99 & 200.02016\\\\\n",
       "\t690 & 28012 & Sol & Apartment & Entire home/apt & 10 & 2 & 2 & 6 & Real Bed & TV,Wireless Internet,Air conditioning,Kitchen,Doorman,Elevator in building,Buzzer/wireless intercom,Heating,Family/kid friendly,Washer,Essentials                                                                                                                                                                                             & 1453 &  98 &  94 & 134.98806\\\\\n",
       "\t1414 & 28013 & Sol & Apartment & Entire home/apt &  4 & 1 & 1 & 2 & Real Bed & TV,Internet,Wireless Internet,Air conditioning,Kitchen,Smoking allowed,Pets allowed,Pets live on this property,Cat(s),Buzzer/wireless intercom,Heating,Family/kid friendly,Washer,Essentials,Shampoo                                                                                                                                          &  915 &  70 & 100 &  85.00624\\\\\n",
       "\t1578 & 28013 & Sol & Apartment & Entire home/apt &  3 & 1 & 0 & 1 & Real Bed & TV,Internet,Wireless Internet,Air conditioning,Kitchen,Doorman,Elevator in building,Buzzer/wireless intercom,Heating,Family/kid friendly,Washer,Smoke detector,Carbon monoxide detector,First aid kit,Fire extinguisher,Essentials,Shampoo,24-hour check-in,Hangers,Hair dryer,Iron,Laptop friendly workspace,Private entrance                &  646 &  45 &  97 &  60.01534\\\\\n",
       "\t2422 & 28012 & Sol & Apartment & Entire home/apt &  8 & 1 & 2 & 6 & Real Bed & TV,Wireless Internet,Air conditioning,Kitchen,Buzzer/wireless intercom,Heating,Family/kid friendly,Washer,Fire extinguisher,Essentials                                                                                                                                                                                                        &  883 & 145 &  97 &  82.03335\\\\\n",
       "\t3804 & 28005 & Sol & Apartment & Entire home/apt &  4 & 1 & 1 & 2 & Futon    & TV,Cable TV,Internet,Wireless Internet,Air conditioning,Kitchen,Smoking allowed,Pets allowed,Heating,Family/kid friendly,Washer,Dryer,Essentials,Shampoo,Hangers,Hair dryer,Iron,translation missing: en.hosting\\_amenity\\_50                                                                                                                   &  700 &  95 &  90 &  65.03210\\\\\n",
       "\t4402 & 28013 & Sol & Apartment & Entire home/apt &  4 & 1 & 1 & 1 & Real Bed & TV,Wireless Internet,Air conditioning,Doorman,Elevator in building,Buzzer/wireless intercom,Heating,Family/kid friendly,Suitable for events,Washer,Hangers,Hair dryer,Iron                                                                                                                                                                    &  646 &  75 &  92 &  60.01534\\\\\n",
       "\t6025 & 28013 & Sol & Apartment & Entire home/apt &  4 & 1 & 1 & 1 & Real Bed & TV,Wireless Internet,Air conditioning,Kitchen,Doorman,Elevator in building,Buzzer/wireless intercom,Heating,Family/kid friendly,Suitable for events,Washer,Hangers,Hair dryer,Iron                                                                                                                                                            &  646 &  75 &  90 &  60.01534\\\\\n",
       "\t6922 & 28012 & Sol & Apartment & Entire home/apt & 10 & 2 & 5 & 8 & Real Bed & TV,Wireless Internet,Air conditioning,Kitchen,Pets allowed,Elevator in building,Buzzer/wireless intercom,Heating,Family/kid friendly,Washer,Smoke detector,Carbon monoxide detector,Essentials,Shampoo,24-hour check-in,Hangers,Hair dryer,Iron,Laptop friendly workspace                                                                     & 1615 & 300 &  95 & 150.03834\\\\\n",
       "\t8299 & 28012 & Sol & Apartment & Entire home/apt &  4 & 1 & 1 & 1 & Real Bed & TV,Internet,Wireless Internet,Air conditioning,Kitchen,Elevator in building,Buzzer/wireless intercom,Heating,Family/kid friendly,Washer,Essentials,Shampoo,24-hour check-in,Hangers,Hair dryer,Iron,Laptop friendly workspace                                                                                                                 &  592 &  82 &  88 &  54.99858\\\\\n",
       "\t8850 & 28013 & Sol & Apartment & Entire home/apt & 12 & 4 & 4 & 8 & Real Bed & TV,Internet,Wireless Internet,Air conditioning,Kitchen,Doorman,Elevator in building,Heating,Family/kid friendly,Washer,Essentials,24-hour check-in,Hangers,Hair dryer,Iron                                                                                                                                                                    & 1238 & 250 &  96 & 115.01391\\\\\n",
       "\t9178 & 28012 & Sol & Apartment & Entire home/apt &  6 & 2 & 3 & 4 & Real Bed & TV,Cable TV,Internet,Wireless Internet,Air conditioning,Kitchen,Elevator in building,Hot tub,Heating,Family/kid friendly,Suitable for events,Washer,Smoke detector,Carbon monoxide detector,First aid kit,Safety card,Fire extinguisher,Essentials,Shampoo,24-hour check-in,Hangers,Hair dryer,Iron,Laptop friendly workspace                 & 2153 & 199 &  96 & 200.02016\\\\\n",
       "\t10389 & 28012 & Sol & Apartment & Entire home/apt &  8 & 2 & 2 & 8 & Real Bed & TV,Internet,Wireless Internet,Air conditioning,Kitchen,Smoking allowed,Pets allowed,Elevator in building,Buzzer/wireless intercom,Heating,Family/kid friendly,Suitable for events,Washer                                                                                                                                                      & 1292 & 110 &  80 & 120.03068\\\\\n",
       "\t10392 & 28012 & Sol & Apartment & Entire home/apt &  4 & 1 & 1 & 3 & Real Bed & TV,Internet,Wireless Internet,Air conditioning,Kitchen,Elevator in building,Buzzer/wireless intercom,Heating,Family/kid friendly,Washer,Essentials,Shampoo,Hangers,Hair dryer,Iron,Laptop friendly workspace                                                                                                                                  &  624 &  50 &  89 &  57.97147\\\\\n",
       "\t10729 & 28012 & Sol & Apartment & Entire home/apt &  4 & 1 & 1 & 3 & Real Bed & TV,Internet,Wireless Internet,Air conditioning,Kitchen,Pets allowed,Buzzer/wireless intercom,Heating,Family/kid friendly,Washer,Smoke detector,Carbon monoxide detector,Essentials,Shampoo,24-hour check-in,Hangers,Hair dryer,Iron,Laptop friendly workspace                                                                                 &  603 &  85 &  94 &  56.02051\\\\\n",
       "\t10835 & 28005 & Sol & Loft      & Entire home/apt &  7 & 2 & 5 & 7 & Real Bed & Internet,Wireless Internet,Kitchen,Smoking allowed,Pets allowed,Buzzer/wireless intercom,Heating,Family/kid friendly,Washer,First aid kit,Fire extinguisher,Essentials,Shampoo,Hangers,Hair dryer,Iron,Laptop friendly workspace                                                                                                              & 1776 & 149 &  87 & 164.99573\\\\\n",
       "\t11080 & 28013 & Sol & Apartment & Entire home/apt &  6 & 1 & 2 & 3 & Real Bed & TV,Internet,Air conditioning,Kitchen,Washer / Dryer,Doorman,Elevator in building,Heating,Family/kid friendly,Washer,Dryer                                                                                                                                                                                                                     &  807 & 102 &  80 &  74.97272\\\\\n",
       "\t11962 & 28013 & Sol & Apartment & Entire home/apt &  5 & 1 & 2 & 5 & Real Bed & TV,Cable TV,Internet,Wireless Internet,Air conditioning,Kitchen,Pets allowed,Elevator in building,Buzzer/wireless intercom,Heating,Family/kid friendly,Smoke detector,Carbon monoxide detector,First aid kit,Safety card,Fire extinguisher,Essentials,Shampoo,24-hour check-in,Hangers,Hair dryer,Iron,Laptop friendly workspace,Game console &  753 & 100 &  91 &  69.95596\\\\\n",
       "\t12747 & 28012 & Sol & Apartment & Entire home/apt &  6 & 2 & 2 & 3 & Real Bed & TV,Cable TV,Internet,Wireless Internet,Air conditioning,Kitchen,Doorman,Elevator in building,Buzzer/wireless intercom,Heating,Family/kid friendly,Washer,24-hour check-in,Hangers,Hair dryer,Iron,Laptop friendly workspace                                                                                                                   & 1076 & 140 &  94 &  99.96363\\\\\n",
       "\t12749 & 28012 & Sol & Apartment & Entire home/apt &  4 & 1 & 2 & 3 & Real Bed & TV,Internet,Wireless Internet,Air conditioning,Kitchen,Doorman,Elevator in building,Buzzer/wireless intercom,Heating,Family/kid friendly,Washer,Essentials,Hair dryer,Iron                                                                                                                                                                    &  947 &  95 &  93 &  87.97914\\\\\n",
       "\t12912 & 28013 & Sol & Apartment & Entire home/apt & 10 & 3 & 3 & 7 & Real Bed & TV,Internet,Air conditioning,Kitchen,Smoking allowed,Pets allowed,Heating,Family/kid friendly,Washer                                                                                                                                                                                                                                          &  807 & 150 &  65 &  74.97272\\\\\n",
       "\\end{tabular}\n"
      ],
      "text/markdown": [
       "\n",
       "A data.frame: 23 × 14\n",
       "\n",
       "| <!--/--> | CodigoPostal &lt;fct&gt; | Barrio &lt;fct&gt; | TipoPropiedad &lt;fct&gt; | TipoAlquiler &lt;fct&gt; | MaxOcupantes &lt;int&gt; | NumBanyos &lt;dbl&gt; | NumDormitorios &lt;int&gt; | NumCamas &lt;int&gt; | TipoCama &lt;fct&gt; | Comodidades &lt;fct&gt; | PiesCuadrados &lt;int&gt; | Precio &lt;int&gt; | Puntuacion &lt;int&gt; | MetrosCuadrados &lt;dbl&gt; |\n",
       "|---|---|---|---|---|---|---|---|---|---|---|---|---|---|---|\n",
       "| 15 | 28013 | Sol | Apartment | Entire home/apt |  4 | 1 | 1 | 1 | Real Bed | TV,Wireless Internet,Air conditioning,Kitchen,Doorman,Elevator in building,Buzzer/wireless intercom,Heating,Family/kid friendly,Suitable for events,Washer,Essentials,Hangers,Hair dryer,Iron                                                                                                                                                 |  646 |  75 |  91 |  60.01534 |\n",
       "| 25 | 28012 | Sol | Apartment | Entire home/apt |  4 | 1 | 1 | 1 | Real Bed | TV,Cable TV,Internet,Wireless Internet,Air conditioning,Kitchen,Elevator in building,Buzzer/wireless intercom,Heating,Family/kid friendly,Washer,Essentials,Hair dryer,Iron                                                                                                                                                                   |  753 | 100 |  87 |  69.95596 |\n",
       "| 574 | 28014 | Sol | Apartment | Entire home/apt |  8 | 2 | 4 | 5 | Real Bed | TV,Internet,Wireless Internet,Air conditioning,Wheelchair accessible,Kitchen,Smoking allowed,Elevator in building,Buzzer/wireless intercom,Heating,Family/kid friendly,Washer,Fire extinguisher,Shampoo,Hangers,Iron,Laptop friendly workspace                                                                                                | 2153 | 250 |  99 | 200.02016 |\n",
       "| 690 | 28012 | Sol | Apartment | Entire home/apt | 10 | 2 | 2 | 6 | Real Bed | TV,Wireless Internet,Air conditioning,Kitchen,Doorman,Elevator in building,Buzzer/wireless intercom,Heating,Family/kid friendly,Washer,Essentials                                                                                                                                                                                             | 1453 |  98 |  94 | 134.98806 |\n",
       "| 1414 | 28013 | Sol | Apartment | Entire home/apt |  4 | 1 | 1 | 2 | Real Bed | TV,Internet,Wireless Internet,Air conditioning,Kitchen,Smoking allowed,Pets allowed,Pets live on this property,Cat(s),Buzzer/wireless intercom,Heating,Family/kid friendly,Washer,Essentials,Shampoo                                                                                                                                          |  915 |  70 | 100 |  85.00624 |\n",
       "| 1578 | 28013 | Sol | Apartment | Entire home/apt |  3 | 1 | 0 | 1 | Real Bed | TV,Internet,Wireless Internet,Air conditioning,Kitchen,Doorman,Elevator in building,Buzzer/wireless intercom,Heating,Family/kid friendly,Washer,Smoke detector,Carbon monoxide detector,First aid kit,Fire extinguisher,Essentials,Shampoo,24-hour check-in,Hangers,Hair dryer,Iron,Laptop friendly workspace,Private entrance                |  646 |  45 |  97 |  60.01534 |\n",
       "| 2422 | 28012 | Sol | Apartment | Entire home/apt |  8 | 1 | 2 | 6 | Real Bed | TV,Wireless Internet,Air conditioning,Kitchen,Buzzer/wireless intercom,Heating,Family/kid friendly,Washer,Fire extinguisher,Essentials                                                                                                                                                                                                        |  883 | 145 |  97 |  82.03335 |\n",
       "| 3804 | 28005 | Sol | Apartment | Entire home/apt |  4 | 1 | 1 | 2 | Futon    | TV,Cable TV,Internet,Wireless Internet,Air conditioning,Kitchen,Smoking allowed,Pets allowed,Heating,Family/kid friendly,Washer,Dryer,Essentials,Shampoo,Hangers,Hair dryer,Iron,translation missing: en.hosting_amenity_50                                                                                                                   |  700 |  95 |  90 |  65.03210 |\n",
       "| 4402 | 28013 | Sol | Apartment | Entire home/apt |  4 | 1 | 1 | 1 | Real Bed | TV,Wireless Internet,Air conditioning,Doorman,Elevator in building,Buzzer/wireless intercom,Heating,Family/kid friendly,Suitable for events,Washer,Hangers,Hair dryer,Iron                                                                                                                                                                    |  646 |  75 |  92 |  60.01534 |\n",
       "| 6025 | 28013 | Sol | Apartment | Entire home/apt |  4 | 1 | 1 | 1 | Real Bed | TV,Wireless Internet,Air conditioning,Kitchen,Doorman,Elevator in building,Buzzer/wireless intercom,Heating,Family/kid friendly,Suitable for events,Washer,Hangers,Hair dryer,Iron                                                                                                                                                            |  646 |  75 |  90 |  60.01534 |\n",
       "| 6922 | 28012 | Sol | Apartment | Entire home/apt | 10 | 2 | 5 | 8 | Real Bed | TV,Wireless Internet,Air conditioning,Kitchen,Pets allowed,Elevator in building,Buzzer/wireless intercom,Heating,Family/kid friendly,Washer,Smoke detector,Carbon monoxide detector,Essentials,Shampoo,24-hour check-in,Hangers,Hair dryer,Iron,Laptop friendly workspace                                                                     | 1615 | 300 |  95 | 150.03834 |\n",
       "| 8299 | 28012 | Sol | Apartment | Entire home/apt |  4 | 1 | 1 | 1 | Real Bed | TV,Internet,Wireless Internet,Air conditioning,Kitchen,Elevator in building,Buzzer/wireless intercom,Heating,Family/kid friendly,Washer,Essentials,Shampoo,24-hour check-in,Hangers,Hair dryer,Iron,Laptop friendly workspace                                                                                                                 |  592 |  82 |  88 |  54.99858 |\n",
       "| 8850 | 28013 | Sol | Apartment | Entire home/apt | 12 | 4 | 4 | 8 | Real Bed | TV,Internet,Wireless Internet,Air conditioning,Kitchen,Doorman,Elevator in building,Heating,Family/kid friendly,Washer,Essentials,24-hour check-in,Hangers,Hair dryer,Iron                                                                                                                                                                    | 1238 | 250 |  96 | 115.01391 |\n",
       "| 9178 | 28012 | Sol | Apartment | Entire home/apt |  6 | 2 | 3 | 4 | Real Bed | TV,Cable TV,Internet,Wireless Internet,Air conditioning,Kitchen,Elevator in building,Hot tub,Heating,Family/kid friendly,Suitable for events,Washer,Smoke detector,Carbon monoxide detector,First aid kit,Safety card,Fire extinguisher,Essentials,Shampoo,24-hour check-in,Hangers,Hair dryer,Iron,Laptop friendly workspace                 | 2153 | 199 |  96 | 200.02016 |\n",
       "| 10389 | 28012 | Sol | Apartment | Entire home/apt |  8 | 2 | 2 | 8 | Real Bed | TV,Internet,Wireless Internet,Air conditioning,Kitchen,Smoking allowed,Pets allowed,Elevator in building,Buzzer/wireless intercom,Heating,Family/kid friendly,Suitable for events,Washer                                                                                                                                                      | 1292 | 110 |  80 | 120.03068 |\n",
       "| 10392 | 28012 | Sol | Apartment | Entire home/apt |  4 | 1 | 1 | 3 | Real Bed | TV,Internet,Wireless Internet,Air conditioning,Kitchen,Elevator in building,Buzzer/wireless intercom,Heating,Family/kid friendly,Washer,Essentials,Shampoo,Hangers,Hair dryer,Iron,Laptop friendly workspace                                                                                                                                  |  624 |  50 |  89 |  57.97147 |\n",
       "| 10729 | 28012 | Sol | Apartment | Entire home/apt |  4 | 1 | 1 | 3 | Real Bed | TV,Internet,Wireless Internet,Air conditioning,Kitchen,Pets allowed,Buzzer/wireless intercom,Heating,Family/kid friendly,Washer,Smoke detector,Carbon monoxide detector,Essentials,Shampoo,24-hour check-in,Hangers,Hair dryer,Iron,Laptop friendly workspace                                                                                 |  603 |  85 |  94 |  56.02051 |\n",
       "| 10835 | 28005 | Sol | Loft      | Entire home/apt |  7 | 2 | 5 | 7 | Real Bed | Internet,Wireless Internet,Kitchen,Smoking allowed,Pets allowed,Buzzer/wireless intercom,Heating,Family/kid friendly,Washer,First aid kit,Fire extinguisher,Essentials,Shampoo,Hangers,Hair dryer,Iron,Laptop friendly workspace                                                                                                              | 1776 | 149 |  87 | 164.99573 |\n",
       "| 11080 | 28013 | Sol | Apartment | Entire home/apt |  6 | 1 | 2 | 3 | Real Bed | TV,Internet,Air conditioning,Kitchen,Washer / Dryer,Doorman,Elevator in building,Heating,Family/kid friendly,Washer,Dryer                                                                                                                                                                                                                     |  807 | 102 |  80 |  74.97272 |\n",
       "| 11962 | 28013 | Sol | Apartment | Entire home/apt |  5 | 1 | 2 | 5 | Real Bed | TV,Cable TV,Internet,Wireless Internet,Air conditioning,Kitchen,Pets allowed,Elevator in building,Buzzer/wireless intercom,Heating,Family/kid friendly,Smoke detector,Carbon monoxide detector,First aid kit,Safety card,Fire extinguisher,Essentials,Shampoo,24-hour check-in,Hangers,Hair dryer,Iron,Laptop friendly workspace,Game console |  753 | 100 |  91 |  69.95596 |\n",
       "| 12747 | 28012 | Sol | Apartment | Entire home/apt |  6 | 2 | 2 | 3 | Real Bed | TV,Cable TV,Internet,Wireless Internet,Air conditioning,Kitchen,Doorman,Elevator in building,Buzzer/wireless intercom,Heating,Family/kid friendly,Washer,24-hour check-in,Hangers,Hair dryer,Iron,Laptop friendly workspace                                                                                                                   | 1076 | 140 |  94 |  99.96363 |\n",
       "| 12749 | 28012 | Sol | Apartment | Entire home/apt |  4 | 1 | 2 | 3 | Real Bed | TV,Internet,Wireless Internet,Air conditioning,Kitchen,Doorman,Elevator in building,Buzzer/wireless intercom,Heating,Family/kid friendly,Washer,Essentials,Hair dryer,Iron                                                                                                                                                                    |  947 |  95 |  93 |  87.97914 |\n",
       "| 12912 | 28013 | Sol | Apartment | Entire home/apt | 10 | 3 | 3 | 7 | Real Bed | TV,Internet,Air conditioning,Kitchen,Smoking allowed,Pets allowed,Heating,Family/kid friendly,Washer                                                                                                                                                                                                                                          |  807 | 150 |  65 |  74.97272 |\n",
       "\n"
      ],
      "text/plain": [
       "      CodigoPostal Barrio TipoPropiedad TipoAlquiler    MaxOcupantes NumBanyos\n",
       "15    28013        Sol    Apartment     Entire home/apt  4           1        \n",
       "25    28012        Sol    Apartment     Entire home/apt  4           1        \n",
       "574   28014        Sol    Apartment     Entire home/apt  8           2        \n",
       "690   28012        Sol    Apartment     Entire home/apt 10           2        \n",
       "1414  28013        Sol    Apartment     Entire home/apt  4           1        \n",
       "1578  28013        Sol    Apartment     Entire home/apt  3           1        \n",
       "2422  28012        Sol    Apartment     Entire home/apt  8           1        \n",
       "3804  28005        Sol    Apartment     Entire home/apt  4           1        \n",
       "4402  28013        Sol    Apartment     Entire home/apt  4           1        \n",
       "6025  28013        Sol    Apartment     Entire home/apt  4           1        \n",
       "6922  28012        Sol    Apartment     Entire home/apt 10           2        \n",
       "8299  28012        Sol    Apartment     Entire home/apt  4           1        \n",
       "8850  28013        Sol    Apartment     Entire home/apt 12           4        \n",
       "9178  28012        Sol    Apartment     Entire home/apt  6           2        \n",
       "10389 28012        Sol    Apartment     Entire home/apt  8           2        \n",
       "10392 28012        Sol    Apartment     Entire home/apt  4           1        \n",
       "10729 28012        Sol    Apartment     Entire home/apt  4           1        \n",
       "10835 28005        Sol    Loft          Entire home/apt  7           2        \n",
       "11080 28013        Sol    Apartment     Entire home/apt  6           1        \n",
       "11962 28013        Sol    Apartment     Entire home/apt  5           1        \n",
       "12747 28012        Sol    Apartment     Entire home/apt  6           2        \n",
       "12749 28012        Sol    Apartment     Entire home/apt  4           1        \n",
       "12912 28013        Sol    Apartment     Entire home/apt 10           3        \n",
       "      NumDormitorios NumCamas TipoCama\n",
       "15    1              1        Real Bed\n",
       "25    1              1        Real Bed\n",
       "574   4              5        Real Bed\n",
       "690   2              6        Real Bed\n",
       "1414  1              2        Real Bed\n",
       "1578  0              1        Real Bed\n",
       "2422  2              6        Real Bed\n",
       "3804  1              2        Futon   \n",
       "4402  1              1        Real Bed\n",
       "6025  1              1        Real Bed\n",
       "6922  5              8        Real Bed\n",
       "8299  1              1        Real Bed\n",
       "8850  4              8        Real Bed\n",
       "9178  3              4        Real Bed\n",
       "10389 2              8        Real Bed\n",
       "10392 1              3        Real Bed\n",
       "10729 1              3        Real Bed\n",
       "10835 5              7        Real Bed\n",
       "11080 2              3        Real Bed\n",
       "11962 2              5        Real Bed\n",
       "12747 2              3        Real Bed\n",
       "12749 2              3        Real Bed\n",
       "12912 3              7        Real Bed\n",
       "      Comodidades                                                                                                                                                                                                                                                                                                                                  \n",
       "15    TV,Wireless Internet,Air conditioning,Kitchen,Doorman,Elevator in building,Buzzer/wireless intercom,Heating,Family/kid friendly,Suitable for events,Washer,Essentials,Hangers,Hair dryer,Iron                                                                                                                                                \n",
       "25    TV,Cable TV,Internet,Wireless Internet,Air conditioning,Kitchen,Elevator in building,Buzzer/wireless intercom,Heating,Family/kid friendly,Washer,Essentials,Hair dryer,Iron                                                                                                                                                                  \n",
       "574   TV,Internet,Wireless Internet,Air conditioning,Wheelchair accessible,Kitchen,Smoking allowed,Elevator in building,Buzzer/wireless intercom,Heating,Family/kid friendly,Washer,Fire extinguisher,Shampoo,Hangers,Iron,Laptop friendly workspace                                                                                               \n",
       "690   TV,Wireless Internet,Air conditioning,Kitchen,Doorman,Elevator in building,Buzzer/wireless intercom,Heating,Family/kid friendly,Washer,Essentials                                                                                                                                                                                            \n",
       "1414  TV,Internet,Wireless Internet,Air conditioning,Kitchen,Smoking allowed,Pets allowed,Pets live on this property,Cat(s),Buzzer/wireless intercom,Heating,Family/kid friendly,Washer,Essentials,Shampoo                                                                                                                                         \n",
       "1578  TV,Internet,Wireless Internet,Air conditioning,Kitchen,Doorman,Elevator in building,Buzzer/wireless intercom,Heating,Family/kid friendly,Washer,Smoke detector,Carbon monoxide detector,First aid kit,Fire extinguisher,Essentials,Shampoo,24-hour check-in,Hangers,Hair dryer,Iron,Laptop friendly workspace,Private entrance               \n",
       "2422  TV,Wireless Internet,Air conditioning,Kitchen,Buzzer/wireless intercom,Heating,Family/kid friendly,Washer,Fire extinguisher,Essentials                                                                                                                                                                                                       \n",
       "3804  TV,Cable TV,Internet,Wireless Internet,Air conditioning,Kitchen,Smoking allowed,Pets allowed,Heating,Family/kid friendly,Washer,Dryer,Essentials,Shampoo,Hangers,Hair dryer,Iron,translation missing: en.hosting_amenity_50                                                                                                                  \n",
       "4402  TV,Wireless Internet,Air conditioning,Doorman,Elevator in building,Buzzer/wireless intercom,Heating,Family/kid friendly,Suitable for events,Washer,Hangers,Hair dryer,Iron                                                                                                                                                                   \n",
       "6025  TV,Wireless Internet,Air conditioning,Kitchen,Doorman,Elevator in building,Buzzer/wireless intercom,Heating,Family/kid friendly,Suitable for events,Washer,Hangers,Hair dryer,Iron                                                                                                                                                           \n",
       "6922  TV,Wireless Internet,Air conditioning,Kitchen,Pets allowed,Elevator in building,Buzzer/wireless intercom,Heating,Family/kid friendly,Washer,Smoke detector,Carbon monoxide detector,Essentials,Shampoo,24-hour check-in,Hangers,Hair dryer,Iron,Laptop friendly workspace                                                                    \n",
       "8299  TV,Internet,Wireless Internet,Air conditioning,Kitchen,Elevator in building,Buzzer/wireless intercom,Heating,Family/kid friendly,Washer,Essentials,Shampoo,24-hour check-in,Hangers,Hair dryer,Iron,Laptop friendly workspace                                                                                                                \n",
       "8850  TV,Internet,Wireless Internet,Air conditioning,Kitchen,Doorman,Elevator in building,Heating,Family/kid friendly,Washer,Essentials,24-hour check-in,Hangers,Hair dryer,Iron                                                                                                                                                                   \n",
       "9178  TV,Cable TV,Internet,Wireless Internet,Air conditioning,Kitchen,Elevator in building,Hot tub,Heating,Family/kid friendly,Suitable for events,Washer,Smoke detector,Carbon monoxide detector,First aid kit,Safety card,Fire extinguisher,Essentials,Shampoo,24-hour check-in,Hangers,Hair dryer,Iron,Laptop friendly workspace                \n",
       "10389 TV,Internet,Wireless Internet,Air conditioning,Kitchen,Smoking allowed,Pets allowed,Elevator in building,Buzzer/wireless intercom,Heating,Family/kid friendly,Suitable for events,Washer                                                                                                                                                     \n",
       "10392 TV,Internet,Wireless Internet,Air conditioning,Kitchen,Elevator in building,Buzzer/wireless intercom,Heating,Family/kid friendly,Washer,Essentials,Shampoo,Hangers,Hair dryer,Iron,Laptop friendly workspace                                                                                                                                 \n",
       "10729 TV,Internet,Wireless Internet,Air conditioning,Kitchen,Pets allowed,Buzzer/wireless intercom,Heating,Family/kid friendly,Washer,Smoke detector,Carbon monoxide detector,Essentials,Shampoo,24-hour check-in,Hangers,Hair dryer,Iron,Laptop friendly workspace                                                                                \n",
       "10835 Internet,Wireless Internet,Kitchen,Smoking allowed,Pets allowed,Buzzer/wireless intercom,Heating,Family/kid friendly,Washer,First aid kit,Fire extinguisher,Essentials,Shampoo,Hangers,Hair dryer,Iron,Laptop friendly workspace                                                                                                             \n",
       "11080 TV,Internet,Air conditioning,Kitchen,Washer / Dryer,Doorman,Elevator in building,Heating,Family/kid friendly,Washer,Dryer                                                                                                                                                                                                                    \n",
       "11962 TV,Cable TV,Internet,Wireless Internet,Air conditioning,Kitchen,Pets allowed,Elevator in building,Buzzer/wireless intercom,Heating,Family/kid friendly,Smoke detector,Carbon monoxide detector,First aid kit,Safety card,Fire extinguisher,Essentials,Shampoo,24-hour check-in,Hangers,Hair dryer,Iron,Laptop friendly workspace,Game console\n",
       "12747 TV,Cable TV,Internet,Wireless Internet,Air conditioning,Kitchen,Doorman,Elevator in building,Buzzer/wireless intercom,Heating,Family/kid friendly,Washer,24-hour check-in,Hangers,Hair dryer,Iron,Laptop friendly workspace                                                                                                                  \n",
       "12749 TV,Internet,Wireless Internet,Air conditioning,Kitchen,Doorman,Elevator in building,Buzzer/wireless intercom,Heating,Family/kid friendly,Washer,Essentials,Hair dryer,Iron                                                                                                                                                                   \n",
       "12912 TV,Internet,Air conditioning,Kitchen,Smoking allowed,Pets allowed,Heating,Family/kid friendly,Washer                                                                                                                                                                                                                                         \n",
       "      PiesCuadrados Precio Puntuacion MetrosCuadrados\n",
       "15     646           75     91         60.01534      \n",
       "25     753          100     87         69.95596      \n",
       "574   2153          250     99        200.02016      \n",
       "690   1453           98     94        134.98806      \n",
       "1414   915           70    100         85.00624      \n",
       "1578   646           45     97         60.01534      \n",
       "2422   883          145     97         82.03335      \n",
       "3804   700           95     90         65.03210      \n",
       "4402   646           75     92         60.01534      \n",
       "6025   646           75     90         60.01534      \n",
       "6922  1615          300     95        150.03834      \n",
       "8299   592           82     88         54.99858      \n",
       "8850  1238          250     96        115.01391      \n",
       "9178  2153          199     96        200.02016      \n",
       "10389 1292          110     80        120.03068      \n",
       "10392  624           50     89         57.97147      \n",
       "10729  603           85     94         56.02051      \n",
       "10835 1776          149     87        164.99573      \n",
       "11080  807          102     80         74.97272      \n",
       "11962  753          100     91         69.95596      \n",
       "12747 1076          140     94         99.96363      \n",
       "12749  947           95     93         87.97914      \n",
       "12912  807          150     65         74.97272      "
      ]
     },
     "metadata": {},
     "output_type": "display_data"
    }
   ],
   "source": [
    "#Nos quedamos con los datos que tienen un valor lógico en metros cuadrados.\n",
    "barrio_sol <- na.omit(barrio_sol[barrio_sol$MetrosCuadrados >= 50,])\n",
    "print(\n",
    "    paste(\n",
    "        \"Tras analizar el Histograma, vamos a quedarnos con aquellos valores que tengan más de 50 metros cuadrados.\",\n",
    "        \"Además vamos a eliminar los valores NA, no hay lógica para mantenerlos.\",\n",
    "        \"Nuestros datos quedarían: \"\n",
    "    )\n",
    ")\n",
    "barrio_sol"
   ]
  },
  {
   "cell_type": "markdown",
   "metadata": {},
   "source": [
    "Una vez que hayamos filtrado los datos correspondientes calcular el valor o la combinación de valores que mejor nos permite obtener el precio de un inmueble."
   ]
  },
  {
   "cell_type": "code",
   "execution_count": 31,
   "metadata": {},
   "outputs": [
    {
     "data": {
      "text/html": [
       "<table>\n",
       "<caption>A matrix: 6 × 6 of type dbl</caption>\n",
       "<thead>\n",
       "\t<tr><th></th><th scope=col>MaxOcupantes</th><th scope=col>NumBanyos</th><th scope=col>NumDormitorios</th><th scope=col>NumCamas</th><th scope=col>MetrosCuadrados</th><th scope=col>Precio</th></tr>\n",
       "</thead>\n",
       "<tbody>\n",
       "\t<tr><th scope=row>MaxOcupantes</th><td>1.0000000</td><td>0.8563304</td><td>0.7599340</td><td>0.8919924</td><td>0.5579949</td><td>0.7547968</td></tr>\n",
       "\t<tr><th scope=row>NumBanyos</th><td>0.8563304</td><td>1.0000000</td><td>0.6946567</td><td>0.7357010</td><td>0.5263001</td><td>0.6958775</td></tr>\n",
       "\t<tr><th scope=row>NumDormitorios</th><td>0.7599340</td><td>0.6946567</td><td>1.0000000</td><td>0.7998765</td><td>0.7822484</td><td>0.8788471</td></tr>\n",
       "\t<tr><th scope=row>NumCamas</th><td>0.8919924</td><td>0.7357010</td><td>0.7998765</td><td>1.0000000</td><td>0.5823008</td><td>0.6858189</td></tr>\n",
       "\t<tr><th scope=row>MetrosCuadrados</th><td>0.5579949</td><td>0.5263001</td><td>0.7822484</td><td>0.5823008</td><td>1.0000000</td><td>0.7454525</td></tr>\n",
       "\t<tr><th scope=row>Precio</th><td>0.7547968</td><td>0.6958775</td><td>0.8788471</td><td>0.6858189</td><td>0.7454525</td><td>1.0000000</td></tr>\n",
       "</tbody>\n",
       "</table>\n"
      ],
      "text/latex": [
       "A matrix: 6 × 6 of type dbl\n",
       "\\begin{tabular}{r|llllll}\n",
       "  & MaxOcupantes & NumBanyos & NumDormitorios & NumCamas & MetrosCuadrados & Precio\\\\\n",
       "\\hline\n",
       "\tMaxOcupantes & 1.0000000 & 0.8563304 & 0.7599340 & 0.8919924 & 0.5579949 & 0.7547968\\\\\n",
       "\tNumBanyos & 0.8563304 & 1.0000000 & 0.6946567 & 0.7357010 & 0.5263001 & 0.6958775\\\\\n",
       "\tNumDormitorios & 0.7599340 & 0.6946567 & 1.0000000 & 0.7998765 & 0.7822484 & 0.8788471\\\\\n",
       "\tNumCamas & 0.8919924 & 0.7357010 & 0.7998765 & 1.0000000 & 0.5823008 & 0.6858189\\\\\n",
       "\tMetrosCuadrados & 0.5579949 & 0.5263001 & 0.7822484 & 0.5823008 & 1.0000000 & 0.7454525\\\\\n",
       "\tPrecio & 0.7547968 & 0.6958775 & 0.8788471 & 0.6858189 & 0.7454525 & 1.0000000\\\\\n",
       "\\end{tabular}\n"
      ],
      "text/markdown": [
       "\n",
       "A matrix: 6 × 6 of type dbl\n",
       "\n",
       "| <!--/--> | MaxOcupantes | NumBanyos | NumDormitorios | NumCamas | MetrosCuadrados | Precio |\n",
       "|---|---|---|---|---|---|---|\n",
       "| MaxOcupantes | 1.0000000 | 0.8563304 | 0.7599340 | 0.8919924 | 0.5579949 | 0.7547968 |\n",
       "| NumBanyos | 0.8563304 | 1.0000000 | 0.6946567 | 0.7357010 | 0.5263001 | 0.6958775 |\n",
       "| NumDormitorios | 0.7599340 | 0.6946567 | 1.0000000 | 0.7998765 | 0.7822484 | 0.8788471 |\n",
       "| NumCamas | 0.8919924 | 0.7357010 | 0.7998765 | 1.0000000 | 0.5823008 | 0.6858189 |\n",
       "| MetrosCuadrados | 0.5579949 | 0.5263001 | 0.7822484 | 0.5823008 | 1.0000000 | 0.7454525 |\n",
       "| Precio | 0.7547968 | 0.6958775 | 0.8788471 | 0.6858189 | 0.7454525 | 1.0000000 |\n",
       "\n"
      ],
      "text/plain": [
       "                MaxOcupantes NumBanyos NumDormitorios NumCamas  MetrosCuadrados\n",
       "MaxOcupantes    1.0000000    0.8563304 0.7599340      0.8919924 0.5579949      \n",
       "NumBanyos       0.8563304    1.0000000 0.6946567      0.7357010 0.5263001      \n",
       "NumDormitorios  0.7599340    0.6946567 1.0000000      0.7998765 0.7822484      \n",
       "NumCamas        0.8919924    0.7357010 0.7998765      1.0000000 0.5823008      \n",
       "MetrosCuadrados 0.5579949    0.5263001 0.7822484      0.5823008 1.0000000      \n",
       "Precio          0.7547968    0.6958775 0.8788471      0.6858189 0.7454525      \n",
       "                Precio   \n",
       "MaxOcupantes    0.7547968\n",
       "NumBanyos       0.6958775\n",
       "NumDormitorios  0.8788471\n",
       "NumCamas        0.6858189\n",
       "MetrosCuadrados 0.7454525\n",
       "Precio          1.0000000"
      ]
     },
     "metadata": {},
     "output_type": "display_data"
    },
    {
     "name": "stdout",
     "output_type": "stream",
     "text": [
      "[1] \"Según lo que nos muestra la correlación, las tres variables que más influyen son:  NumDormitorios, MaxOcupantes, MetrosCuadrados. \"\n",
      "[1] \"Tras hacer el modelo NumDormitorios, MaxOcupantes, NumCamas y MetrosCuadrados.  serían las variables que más afectan al precio. Sin embargo, la variable que más incidencia parece tener es NumDormitorios así parece reflejarse en el resumen del modelo y en los .\"\n",
      "\n",
      "Call:\n",
      "glm(formula = Precio ~ NumDormitorios + MetrosCuadrados + MaxOcupantes + \n",
      "    NumBanyos + NumCamas, data = datosBarrioSol)\n",
      "\n",
      "Deviance Residuals: \n",
      "    Min       1Q   Median       3Q      Max  \n",
      "-71.805   -9.113    3.940   20.786   53.803  \n",
      "\n",
      "Coefficients:\n",
      "                Estimate Std. Error t value Pr(>|t|)   \n",
      "(Intercept)      -6.3305    21.8418  -0.290  0.77545   \n",
      "NumDormitorios   35.5854    10.9271   3.257  0.00465 **\n",
      "MetrosCuadrados   0.2212     0.2380   0.929  0.36575   \n",
      "MaxOcupantes     13.3723     7.5544   1.770  0.09463 . \n",
      "NumBanyos        -0.4880    16.8312  -0.029  0.97721   \n",
      "NumCamas        -11.4163     6.5181  -1.751  0.09788 . \n",
      "---\n",
      "Signif. codes:  0 ‘***’ 0.001 ‘**’ 0.01 ‘*’ 0.05 ‘.’ 0.1 ‘ ’ 1\n",
      "\n",
      "(Dispersion parameter for gaussian family taken to be 981.4749)\n",
      "\n",
      "    Null deviance: 99656  on 22  degrees of freedom\n",
      "Residual deviance: 16685  on 17  degrees of freedom\n",
      "AIC: 230.77\n",
      "\n",
      "Number of Fisher Scoring iterations: 2\n",
      "\n",
      "    (Intercept)  NumDormitorios MetrosCuadrados    MaxOcupantes       NumBanyos \n",
      "     -6.3305398      35.5853720       0.2211722      13.3723084      -0.4880013 \n",
      "       NumCamas \n",
      "    -11.4163065 \n"
     ]
    }
   ],
   "source": [
    "datosBarrioSol <- barrio_sol[, c(\"MaxOcupantes\", \"NumBanyos\", \"NumDormitorios\", \"NumCamas\", \"MetrosCuadrados\", \"Precio\")]\n",
    "cor(datosBarrioSol, use='complete')\n",
    "print(\n",
    "    paste(\n",
    "        'Según lo que nos muestra la correlación, las tres variables que más influyen son: ',\n",
    "        'NumDormitorios, MaxOcupantes, MetrosCuadrados. '\n",
    "    )\n",
    ")\n",
    "lmVariables <- glm(data=datosBarrioSol, formula= Precio ~ NumDormitorios+MetrosCuadrados+MaxOcupantes+NumBanyos+NumCamas)\n",
    "print(\n",
    "    paste(\n",
    "        'Tras hacer el modelo',\n",
    "        'NumDormitorios, MaxOcupantes, NumCamas y MetrosCuadrados. ',\n",
    "        'serían las variables que más afectan al precio.',\n",
    "        'Sin embargo, la variable que más incidencia parece tener es NumDormitorios',\n",
    "        'así parece reflejarse en el resumen del modelo y en los .'\n",
    "    )\n",
    ")\n",
    "# Resumen del modelo\n",
    "print(summary(lmVariables))\n",
    "# Coeficientes del modelo\n",
    "print(lmVariables$coefficients)"
   ]
  },
  {
   "cell_type": "markdown",
   "metadata": {},
   "source": [
    "¿Que variable es más fiable para conocer el precio de un inmueble, el número de habitaciones o los metros cuadrados?"
   ]
  },
  {
   "cell_type": "code",
   "execution_count": 32,
   "metadata": {},
   "outputs": [
    {
     "data": {
      "text/plain": [
       "\n",
       "Call:\n",
       "lm(formula = Precio ~ NumDormitorios, data = datosBarrioSol)\n",
       "\n",
       "Residuals:\n",
       "     Min       1Q   Median       3Q      Max \n",
       "-102.648  -17.269   -3.242   20.082   48.352 \n",
       "\n",
       "Coefficients:\n",
       "               Estimate Std. Error t value Pr(>|t|)    \n",
       "(Intercept)      34.891     12.534   2.784   0.0111 *  \n",
       "NumDormitorios   43.351      5.136   8.441 3.45e-08 ***\n",
       "---\n",
       "Signif. codes:  0 ‘***’ 0.001 ‘**’ 0.01 ‘*’ 0.05 ‘.’ 0.1 ‘ ’ 1\n",
       "\n",
       "Residual standard error: 32.87 on 21 degrees of freedom\n",
       "Multiple R-squared:  0.7724,\tAdjusted R-squared:  0.7615 \n",
       "F-statistic: 71.26 on 1 and 21 DF,  p-value: 3.445e-08\n"
      ]
     },
     "metadata": {},
     "output_type": "display_data"
    },
    {
     "data": {
      "text/plain": [
       "\n",
       "Call:\n",
       "lm(formula = Precio ~ MetrosCuadrados, data = datosBarrioSol)\n",
       "\n",
       "Residuals:\n",
       "    Min      1Q  Median      3Q     Max \n",
       "-68.786 -35.244   1.585   8.437 116.570 \n",
       "\n",
       "Coefficients:\n",
       "                Estimate Std. Error t value Pr(>|t|)    \n",
       "(Intercept)      17.5027    22.7873   0.768    0.451    \n",
       "MetrosCuadrados   1.1059     0.2158   5.125 4.46e-05 ***\n",
       "---\n",
       "Signif. codes:  0 ‘***’ 0.001 ‘**’ 0.01 ‘*’ 0.05 ‘.’ 0.1 ‘ ’ 1\n",
       "\n",
       "Residual standard error: 45.92 on 21 degrees of freedom\n",
       "Multiple R-squared:  0.5557,\tAdjusted R-squared:  0.5345 \n",
       "F-statistic: 26.27 on 1 and 21 DF,  p-value: 4.465e-05\n"
      ]
     },
     "metadata": {},
     "output_type": "display_data"
    },
    {
     "name": "stdout",
     "output_type": "stream",
     "text": [
      "[1] \"Según parecen confirmar los análisis de cada uno de los modelos, el número de dormitorios parece influir más en el precio.\"\n"
     ]
    }
   ],
   "source": [
    "#Modelo Habitaciones\n",
    "modelNumHabitaciones <- lm(data=datosBarrioSol, formula = Precio~NumDormitorios)\n",
    "summary(modelNumHabitaciones)\n",
    "\n",
    "#Modelo Metros Cuadrados\n",
    "modelMetrosCuadrados <- lm(data=datosBarrioSol, formula = Precio~MetrosCuadrados)\n",
    "summary(modelMetrosCuadrados)\n",
    "\n",
    "print(\n",
    "    paste(\n",
    "        \"Según parecen confirmar los análisis de cada uno de los modelos,\",\n",
    "        \"el número de dormitorios parece influir más en el precio.\"\n",
    "    )\n",
    ")\n",
    "\n"
   ]
  },
  {
   "cell_type": "markdown",
   "metadata": {},
   "source": [
    "Responde con su correspondiente margen de error del 95%, ¿cuantos euros incrementa el precio del alquiler por cada metro cuadrado extra del piso?"
   ]
  },
  {
   "cell_type": "code",
   "execution_count": 33,
   "metadata": {},
   "outputs": [
    {
     "data": {
      "text/html": [
       "'Intervalo de confianza del 95% del aumento en euros por cada metro cuadrado extra: [ 0.657147111445341 , 1.55465323762361 ]'"
      ],
      "text/latex": [
       "'Intervalo de confianza del 95\\% del aumento en euros por cada metro cuadrado extra: {[} 0.657147111445341 , 1.55465323762361 {]}'"
      ],
      "text/markdown": [
       "'Intervalo de confianza del 95% del aumento en euros por cada metro cuadrado extra: [ 0.657147111445341 , 1.55465323762361 ]'"
      ],
      "text/plain": [
       "[1] \"Intervalo de confianza del 95% del aumento en euros por cada metro cuadrado extra: [ 0.657147111445341 , 1.55465323762361 ]\""
      ]
     },
     "metadata": {},
     "output_type": "display_data"
    }
   ],
   "source": [
    "p<-0.05\n",
    "covMetrosCuadrados <- vcov(modelMetrosCuadrados)\n",
    "error<-qt(1-p/2,nrow(datosBarrioSol)-2)*sqrt(covMetrosCuadrados[2,2])\n",
    "paste(\"Intervalo de confianza del 95% del aumento en euros por cada metro cuadrado extra: [\",\n",
    "      modelMetrosCuadrados$coefficients[2]-error,\",\",modelMetrosCuadrados$coefficients[2]+error,\"]\")"
   ]
  },
  {
   "cell_type": "markdown",
   "metadata": {},
   "source": [
    "Responde con su correspondiente margen de error del 95%, ¿cuantos euros incrementa el precio del alquiler por cada habitación?"
   ]
  },
  {
   "cell_type": "code",
   "execution_count": 34,
   "metadata": {},
   "outputs": [
    {
     "data": {
      "text/html": [
       "<style>\n",
       ".dl-inline {width: auto; margin:0; padding: 0}\n",
       ".dl-inline>dt, .dl-inline>dd {float: none; width: auto; display: inline-block}\n",
       ".dl-inline>dt::after {content: \":\\0020\"; padding-right: .5ex}\n",
       ".dl-inline>dt:not(:first-of-type) {padding-left: .5ex}\n",
       "</style><dl class=dl-inline><dt>(Intercept)</dt><dd>34.8906581740976</dd><dt>NumDormitorios</dt><dd>43.3513800424629</dd></dl>\n"
      ],
      "text/latex": [
       "\\begin{description*}\n",
       "\\item[(Intercept)] 34.8906581740976\n",
       "\\item[NumDormitorios] 43.3513800424629\n",
       "\\end{description*}\n"
      ],
      "text/markdown": [
       "(Intercept)\n",
       ":   34.8906581740976NumDormitorios\n",
       ":   43.3513800424629\n",
       "\n"
      ],
      "text/plain": [
       "   (Intercept) NumDormitorios \n",
       "      34.89066       43.35138 "
      ]
     },
     "metadata": {},
     "output_type": "display_data"
    },
    {
     "data": {
      "text/html": [
       "'Intervalo de confianza del 95% del aumento en euros por cada habitación extra: [ 32.6712787195702 , 54.0314813653555 ]'"
      ],
      "text/latex": [
       "'Intervalo de confianza del 95\\% del aumento en euros por cada habitación extra: {[} 32.6712787195702 , 54.0314813653555 {]}'"
      ],
      "text/markdown": [
       "'Intervalo de confianza del 95% del aumento en euros por cada habitación extra: [ 32.6712787195702 , 54.0314813653555 ]'"
      ],
      "text/plain": [
       "[1] \"Intervalo de confianza del 95% del aumento en euros por cada habitación extra: [ 32.6712787195702 , 54.0314813653555 ]\""
      ]
     },
     "metadata": {},
     "output_type": "display_data"
    }
   ],
   "source": [
    "modelNumHabitaciones$coefficients\n",
    "p<-0.05\n",
    "vcovHabitaciones <- vcov(modelNumHabitaciones)\n",
    "error<-qt(1-p/2,nrow(datosBarrioSol)-2)*sqrt(vcovHabitaciones[2,2])\n",
    "paste(\"Intervalo de confianza del 95% del aumento en euros por cada habitación extra: [\",\n",
    "      modelNumHabitaciones$coefficients[2]-error,\",\",modelNumHabitaciones$coefficients[2]+error,\"]\")\n"
   ]
  },
  {
   "cell_type": "markdown",
   "metadata": {},
   "source": [
    "¿Cual es la probabilidad de encontrar, en el barrio de Sol, un apartamento en alquiler con 3 dormitorios?\n",
    "¿Cual es el margen de error de esa probabilidad?"
   ]
  },
  {
   "cell_type": "code",
   "execution_count": null,
   "metadata": {},
   "outputs": [],
   "source": []
  },
  {
   "cell_type": "code",
   "execution_count": 35,
   "metadata": {},
   "outputs": [
    {
     "name": "stdout",
     "output_type": "stream",
     "text": [
      "[1] \"Según la función: El margen de error estaría entre: 0.01070997 0.28037934 Y la probabilidad de encontrar un apartamento con 3 dormitorios sería: 0.08695652\"\n",
      "\n",
      "\tExact binomial test\n",
      "\n",
      "data:  smElementos and nElementos\n",
      "number of successes = 2, number of trials = 23, p-value = 6.604e-05\n",
      "alternative hypothesis: true probability of success is not equal to 0.5\n",
      "95 percent confidence interval:\n",
      " 0.01070997 0.28037934\n",
      "sample estimates:\n",
      "probability of success \n",
      "            0.08695652 \n",
      "\n"
     ]
    }
   ],
   "source": [
    "numeroDormitorios <- 3\n",
    "datos <- datosBarrioSol$NumDormitorios == numeroDormitorios\n",
    "nElementos <- length(datos)\n",
    "smElementos <- sum(datos)\n",
    "\n",
    "print(\n",
    "    paste(\n",
    "        'Según la función:',\n",
    "        'El margen de error estaría entre: 0.01070997 0.28037934',\n",
    "        'Y la probabilidad de encontrar un apartamento con 3 dormitorios sería: 0.08695652'\n",
    "    )\n",
    ")\n",
    "print(\n",
    "    binom.test(smElementos,nElementos)\n",
    ")\n"
   ]
  },
  {
   "cell_type": "code",
   "execution_count": null,
   "metadata": {},
   "outputs": [],
   "source": []
  }
 ],
 "metadata": {
  "kernelspec": {
   "display_name": "R",
   "language": "R",
   "name": "ir"
  },
  "language_info": {
   "codemirror_mode": "r",
   "file_extension": ".r",
   "mimetype": "text/x-r-source",
   "name": "R",
   "pygments_lexer": "r",
   "version": "3.6.0"
  }
 },
 "nbformat": 4,
 "nbformat_minor": 2
}

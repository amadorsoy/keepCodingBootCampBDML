{
 "cells": [
  {
   "cell_type": "code",
   "execution_count": 67,
   "metadata": {},
   "outputs": [],
   "source": [
    "#Importación de librerías necesarias\n",
    "import numpy as np\n",
    "import pandas as pd\n",
    "\n",
    "import matplotlib.pyplot as plt\n",
    "from matplotlib.colors import ListedColormap\n",
    "%matplotlib inline\n",
    "\n",
    "cm = plt.cm.RdBu\n",
    "cm_bright = ListedColormap(['#FF0000', '#0000FF'])\n",
    "\n",
    "import warnings\n",
    "warnings.filterwarnings('ignore')\n",
    "\n",
    "from sklearn.model_selection import train_test_split\n",
    "from sklearn import preprocessing\n",
    "from sklearn.preprocessing import LabelEncoder\n",
    "import seaborn as sns\n",
    "from sklearn.model_selection import GridSearchCV\n",
    "from sklearn.linear_model import Lasso\n",
    "from sklearn.ensemble import RandomForestRegressor\n",
    "from sklearn.model_selection import KFold\n",
    "\n",
    "from sklearn.linear_model import LinearRegression, Ridge, Lasso, ElasticNet, RidgeCV, LassoCV, ElasticNetCV\n",
    "from sklearn.preprocessing import PolynomialFeatures, StandardScaler\n",
    "from sklearn.metrics import mean_squared_error\n",
    "\n",
    "le = LabelEncoder()"
   ]
  },
  {
   "cell_type": "code",
   "execution_count": 2,
   "metadata": {},
   "outputs": [],
   "source": [
    "# Definición del archivo a leer\n",
    "FILE_PATH = '../project/airbnb-listings-extract.csv'\n",
    "ARRAY_OBJECTS_COLUMNS_TO_DROP = ['Calendar Updated', 'Calendar last Scraped', 'First Review', 'Last Review', 'Listing Url',\n",
    "                         'Last Scraped', 'Name', 'Summary', 'Space', 'Description', 'Neighborhood Overview', 'Notes',\n",
    "                         'Transit', 'Access', 'Interaction', 'House Rules', 'Thumbnail Url', 'Medium Url', 'Picture Url',\n",
    "                         'XL Picture Url', 'Host URL', 'Host Name', 'Host Since', 'Host Location', 'Host About', \n",
    "                         'Host Thumbnail Url', 'Amenities', 'License', 'Host Picture Url']\n",
    "ARRAY_NUMERIC_COLUMNS_TO_DROP = ['Weekly Price', 'Monthly Price', 'ID', 'Scrape ID', 'Host ID', 'Geolocation']\n",
    "COLUMNS_TO_TRANSFORM_NA = ['Review Scores Rating', 'Review Scores Accuracy', 'Review Scores Cleanliness',\n",
    "                          'Review Scores Checkin', 'Review Scores Communication', 'Review Scores Location',\n",
    "                          'Review Scores Value', 'Reviews per Month', 'Security Deposit', 'Cleaning Fee',\n",
    "                          'Host Response Rate', 'Host Listings Count', 'Host Total Listings Count']\n",
    "COLUMNS_TO_TRANSFORM = ['Availability 90', 'Availability 30', 'Availability 60', 'Availability 365']"
   ]
  },
  {
   "cell_type": "code",
   "execution_count": 3,
   "metadata": {},
   "outputs": [],
   "source": [
    "# Definición de variables a usar\n",
    "train_columns_null = []\n",
    "test_columns_null = []"
   ]
  },
  {
   "cell_type": "code",
   "execution_count": 42,
   "metadata": {},
   "outputs": [],
   "source": [
    "# Definición de funciones a usar tanto en TRAIN como en TEST\n",
    "\n",
    "# Eliminar los registros que no sean de Madrid de los datos pasados\n",
    "def drop_data_not_equals_madrid(df):\n",
    "    df = df[df.City == 'Madrid']\n",
    "    return df\n",
    "\n",
    "def drop_price_is_null(df):\n",
    "    df = df[df['Price'].isnull() == False]\n",
    "    return df\n",
    "\n",
    "# Eliminar las columnas indicadas en el array\n",
    "def drop_columns(df, array_columns):\n",
    "    df = df.drop(array_columns, axis=1)\n",
    "    return df\n",
    "    \n",
    "# Eliminar las variables que indican territorio por estar filtrado con los registros\n",
    "def drop_territory_columns(df):\n",
    "    df = drop_columns(df, ['State', 'Country Code', 'Smart Location', 'Country', 'City' ])\n",
    "    return df\n",
    "    \n",
    "# Obtener las columnas que no tienen valores en sus registros\n",
    "def get_null_columns(df, array_columns_null):\n",
    "    for col in df.columns:\n",
    "        if len(df[col][df[col].isnull()]) == len(df):\n",
    "            array_columns_null.append(col)\n",
    "\n",
    "def move_price_to_first_colum(df):\n",
    "    cols = df.columns.tolist()\n",
    "    cols = cols[-(len(cols) - cols.index('Price')):] + cols[0:cols.index('Price')]\n",
    "    return df[cols]\n",
    "\n",
    "def standar_col(col):\n",
    "    mean = np.mean(col)\n",
    "    std = np.std(col)\n",
    "    if (mean > 0) & (std > 0):\n",
    "        col.apply(lambda x: (x - mean) / std)\n",
    "    return col\n",
    "\n",
    "def transform_with_label_encoder(df, columnName):\n",
    "    df[columnName] = le.fit_transform(df[columnName])\n",
    "    df[columnName] = standar_col(df[columnName])\n",
    "    return df\n",
    "\n",
    "def change_column_in_category(df):\n",
    "    types = df.dtypes\n",
    "    columnsObject = (types[types == 'object']).keys()\n",
    "    for column in columnsObject:\n",
    "        if len(df[column][df[column].isnull()]) > 0:\n",
    "            df[column].fillna(\"UNKNOW\", inplace=True)        \n",
    "        df = transform_with_label_encoder(df, column)\n",
    "    return df\n",
    "\n",
    "def transform_with_hundreds(val):\n",
    "    if val == 1000:\n",
    "        return '1000'\n",
    "    elif 900.0 <= val < 1000.0:\n",
    "        return '900-999.99'\n",
    "    elif 800.0 <= val < 900.0:\n",
    "        return '800-899.99'\n",
    "    elif 700.0 <= val < 800.0:\n",
    "        return '700-799.99'\n",
    "    elif 600.0 <= val < 700.0:\n",
    "        return '600-699.99'\n",
    "    elif 500.0 <= val < 600.0:\n",
    "        return '500-599.99'\n",
    "    elif 400.0 <= val < 500.0:\n",
    "        return '400-499.99'\n",
    "    elif 300.0 <= val < 400.0:\n",
    "        return '300-399.99'\n",
    "    elif 200.0 <= val < 300.0:\n",
    "        return '200-299.99'\n",
    "    elif 100.0 <= val < 200.0:\n",
    "        return '100-199.99'\n",
    "    elif val < 100.0:\n",
    "        return '0-99.99'\n",
    "\n",
    "def transform_with_tens(val):\n",
    "    if val == 100:\n",
    "        return '100'\n",
    "    elif 90.0 <= val < 100.0:\n",
    "        return '90-99'\n",
    "    elif 80.0 <= val < 90.0:\n",
    "        return '80-89'\n",
    "    elif 70.0 <= val < 80.0:\n",
    "        return '70-79'\n",
    "    elif 60.0 <= val < 70.0:\n",
    "        return '60-69'\n",
    "    elif 50.0 <= val < 60.0:\n",
    "        return '50-59'\n",
    "    elif 40.0 <= val < 50.0:\n",
    "        return '40-49'\n",
    "    elif 30.0 <= val < 40.0:\n",
    "        return '30-39'\n",
    "    elif 20.0 <= val < 30.0:\n",
    "        return '20-29'\n",
    "    elif 10.0 <= val < 20.0:\n",
    "        return '10-19'\n",
    "    elif val < 10.0:\n",
    "        return '0-9'\n",
    "    \n",
    "def transform_with_units(val):\n",
    "    if type(val) == str:\n",
    "        return val\n",
    "    elif val == 10:\n",
    "        return '10'\n",
    "    elif 9.0 <= val < 10.0:\n",
    "        return '9-9.99'\n",
    "    elif 8.0 <= val < 9.0:\n",
    "        return '8-8.99'\n",
    "    elif 7.0 <= val < 8.0:\n",
    "        return '7-7.99'\n",
    "    elif 6.0 <= val < 7.0:\n",
    "        return '6-6.99'\n",
    "    elif 5.0 <= val < 6.0:\n",
    "        return '5-5.99'\n",
    "    elif 4.0 <= val < 5.0:\n",
    "        return '4-4.99'\n",
    "    elif 3.0 <= val < 4.0:\n",
    "        return '3-3.99'\n",
    "    elif 2.0 <= val < 3.0:\n",
    "        return '2-2.99'\n",
    "    elif 1.0 <= val < 2.0:\n",
    "        return '1-1.99'\n",
    "    elif val < 1.0:\n",
    "        return '0-0.99'\n",
    "    \n",
    "def reviews_transform(val):\n",
    "    if type(val) == str:\n",
    "        return val\n",
    "    elif val < 10:\n",
    "        return transform_with_units(val)\n",
    "    elif 10.00 <= val < 100.0:\n",
    "        return transform_with_tens(val)\n",
    "    else:\n",
    "        return transform_with_hundreds(val)\n",
    "    \n",
    "def transform_columns_na(df):\n",
    "    for counter in range(len(COLUMNS_TO_TRANSFORM_NA)):\n",
    "        columnName = COLUMNS_TO_TRANSFORM_NA[counter]\n",
    "        if df[columnName].isnull().sum() > 0:\n",
    "            df[ columnName ].fillna(\"No Data\", inplace=True)\n",
    "            df[columnName] = df[columnName].apply(reviews_transform)\n",
    "    for column in COLUMNS_TO_TRANSFORM:\n",
    "        if df[columnName].isnull().sum() > 0:\n",
    "            df[ columnName ].fillna(\"No Data\", inplace=True)\n",
    "        df[columnName] = df[columnName].apply(reviews_transform)\n",
    "    return df\n",
    "\n",
    "def fill_null_data(df, column, value):\n",
    "    df[column] = df[ column ].fillna(value, inplace=False)\n",
    "    return df\n",
    "\n",
    "def process_data_no_train(df):\n",
    "    # Eliminar registros que no sean de Madrid\n",
    "    df = drop_data_not_equals_madrid(df)\n",
    "    if (len(df) > 0):\n",
    "        # Eliminar las variables de territorio\n",
    "        df = drop_territory_columns(df)\n",
    "        # Eliminar las columnas que no tenían datos en test\n",
    "        df = drop_columns(df, train_columns_null)\n",
    "        # Mover Price a la primera columna\n",
    "        df = move_price_to_first_colum(df)\n",
    "        # Eliminar columnas que no merece la pena categorizar\n",
    "        df = drop_columns(df, ARRAY_OBJECTS_COLUMNS_TO_DROP)\n",
    "        # Cambiar las variables object a categoricas\n",
    "        df = change_column_in_category(df)\n",
    "        # Eliminar variables númericas que no se van a usar\n",
    "        df = drop_columns(df, ARRAY_NUMERIC_COLUMNS_TO_DROP)\n",
    "        # Solucionar problemas Null/NAN\n",
    "        df = transform_columns_na(df)\n",
    "        df = change_column_in_category(df)\n",
    "        df = drop_price_is_null(df)\n",
    "        df = fill_null_data(df, 'Bathrooms', 1)\n",
    "        df = fill_null_data(df, 'Bedrooms', 1)\n",
    "        df = fill_null_data(df, 'Beds', 2)\n",
    "        df = drop_columns(df, ['Square Feet'])\n",
    "    return df"
   ]
  },
  {
   "cell_type": "code",
   "execution_count": 5,
   "metadata": {},
   "outputs": [
    {
     "name": "stdout",
     "output_type": "stream",
     "text": [
      "(14780, 89)\n"
     ]
    }
   ],
   "source": [
    "#Lectura de archivo de datos y verifico que lo he cargado correctamente.\n",
    "data = pd.read_csv( FILE_PATH,sep=';', decimal='.')\n",
    "# Vamos a saber cuantos registros y variables tenemos\n",
    "print(data.shape)"
   ]
  },
  {
   "cell_type": "code",
   "execution_count": 6,
   "metadata": {},
   "outputs": [
    {
     "name": "stdout",
     "output_type": "stream",
     "text": [
      "Registros del dataset de training: 11824\n",
      "Registros del dataset de test: 2956\n"
     ]
    }
   ],
   "source": [
    "# Separamos los datos en TRAIN y TEST\n",
    "train, test = train_test_split(data, test_size=0.2, shuffle=True, random_state=0)\n",
    "print(f'Registros del dataset de training: {train.shape[0]}')\n",
    "print(f'Registros del dataset de test: {test.shape[0]}')"
   ]
  },
  {
   "cell_type": "code",
   "execution_count": 7,
   "metadata": {},
   "outputs": [],
   "source": [
    "# Guardamos los datos de Entrenamiento y Test así nos aseguramos de tenerlos separados y guardados.\n",
    "train.to_csv('./train.csv', sep=';', decimal='.', index=False)\n",
    "test.to_csv('./test.csv', sep=';', decimal='.', index=False)"
   ]
  },
  {
   "cell_type": "code",
   "execution_count": 8,
   "metadata": {},
   "outputs": [],
   "source": [
    "# Ahora vamos a cargar los datos de TRAIN para empezar a trabajar sobre ellos y ver qué habría que hacer.\n",
    "dataTrain = pd.read_csv('./train.csv', sep=';', decimal='.')"
   ]
  },
  {
   "cell_type": "code",
   "execution_count": 9,
   "metadata": {},
   "outputs": [
    {
     "name": "stdout",
     "output_type": "stream",
     "text": [
      "Los datos leídos deberían ser 11.824 según la separación anterior, datos realmente leídos:  11824\n"
     ]
    }
   ],
   "source": [
    "# Verificamos que se han cargado todos los registros\n",
    "print(\"Los datos leídos deberían ser 11.824 según la separación anterior, datos realmente leídos: \", dataTrain.shape[0])"
   ]
  },
  {
   "cell_type": "code",
   "execution_count": 10,
   "metadata": {},
   "outputs": [
    {
     "name": "stdout",
     "output_type": "stream",
     "text": [
      "Index(['ID', 'Listing Url', 'Scrape ID', 'Last Scraped', 'Name', 'Summary',\n",
      "       'Space', 'Description', 'Experiences Offered', 'Neighborhood Overview',\n",
      "       'Notes', 'Transit', 'Access', 'Interaction', 'House Rules',\n",
      "       'Thumbnail Url', 'Medium Url', 'Picture Url', 'XL Picture Url',\n",
      "       'Host ID', 'Host URL', 'Host Name', 'Host Since', 'Host Location',\n",
      "       'Host About', 'Host Response Time', 'Host Response Rate',\n",
      "       'Host Acceptance Rate', 'Host Thumbnail Url', 'Host Picture Url',\n",
      "       'Host Neighbourhood', 'Host Listings Count',\n",
      "       'Host Total Listings Count', 'Host Verifications', 'Street',\n",
      "       'Neighbourhood', 'Neighbourhood Cleansed',\n",
      "       'Neighbourhood Group Cleansed', 'City', 'State', 'Zipcode', 'Market',\n",
      "       'Smart Location', 'Country Code', 'Country', 'Latitude', 'Longitude',\n",
      "       'Property Type', 'Room Type', 'Accommodates', 'Bathrooms', 'Bedrooms',\n",
      "       'Beds', 'Bed Type', 'Amenities', 'Square Feet', 'Price', 'Weekly Price',\n",
      "       'Monthly Price', 'Security Deposit', 'Cleaning Fee', 'Guests Included',\n",
      "       'Extra People', 'Minimum Nights', 'Maximum Nights', 'Calendar Updated',\n",
      "       'Has Availability', 'Availability 30', 'Availability 60',\n",
      "       'Availability 90', 'Availability 365', 'Calendar last Scraped',\n",
      "       'Number of Reviews', 'First Review', 'Last Review',\n",
      "       'Review Scores Rating', 'Review Scores Accuracy',\n",
      "       'Review Scores Cleanliness', 'Review Scores Checkin',\n",
      "       'Review Scores Communication', 'Review Scores Location',\n",
      "       'Review Scores Value', 'License', 'Jurisdiction Names',\n",
      "       'Cancellation Policy', 'Calculated host listings count',\n",
      "       'Reviews per Month', 'Geolocation', 'Features'],\n",
      "      dtype='object')\n"
     ]
    }
   ],
   "source": [
    "# muestro las columnas para hacerme una idea de qué campos tengo.\n",
    "columnNames = data.columns\n",
    "print(columnNames)"
   ]
  },
  {
   "cell_type": "code",
   "execution_count": 11,
   "metadata": {},
   "outputs": [
    {
     "data": {
      "text/plain": [
       "Madrid                                 10567\n",
       "Barcelona                                235\n",
       "London                                   104\n",
       "Paris                                     85\n",
       "Palma                                     44\n",
       "                                       ...  \n",
       "Lewisham                                   1\n",
       "Santa Ponsa                                1\n",
       "Madrid, Comunidad de Madrid, ESPANA        1\n",
       "Port de Pollença                           1\n",
       "Tsim Sha Tsui                              1\n",
       "Name: City, Length: 222, dtype: int64"
      ]
     },
     "execution_count": 11,
     "metadata": {},
     "output_type": "execute_result"
    }
   ],
   "source": [
    "# Para empezar a limpiar los datos tengo que ver cuantos datos tengo según la ciudad. \n",
    "dataTrain['City'].value_counts()"
   ]
  },
  {
   "cell_type": "code",
   "execution_count": 12,
   "metadata": {},
   "outputs": [
    {
     "name": "stdout",
     "output_type": "stream",
     "text": [
      "Según los datos vistos, tengo 10.567 datos de Madrid, los registros tras la eliminación:  10567\n"
     ]
    }
   ],
   "source": [
    "# Veo que si escojo solo los datos de Madrid tengo suficientes registros como para asegurar el entrenamiento\n",
    "# Me quedo con todos los registros de Madrid\n",
    "dataTrain = drop_data_not_equals_madrid(dataTrain)\n",
    "print(\"Según los datos vistos, tengo 10.567 datos de Madrid, los registros tras la eliminación: \", dataTrain.shape[0])\n",
    "# Veo que me concuerda el número de Registros con los registros que me había indicado antes que tenía Madrid."
   ]
  },
  {
   "cell_type": "code",
   "execution_count": 13,
   "metadata": {},
   "outputs": [
    {
     "name": "stdout",
     "output_type": "stream",
     "text": [
      "(10567, 84)\n"
     ]
    }
   ],
   "source": [
    "# Comprobando los datos que tienen las columnas que nos indican que el registro es de Madrid, porque si todo es correcto\n",
    "# Podemos eliminar esas variables porque no nos afectarán al modelo.\n",
    "# 'State' 'Country Code' 'Smart Location' 'Country' 'City'\n",
    "dataTrain = drop_territory_columns(dataTrain)\n",
    "print(dataTrain.shape)"
   ]
  },
  {
   "cell_type": "code",
   "execution_count": 14,
   "metadata": {},
   "outputs": [
    {
     "name": "stdout",
     "output_type": "stream",
     "text": [
      "['Host Acceptance Rate', 'Has Availability', 'Jurisdiction Names']\n",
      "(10567, 81)\n"
     ]
    }
   ],
   "source": [
    "# Voy a comprobar si hay columnas en entrenamiento que no tengan ningún valor en los datos, en caso que sí, \n",
    "# las elimino completamente\n",
    "get_null_columns(dataTrain, train_columns_null)\n",
    "if len(train_columns_null) > 0:\n",
    "    print(train_columns_null)\n",
    "    dataTrain = drop_columns(dataTrain, train_columns_null)\n",
    "print(dataTrain.shape)"
   ]
  },
  {
   "cell_type": "code",
   "execution_count": 15,
   "metadata": {},
   "outputs": [
    {
     "name": "stdout",
     "output_type": "stream",
     "text": [
      "Ahora el precio está en la primera columna:  Price\n"
     ]
    }
   ],
   "source": [
    "# Mover a la primera columna la variable precio. Para asegurarnos de que sabemos donde localizarla\n",
    "dataTrain = move_price_to_first_colum(dataTrain)\n",
    "print(\"Ahora el precio está en la primera columna: \", dataTrain.columns[0])"
   ]
  },
  {
   "cell_type": "code",
   "execution_count": 16,
   "metadata": {},
   "outputs": [],
   "source": [
    "# Eliminar del dataFrame las columnas object que no merece la pena categorizar\n",
    "dataTrain = drop_columns(dataTrain, ARRAY_OBJECTS_COLUMNS_TO_DROP)"
   ]
  },
  {
   "cell_type": "code",
   "execution_count": 17,
   "metadata": {},
   "outputs": [],
   "source": [
    "# Cambiar las variables object a variables categoricas\n",
    "dataTrain = change_column_in_category(dataTrain)"
   ]
  },
  {
   "cell_type": "code",
   "execution_count": 18,
   "metadata": {},
   "outputs": [],
   "source": [
    "# Eliminar columnas númericas que no aportan para el cálculo\n",
    "dataTrain = drop_columns(dataTrain, ARRAY_NUMERIC_COLUMNS_TO_DROP)"
   ]
  },
  {
   "cell_type": "code",
   "execution_count": 19,
   "metadata": {},
   "outputs": [
    {
     "name": "stdout",
     "output_type": "stream",
     "text": [
      "Las variables que tienen valores Null o NAN en sus registros\n",
      "Price                              8\n",
      "Security Deposit                6018\n",
      "Cleaning Fee                    4285\n",
      "Review Scores Rating            2286\n",
      "Review Scores Accuracy          2302\n",
      "Review Scores Cleanliness       2297\n",
      "Review Scores Checkin           2308\n",
      "Review Scores Communication     2298\n",
      "Review Scores Location          2311\n",
      "Review Scores Value             2310\n",
      "Reviews per Month               2179\n",
      "Host Response Rate              1313\n",
      "Host Listings Count                3\n",
      "Host Total Listings Count          3\n",
      "Bathrooms                         40\n",
      "Bedrooms                          18\n",
      "Beds                              37\n",
      "Square Feet                    10154\n",
      "dtype: int64\n",
      "\n",
      "Las variables que tienen valores Null o NAN en sus registros tras la transformación de 'reviews'\n",
      "Price              8\n",
      "Bathrooms         40\n",
      "Bedrooms          18\n",
      "Beds              37\n",
      "Square Feet    10154\n",
      "dtype: int64\n"
     ]
    }
   ],
   "source": [
    "columnsWithNAN = dataTrain.isnull().sum()\n",
    "print(\"Las variables que tienen valores Null o NAN en sus registros\")\n",
    "print(columnsWithNAN[ columnsWithNAN > 0])\n",
    "dataTrain = transform_columns_na(dataTrain)\n",
    "print(\"\")\n",
    "print(\"Las variables que tienen valores Null o NAN en sus registros tras la transformación de 'reviews'\")\n",
    "columnsWithNAN = dataTrain.isnull().sum()\n",
    "print(columnsWithNAN[ columnsWithNAN > 0])"
   ]
  },
  {
   "cell_type": "code",
   "execution_count": 20,
   "metadata": {},
   "outputs": [
    {
     "name": "stdout",
     "output_type": "stream",
     "text": [
      "En el paso anterior hemos transformado variables númericas a 'String', por lo que hay que hacerlas categóricas\n"
     ]
    }
   ],
   "source": [
    "print(\"En el paso anterior hemos transformado variables númericas a 'String', por lo que hay que hacerlas categóricas\")\n",
    "dataTrain = change_column_in_category(dataTrain)"
   ]
  },
  {
   "cell_type": "code",
   "execution_count": 21,
   "metadata": {},
   "outputs": [
    {
     "name": "stdout",
     "output_type": "stream",
     "text": [
      "Eliminamos todas aquellas filas con precio a 0, pues no nos valdrá para el entrenamiento\n",
      "\n",
      "Las variables que tienen valores Null o NAN en sus registros tras la transformación de 'reviews'\n",
      "Bathrooms         39\n",
      "Bedrooms          18\n",
      "Beds              36\n",
      "Square Feet    10146\n",
      "dtype: int64\n"
     ]
    }
   ],
   "source": [
    "print(\"Eliminamos todas aquellas filas con precio a 0, pues no nos valdrá para el entrenamiento\")\n",
    "dataTrain = drop_price_is_null(dataTrain)\n",
    "print(\"\")\n",
    "print(\"Las variables que tienen valores Null o NAN en sus registros tras la transformación de 'reviews'\")\n",
    "columnsWithNAN = dataTrain.isnull().sum()\n",
    "print(columnsWithNAN[ columnsWithNAN > 0])"
   ]
  },
  {
   "cell_type": "code",
   "execution_count": 22,
   "metadata": {},
   "outputs": [
    {
     "name": "stdout",
     "output_type": "stream",
     "text": [
      "Para [Bathrooms-Bedrooms]: \n",
      "count    10520.000000\n",
      "mean         1.256179\n",
      "std          0.606286\n",
      "min          0.000000\n",
      "25%          1.000000\n",
      "50%          1.000000\n",
      "75%          1.000000\n",
      "max          8.000000\n",
      "Name: Bathrooms, dtype: float64\n",
      "count    10541.000000\n",
      "mean         1.294469\n",
      "std          0.832908\n",
      "min          0.000000\n",
      "25%          1.000000\n",
      "50%          1.000000\n",
      "75%          2.000000\n",
      "max         10.000000\n",
      "Name: Bedrooms, dtype: float64\n",
      "La media se acerca a 1 y la desviación típica se acerca más al 1 que al 0. Por lo tanto decido rellenar a 1 los nulos.\n",
      "Para Beds: \n",
      "count    10523.000000\n",
      "mean         1.992113\n",
      "std          1.528676\n",
      "min          1.000000\n",
      "25%          1.000000\n",
      "50%          1.000000\n",
      "75%          2.000000\n",
      "max         16.000000\n",
      "Name: Beds, dtype: float64\n",
      "La media se acerca a 2 y la desviación típica se acerca más al 2 que al 1. Por lo tanto decido rellenar a 2 los nulos.\n"
     ]
    }
   ],
   "source": [
    "print(\"Para [Bathrooms-Bedrooms]: \")\n",
    "print(dataTrain[\"Bathrooms\"].describe())\n",
    "print(dataTrain[\"Bedrooms\"].describe())\n",
    "print(\"La media se acerca a 1 y la desviación típica se acerca más al 1 que al 0. Por lo tanto decido rellenar a 1 los nulos.\")\n",
    "dataTrain = fill_null_data(dataTrain, 'Bathrooms', 1)\n",
    "dataTrain = fill_null_data(dataTrain, 'Bedrooms', 1)\n",
    "print(\"Para Beds: \")\n",
    "print(dataTrain[\"Beds\"].describe())\n",
    "print(\"La media se acerca a 2 y la desviación típica se acerca más al 2 que al 1. Por lo tanto decido rellenar a 2 los nulos.\")\n",
    "dataTrain = fill_null_data(dataTrain, 'Beds', 2)"
   ]
  },
  {
   "cell_type": "code",
   "execution_count": 23,
   "metadata": {},
   "outputs": [
    {
     "name": "stdout",
     "output_type": "stream",
     "text": [
      "Para la variable 'Square Feet', tiene  413  registros\n",
      "Para nuestro trabajo, sería una variable que vendría bien, pero que nos ocasionaría más problemas que beneficios.\n",
      "O se rellena con la meda y no lo veo positivo por tener valores tan dispares\n",
      "count     413.000000\n",
      "mean      375.266344\n",
      "std       556.981908\n",
      "min         0.000000\n",
      "25%         0.000000\n",
      "50%        97.000000\n",
      "75%       646.000000\n",
      "max      5167.000000\n",
      "Name: Square Feet, dtype: float64\n"
     ]
    },
    {
     "data": {
      "image/png": "[encoded data removed]",
      "text/plain": [
       "<Figure size 1080x360 with 1 Axes>"
      ]
     },
     "metadata": {
      "needs_background": "light"
     },
     "output_type": "display_data"
    },
    {
     "name": "stdout",
     "output_type": "stream",
     "text": [
      "Por lo que opto por eliminar la variable antes de empezar el modelo.\n"
     ]
    }
   ],
   "source": [
    "print(\"Para la variable 'Square Feet', tiene \", len(dataTrain) - dataTrain[\"Square Feet\"].isnull().sum(), \" registros\")\n",
    "print(\"Para nuestro trabajo, sería una variable que vendría bien, pero que nos ocasionaría más problemas que beneficios.\")\n",
    "print(\"O se rellena con la meda y no lo veo positivo por tener valores tan dispares\")\n",
    "print(dataTrain[\"Square Feet\"].describe())\n",
    "plt.figure(figsize=(15, 5))\n",
    "plt.subplot(1,3,1)\n",
    "dataTrain['Square Feet'].plot.hist(alpha=0.5, bins=100, grid = True)\n",
    "plt.axis([0, 3000, 0, 200])\n",
    "plt.xlabel('Square Feet')\n",
    "plt.show()\n",
    "print(\"Por lo que opto por eliminar la variable antes de empezar el modelo.\")\n",
    "dataTrain = drop_columns(dataTrain, ['Square Feet'])"
   ]
  },
  {
   "cell_type": "code",
   "execution_count": 24,
   "metadata": {},
   "outputs": [
    {
     "name": "stdout",
     "output_type": "stream",
     "text": [
      "Las variables que tienen valores Null o NAN en sus registros tras la transformación de 'reviews'\n",
      "Series([], dtype: int64)\n"
     ]
    }
   ],
   "source": [
    "print(\"Las variables que tienen valores Null o NAN en sus registros tras la transformación de 'reviews'\")\n",
    "columnsWithNAN = dataTrain.isnull().sum()\n",
    "print(columnsWithNAN[ columnsWithNAN > 0])"
   ]
  },
  {
   "cell_type": "code",
   "execution_count": 25,
   "metadata": {},
   "outputs": [
    {
     "data": {
      "text/plain": [
       "Price                             float64\n",
       "Security Deposit                    int32\n",
       "Cleaning Fee                        int32\n",
       "Guests Included                     int64\n",
       "Extra People                        int64\n",
       "Minimum Nights                      int64\n",
       "Maximum Nights                      int64\n",
       "Availability 30                     int64\n",
       "Availability 60                     int64\n",
       "Availability 90                     int64\n",
       "Availability 365                    int64\n",
       "Number of Reviews                   int64\n",
       "Review Scores Rating                int32\n",
       "Review Scores Accuracy              int32\n",
       "Review Scores Cleanliness           int32\n",
       "Review Scores Checkin               int32\n",
       "Review Scores Communication         int32\n",
       "Review Scores Location              int32\n",
       "Review Scores Value                 int32\n",
       "Cancellation Policy                 int32\n",
       "Calculated host listings count    float64\n",
       "Reviews per Month                   int32\n",
       "Features                            int32\n",
       "Experiences Offered                 int32\n",
       "Host Response Time                  int32\n",
       "Host Response Rate                  int32\n",
       "Host Neighbourhood                  int32\n",
       "Host Listings Count                 int32\n",
       "Host Total Listings Count           int32\n",
       "Host Verifications                  int32\n",
       "Street                              int32\n",
       "Neighbourhood                       int32\n",
       "Neighbourhood Cleansed              int32\n",
       "Neighbourhood Group Cleansed        int32\n",
       "Zipcode                             int32\n",
       "Market                              int32\n",
       "Latitude                          float64\n",
       "Longitude                         float64\n",
       "Property Type                       int32\n",
       "Room Type                           int32\n",
       "Accommodates                        int64\n",
       "Bathrooms                         float64\n",
       "Bedrooms                          float64\n",
       "Beds                              float64\n",
       "Bed Type                            int32\n",
       "dtype: object"
      ]
     },
     "execution_count": 25,
     "metadata": {},
     "output_type": "execute_result"
    }
   ],
   "source": [
    "dataTrain.dtypes"
   ]
  },
  {
   "cell_type": "code",
   "execution_count": 26,
   "metadata": {},
   "outputs": [],
   "source": [
    "# Separamos los datos de TRAIN para empezar a elegir propiedades y entrenar Modelo\n",
    "cols = dataTrain.columns.tolist()\n",
    "y_train = dataTrain[cols[0:1]]\n",
    "X_train = dataTrain[cols[1:]]"
   ]
  },
  {
   "cell_type": "code",
   "execution_count": 27,
   "metadata": {},
   "outputs": [
    {
     "data": {
      "text/plain": [
       "GridSearchCV(cv=10, error_score=nan,\n",
       "             estimator=RandomForestRegressor(bootstrap=True, ccp_alpha=0.0,\n",
       "                                             criterion='mse', max_depth=None,\n",
       "                                             max_features='sqrt',\n",
       "                                             max_leaf_nodes=None,\n",
       "                                             max_samples=None,\n",
       "                                             min_impurity_decrease=0.0,\n",
       "                                             min_impurity_split=None,\n",
       "                                             min_samples_leaf=1,\n",
       "                                             min_samples_split=2,\n",
       "                                             min_weight_fraction_leaf=0.0,\n",
       "                                             n_estimators=200, n_jobs=None,\n",
       "                                             oob_score=False, random_state=0,\n",
       "                                             verbose=0, warm_start=False),\n",
       "             iid='deprecated', n_jobs=None,\n",
       "             param_grid={'max_depth': range(1, 15)}, pre_dispatch='2*n_jobs',\n",
       "             refit=True, return_train_score=False, scoring=None, verbose=0)"
      ]
     },
     "execution_count": 27,
     "metadata": {},
     "output_type": "execute_result"
    }
   ],
   "source": [
    "# Uso GridSearchCV y RandomForestClassifier para intentar elegir las mejores Propiedades\n",
    "maxDepth = range(1,15)\n",
    "tuned_parameters = {'max_depth': maxDepth}\n",
    "\n",
    "# Creo un modelo de RandomForestClassifier para aplicar al GridSearchCV\n",
    "featuresModel = RandomForestRegressor(random_state=0, n_estimators=200, max_features='sqrt')\n",
    "\n",
    "#Creo el GridSearchCV con el modelo y el parametro a analizar con su rango y lo ejecuto con X_train e y_train\n",
    "grid = GridSearchCV(featuresModel, param_grid=tuned_parameters,cv=10) \n",
    "grid.fit(X_train, y_train)"
   ]
  },
  {
   "cell_type": "code",
   "execution_count": 28,
   "metadata": {},
   "outputs": [
    {
     "name": "stdout",
     "output_type": "stream",
     "text": [
      "best mean cross-validation score: 0.654\n",
      "best parameters: {'max_depth': 14}\n"
     ]
    },
    {
     "data": {
      "image/png": "[encoded data removed]",
      "text/plain": [
       "<Figure size 432x288 with 1 Axes>"
      ]
     },
     "metadata": {
      "needs_background": "light"
     },
     "output_type": "display_data"
    }
   ],
   "source": [
    "# Una vez tengo los resultados vemos los resultados\n",
    "\n",
    "print(\"best mean cross-validation score: {:.3f}\".format(grid.best_score_))\n",
    "print(\"best parameters: {}\".format(grid.best_params_))\n",
    "\n",
    "scores = np.array(grid.cv_results_['mean_test_score'])\n",
    "plt.plot(maxDepth,scores,'-o')\n",
    "plt.xlabel('max_depth')\n",
    "plt.ylabel('10-fold ACC')\n",
    "\n",
    "plt.show()"
   ]
  },
  {
   "cell_type": "code",
   "execution_count": 29,
   "metadata": {},
   "outputs": [
    {
     "name": "stdout",
     "output_type": "stream",
     "text": [
      "Entrenamiento con 9 como número óptimo:  0.7741207051194541\n"
     ]
    }
   ],
   "source": [
    "# Tras ver la gráfica elijo el 9 como el mejor parametro para ver los puntos con X_train y_train\n",
    "maxDepthOptimo = 9\n",
    "\n",
    "featuresModel = RandomForestRegressor(max_depth=maxDepthOptimo,n_estimators=200,max_features='sqrt').fit(X_train,y_train)\n",
    "\n",
    "print(\"Entrenamiento con 9 como número óptimo: \",featuresModel.score(X_train,y_train))"
   ]
  },
  {
   "cell_type": "code",
   "execution_count": 30,
   "metadata": {},
   "outputs": [
    {
     "data": {
      "image/png": "[encoded data removed]",
      "text/plain": [
       "<Figure size 720x720 with 1 Axes>"
      ]
     },
     "metadata": {
      "needs_background": "light"
     },
     "output_type": "display_data"
    }
   ],
   "source": [
    "# Y vemos la importancia de las variables para quedarnos con las más favorables\n",
    "features = X_train.columns\n",
    "\n",
    "importances = featuresModel.feature_importances_\n",
    "importances = importances / np.max(importances)\n",
    "\n",
    "indices = np.argsort(importances)[::-1]\n",
    "\n",
    "plt.figure(figsize=(10,10))\n",
    "plt.barh(range(X_train.shape[1]),importances[indices])\n",
    "plt.yticks(range(X_train.shape[1]),features[indices])\n",
    "plt.show()"
   ]
  },
  {
   "cell_type": "code",
   "execution_count": 31,
   "metadata": {},
   "outputs": [
    {
     "name": "stdout",
     "output_type": "stream",
     "text": [
      "# features 1 error 0.6962963544738673 +/- 0.0729664275091719\n",
      "# features 2 error 0.6065545070152822 +/- 0.06668872748349221\n",
      "# features 3 error 0.5561466102084457 +/- 0.06785448305075265\n",
      "# features 4 error 0.46939827080908697 +/- 0.0752756921962555\n",
      "# features 5 error 0.4739490905628654 +/- 0.07400243018382732\n",
      "# features 6 error 0.4666768332556746 +/- 0.06547855027445076\n",
      "# features 7 error 0.44777858657936803 +/- 0.06388697252817487\n",
      "# features 8 error 0.43937552212360675 +/- 0.060428996791915594\n",
      "# features 9 error 0.4331335608149975 +/- 0.06113781086893663\n",
      "# features 10 error 0.40587505335745033 +/- 0.05875369787252842\n",
      "# features 11 error 0.4013120042503665 +/- 0.06020044080097693\n",
      "# features 12 error 0.39200326927989926 +/- 0.054422069988085485\n",
      "# features 13 error 0.38527468131765863 +/- 0.05457500370939986\n",
      "# features 14 error 0.382773877131923 +/- 0.05270667593577413\n",
      "# features 15 error 0.37815540583511703 +/- 0.044273977682452816\n",
      "# features 16 error 0.37738227449968537 +/- 0.04603665289414306\n",
      "# features 17 error 0.375860438246417 +/- 0.04302718795175076\n",
      "# features 18 error 0.3753076113804459 +/- 0.0445579156031127\n",
      "# features 19 error 0.37560935869867096 +/- 0.04697475352676086\n",
      "# features 20 error 0.37555488435633066 +/- 0.04311581078593264\n",
      "# features 21 error 0.37705713316029393 +/- 0.04462952445005053\n",
      "# features 22 error 0.3750292645646373 +/- 0.04604838229536462\n",
      "# features 23 error 0.37441020654890056 +/- 0.04508629018585036\n",
      "# features 24 error 0.3758593545781509 +/- 0.044431272079909837\n",
      "# features 25 error 0.37560190025875106 +/- 0.04371450018712803\n",
      "# features 26 error 0.37637233775523604 +/- 0.044024782348240754\n",
      "# features 27 error 0.3776112133640309 +/- 0.04395830952842447\n",
      "# features 28 error 0.37719453619195964 +/- 0.0453980921975748\n",
      "# features 29 error 0.37667191516644366 +/- 0.04720332304923648\n",
      "# features 30 error 0.375449150354618 +/- 0.04530216856826781\n",
      "# features 31 error 0.3781915450976892 +/- 0.04657954993809185\n",
      "# features 32 error 0.37818906811663733 +/- 0.044356075150868646\n",
      "# features 33 error 0.3770757235250522 +/- 0.04281982777991098\n",
      "# features 34 error 0.37922607496792926 +/- 0.0466754681612067\n",
      "# features 35 error 0.38019630026344425 +/- 0.044639175984161825\n",
      "# features 36 error 0.377802601980796 +/- 0.045072756713278\n",
      "# features 37 error 0.3761492844824318 +/- 0.044146772720980776\n",
      "# features 38 error 0.3777094639757351 +/- 0.043861526126920757\n",
      "# features 39 error 0.3757750230048643 +/- 0.04366524280348975\n",
      "# features 40 error 0.3781406367610636 +/- 0.04353097258537143\n",
      "# features 41 error 0.38040684040858574 +/- 0.04454611684366325\n",
      "# features 42 error 0.3795033828176122 +/- 0.04451847340000169\n",
      "# features 43 error 0.3813016924052971 +/- 0.04250658316655785\n",
      "# features 44 error 0.38170849459211403 +/- 0.04227587099435589\n"
     ]
    }
   ],
   "source": [
    "N,Nfeatures = X_train.shape\n",
    "\n",
    "rf = RandomForestRegressor(max_depth=maxDepthOptimo,n_estimators=200,max_features='sqrt')\n",
    "kf  = KFold(n_splits=10, shuffle = True, random_state=1)\n",
    "cv_error = []\n",
    "cv_std = []\n",
    "cv_name = []\n",
    "\n",
    "for nfeatures in range(Nfeatures,0,-1):\n",
    "        \n",
    "    error_i = []\n",
    "    \n",
    "    for idxTrain, idxVal in kf.split(X_train):\n",
    "      \n",
    "        Xt = X_train.iloc[idxTrain, :]\n",
    "        yt = y_train.iloc[idxTrain]\n",
    "        Xv = X_train.iloc[idxVal, : ]\n",
    "        yv = y_train.iloc[idxVal]\n",
    "        \n",
    "        rf.fit(Xt,yt)\n",
    "        \n",
    "        ranking = rf.feature_importances_\n",
    "        indices = np.argsort(ranking)[::-1]\n",
    "        \n",
    "        selected = indices[0:(Nfeatures-nfeatures+1)]\n",
    "        \n",
    "        Xs = Xt[Xt.columns[selected]]       \n",
    "        \n",
    "        rf.fit(Xs,yt)\n",
    "        \n",
    "        error = (1.0-rf.score(Xv[Xv.columns[selected]],yv))     \n",
    "        error_i.append(error) \n",
    "    \n",
    "    cv_error.append(np.mean(error_i))\n",
    "    cv_std.append(np.std(error_i))    \n",
    "    \n",
    "    print('# features ' + str(len(selected)) + ' error ' + str(np.mean(error_i)) + ' +/- ' + str(np.std(error_i)))    \n"
   ]
  },
  {
   "cell_type": "code",
   "execution_count": 34,
   "metadata": {},
   "outputs": [
    {
     "data": {
      "image/png": "[encoded data removed]",
      "text/plain": [
       "<Figure size 432x288 with 1 Axes>"
      ]
     },
     "metadata": {
      "needs_background": "light"
     },
     "output_type": "display_data"
    }
   ],
   "source": [
    "plt.plot(range(1,Nfeatures+1,1),cv_error,'-o')\n",
    "plt.errorbar(range(1,Nfeatures+1,1), cv_error, yerr=cv_std, fmt='o')\n",
    "plt.xlabel('# features')\n",
    "plt.ylabel('CV error')\n",
    "lt.show()"
   ]
  },
  {
   "cell_type": "code",
   "execution_count": 120,
   "metadata": {},
   "outputs": [
    {
     "name": "stdout",
     "output_type": "stream",
     "text": [
      "Mi primera Selección: \n",
      "Las variables elegidas para entrenar el modelo:  Index(['Bedrooms', 'Accommodates', 'Room Type', 'Bathrooms', 'Beds', 'Guests Included', 'Zipcode', 'Latitude', 'Cleaning Fee', 'Extra People', 'Calculated host listings count', 'Availability 60', 'Minimum Nights', 'Longitude', 'Availability 30', 'Security Deposit', 'Availability 365', 'Availability 90']\n",
      "Se escoge 18 variables, aunque saldría mejor con 23, no hay tanta diferencia y se complicaría mucho el modelo\n",
      "Las variables elegidas para entrenar el modelo:  Index(['Bedrooms', 'Accommodates', 'Room Type', 'Bathrooms', 'Beds',\n",
      "       'Guests Included', 'Zipcode', 'Latitude', 'Cleaning Fee',\n",
      "       'Extra People', 'Calculated host listings count', 'Availability 60',\n",
      "       'Minimum Nights', 'Longitude', 'Availability 30', 'Security Deposit',\n",
      "       'Availability 365', 'Availability 90'],\n",
      "      dtype='object')\n"
     ]
    }
   ],
   "source": [
    "print(\"Mi primera Selección: \")\n",
    "print(\"Las variables elegidas para entrenar el modelo:  Index(['Bedrooms', 'Accommodates', 'Room Type', 'Bathrooms', 'Beds',\",\n",
    "       \"'Guests Included', 'Zipcode', 'Latitude', 'Cleaning Fee',\",\n",
    "       \"'Extra People', 'Calculated host listings count', 'Availability 60',\",\n",
    "       \"'Minimum Nights', 'Longitude', 'Availability 30', 'Security Deposit',\",\n",
    "       \"'Availability 365', 'Availability 90']\")\n",
    "print(\"Se escoge 18 variables, aunque saldría mejor con 23, no hay tanta diferencia y se complicaría mucho el modelo\")\n",
    "selected_features = indices[0:18]\n",
    "print(\"Las variables elegidas para entrenar el modelo: \",X_train.columns[selected_features])"
   ]
  },
  {
   "cell_type": "code",
   "execution_count": 60,
   "metadata": {},
   "outputs": [
    {
     "name": "stdout",
     "output_type": "stream",
     "text": [
      "Es hora de cargar los datos de test y ver qué tal es de eficiente el modelo tras entrenarlo.\n",
      "Tal y como hemos hecho con los datos de TRAIN, tenemos que hacer con los de TEST\n"
     ]
    }
   ],
   "source": [
    "print(\"Es hora de cargar los datos de test y ver qué tal es de eficiente el modelo tras entrenarlo.\")\n",
    "testData = pd.read_csv('./test.csv', sep=';', decimal='.')\n",
    "print(\"Tal y como hemos hecho con los datos de TRAIN, tenemos que hacer con los de TEST\")\n",
    "testData = process_data_no_train(testData)"
   ]
  },
  {
   "cell_type": "code",
   "execution_count": 61,
   "metadata": {},
   "outputs": [],
   "source": [
    "# Volvemos a coger los datos de train y los de test, para entrenar al modelo y probarlo con los de test\n",
    "y_train = dataTrain[cols[0:1]]\n",
    "X_train = dataTrain[cols[1:]]\n",
    "\n",
    "y_test = testData[cols[0:1]]\n",
    "X_test = testData[cols[1:]]"
   ]
  },
  {
   "cell_type": "code",
   "execution_count": 108,
   "metadata": {},
   "outputs": [
    {
     "name": "stdout",
     "output_type": "stream",
     "text": [
      "Train:  0.7747069516033211\n",
      "Test:  0.6333661310539305\n",
      "MSE Modelo RandomForestRegressor (train): 711\n",
      "MSE Modelo RandomForestRegressor (test) : 1.12e+03\n",
      "RMSE Modelo RandomForestRegressor (train): 26.7\n",
      "RMSE Modelo RandomForestRegressor (test) : 33.5\n"
     ]
    }
   ],
   "source": [
    "# Entrenamos al modelo y vemos los resultados\n",
    "priceModel = RandomForestRegressor(max_depth=maxDepthOptimo,n_estimators=200,max_features='sqrt')\n",
    "priceModel.fit(X_train.iloc[:, selected_features],y_train)\n",
    "\n",
    "print(\"Train: \",priceModel.score(X_train.iloc[:, selected_features],y_train))\n",
    "print(\"Test: \",priceModel.score(X_test.iloc[:, selected_features],y_test))\n",
    "\n",
    "yTrainModel = priceModel.predict(X_train.iloc[:, selected_features])\n",
    "yTestModel = priceModel.predict(X_test.iloc[:, selected_features])\n",
    "\n",
    "mseTrain = mean_squared_error(y_train, yTrainModel)\n",
    "mseTest = mean_squared_error(y_test, yTestModel)\n",
    "\n",
    "print('MSE Modelo RandomForestRegressor (train): %0.3g' % mseTrain)\n",
    "print('MSE Modelo RandomForestRegressor (test) : %0.3g' % mseTest)\n",
    "\n",
    "print('RMSE Modelo RandomForestRegressor (train): %0.3g' % np.sqrt(mseTrain))\n",
    "print('RMSE Modelo RandomForestRegressor (test) : %0.3g' % np.sqrt(mseTest))\n"
   ]
  },
  {
   "cell_type": "code",
   "execution_count": 107,
   "metadata": {},
   "outputs": [
    {
     "name": "stdout",
     "output_type": "stream",
     "text": [
      "----\n",
      "LinearRegression  Train Score  0.4766626533933088\n",
      "LinearRegression  Test Score  0.495386877504237\n",
      "LinearRegression mse_train: 1650.6657163615525, mse_test: 1547.0263489083122\n",
      "LinearRegression mrse_train: 40.62838559876029, mrse_test: 39.33225583294597\n",
      "----\n",
      "Ridge  Train Score  0.47666138771286326\n",
      "Ridge  Test Score  0.4954352796766537\n",
      "Ridge mse_train: 1650.6697084621221, mse_test: 1546.8779591167372 best alpha: 0.1\n",
      "Ridge mrse_train: 40.628434728181716, mrse_test: 39.330369425124104 best alpha: 0.1\n",
      "----\n",
      "Lasso  Train Score  0.47657858014663446\n",
      "Lasso  Test Score  0.49566229056317684\n",
      "Lasso mse_train: 1650.9308929763088, mse_test: 1546.1819965916181 best alpha: 0.01\n",
      "Lasso mrse_train: 40.631648907917935, mrse_test: 39.321520781775696 best alpha: 0.01\n",
      "----\n",
      "ElasticNet  Train Score  0.4754488729907409\n",
      "ElasticNet  Test Score  0.4952293919536449\n",
      "ElasticNet mse_train: 1654.4941182722923, mse_test: 1547.5091629404426 best alpha: 0.01 best l1: 0.9\n",
      "ElasticNet mrse_train: 40.67547317822243, mrse_test: 39.338392988789494 best alpha: 0.01 best l1: 0.9\n"
     ]
    }
   ],
   "source": [
    "r = LinearRegression()\n",
    "alphas = [1000, 100, 50, 20, 10, 1, 0.1, 0.01]\n",
    "l1_ratios = [0.001, 0.01, 0.05, 0.1, 0.3, 0.5, 0.7, 0.9]\n",
    "ridge = RidgeCV(alphas=alphas)\n",
    "lasso = LassoCV(alphas=alphas, max_iter=10000)\n",
    "elastic = ElasticNetCV(alphas=alphas, l1_ratio=l1_ratios)\n",
    "\n",
    "for model, name in zip([lr, ridge, lasso, elastic], ['LinearRegression', 'Ridge', 'Lasso', 'ElasticNet']):\n",
    "    model.fit(X_train.iloc[:, selected_features], y_train)\n",
    "    print(\"----\")\n",
    "    print(name,' Train Score ', model.score(X_train.iloc[:, selected_features],y_train))\n",
    "    print(name, ' Test Score ', model.score(X_test.iloc[:, selected_features],y_test))\n",
    "        \n",
    "    y_ModelPredictTrain = model.predict(X_train.iloc[:, selected_features])    \n",
    "    mseTrain = mean_squared_error(y_train, y_ModelPredictTrain)\n",
    "    mrse_train = np.sqrt(mseTrain)\n",
    "    \n",
    "    y_ModelPredictTest = model.predict(X_test.iloc[:, selected_features])\n",
    "    mseTest = mean_squared_error(y_test, y_ModelPredictTest)\n",
    "    mrse_test = np.sqrt(mseTest)\n",
    "    \n",
    "    best_alpha = ''\n",
    "    if name != 'LinearRegression':\n",
    "        best_alpha = ' best alpha: ' + str(model.alpha_)\n",
    "    best_l1 = ''\n",
    "    if name == 'ElasticNet':\n",
    "        best_l1 = ' best l1: '+ str(model.l1_ratio_)\n",
    "    print(name + ' mse_train: ' + str(mseTrain) + ', mse_test: ' + str(mseTest) + best_alpha + best_l1)\n",
    "    print(name + ' mrse_train: ' + str(mrse_train) + ', mrse_test: ' + str(mrse_test) + best_alpha + best_l1)\n",
    "    "
   ]
  },
  {
   "cell_type": "code",
   "execution_count": 121,
   "metadata": {},
   "outputs": [
    {
     "name": "stdout",
     "output_type": "stream",
     "text": [
      "[41 39 38 40 42  2 33 35  1  3 19  7  4 36  6  0  9  8]\n",
      "41   Bedrooms\n",
      "39   Accommodates\n",
      "38   Room Type\n",
      "40   Bathrooms\n",
      "42   Beds\n",
      "2   Guests Included\n",
      "33   Zipcode\n",
      "35   Latitude\n",
      "1   Cleaning Fee\n",
      "3   Extra People\n",
      "19   Calculated host listings count\n",
      "7   Availability 60\n",
      "4   Minimum Nights\n",
      "36   Longitude\n",
      "6   Availability 30\n",
      "0   Security Deposit\n",
      "9   Availability 365\n",
      "8   Availability 90\n",
      "[41 39 38 40 42  2  1  3  4  0]\n",
      "[41 39 38 40 42  2 33 35  1  3 19  7  4 36  6  0  9  8]\n"
     ]
    }
   ],
   "source": [
    "print(\"Elimino las siguientes caracteristicas para simplificar el modelo: \")\n",
    "print(\"Zipcode, Latitude, Longitude: si el barrio no se ha considerado, la localización no debe influir mucho.\")\n",
    "print(\"Calculated host listings count: recuentos calculados de listados del propietario no debe influir.\")\n",
    "print(\"Availability 60, 30, 90, 365: la disponibilidad no debe influir.\")\n",
    "selected_features = np.delete(selected_features, (6, 7, 10, 11, 13, 14, 16, 17) )"
   ]
  },
  {
   "cell_type": "code",
   "execution_count": 122,
   "metadata": {},
   "outputs": [
    {
     "name": "stdout",
     "output_type": "stream",
     "text": [
      "Train:  0.774984357089286\n",
      "Test:  0.6436467670507735\n",
      "MSE Modelo RandomForestRegressor (train): 710\n",
      "MSE Modelo RandomForestRegressor (test) : 1.09e+03\n",
      "RMSE Modelo RandomForestRegressor (train): 26.6\n",
      "RMSE Modelo RandomForestRegressor (test) : 33.1\n",
      "----\n",
      "LinearRegression  Train Score  0.4766626533933088\n",
      "LinearRegression  Test Score  0.495386877504237\n",
      "LinearRegression mse_train: 1650.6657163615525, mse_test: 1547.0263489083122\n",
      "LinearRegression mrse_train: 40.62838559876029, mrse_test: 39.33225583294597\n",
      "----\n",
      "Ridge  Train Score  0.47666138771286326\n",
      "Ridge  Test Score  0.4954352796766537\n",
      "Ridge mse_train: 1650.6697084621221, mse_test: 1546.8779591167372 best alpha: 0.1\n",
      "Ridge mrse_train: 40.628434728181716, mrse_test: 39.330369425124104 best alpha: 0.1\n",
      "----\n",
      "Lasso  Train Score  0.47657858014663446\n",
      "Lasso  Test Score  0.49566229056317684\n",
      "Lasso mse_train: 1650.9308929763088, mse_test: 1546.1819965916181 best alpha: 0.01\n",
      "Lasso mrse_train: 40.631648907917935, mrse_test: 39.321520781775696 best alpha: 0.01\n",
      "----\n",
      "ElasticNet  Train Score  0.4754488729907409\n",
      "ElasticNet  Test Score  0.4952293919536449\n",
      "ElasticNet mse_train: 1654.4941182722923, mse_test: 1547.5091629404426 best alpha: 0.01 best l1: 0.9\n",
      "ElasticNet mrse_train: 40.67547317822243, mrse_test: 39.338392988789494 best alpha: 0.01 best l1: 0.9\n"
     ]
    }
   ],
   "source": [
    "# Volvemos a coger los datos de train y los de test, para entrenar al modelo y probarlo con los de test\n",
    "y_train = dataTrain[cols[0:1]]\n",
    "X_train = dataTrain[cols[1:]]\n",
    "\n",
    "y_test = testData[cols[0:1]]\n",
    "X_test = testData[cols[1:]]\n",
    "\n",
    "# Entrenamos al modelo y vemos los resultados\n",
    "priceModel = RandomForestRegressor(max_depth=maxDepthOptimo,n_estimators=200,max_features='sqrt')\n",
    "priceModel.fit(X_train.iloc[:, selected_features],y_train)\n",
    "\n",
    "print(\"Train: \",priceModel.score(X_train.iloc[:, selected_features],y_train))\n",
    "print(\"Test: \",priceModel.score(X_test.iloc[:, selected_features],y_test))\n",
    "\n",
    "yTrainModel = priceModel.predict(X_train.iloc[:, selected_features])\n",
    "yTestModel = priceModel.predict(X_test.iloc[:, selected_features])\n",
    "\n",
    "mseTrain = mean_squared_error(y_train, yTrainModel)\n",
    "mseTest = mean_squared_error(y_test, yTestModel)\n",
    "\n",
    "print('MSE Modelo RandomForestRegressor (train): %0.3g' % mseTrain)\n",
    "print('MSE Modelo RandomForestRegressor (test) : %0.3g' % mseTest)\n",
    "\n",
    "print('RMSE Modelo RandomForestRegressor (train): %0.3g' % np.sqrt(mseTrain))\n",
    "print('RMSE Modelo RandomForestRegressor (test) : %0.3g' % np.sqrt(mseTest))\n",
    "\n",
    "r = LinearRegression()\n",
    "alphas = [1000, 100, 50, 20, 10, 1, 0.1, 0.01]\n",
    "l1_ratios = [0.001, 0.01, 0.05, 0.1, 0.3, 0.5, 0.7, 0.9]\n",
    "ridge = RidgeCV(alphas=alphas)\n",
    "lasso = LassoCV(alphas=alphas, max_iter=10000)\n",
    "elastic = ElasticNetCV(alphas=alphas, l1_ratio=l1_ratios)\n",
    "\n",
    "for model, name in zip([lr, ridge, lasso, elastic], ['LinearRegression', 'Ridge', 'Lasso', 'ElasticNet']):\n",
    "    model.fit(X_train.iloc[:, selected_features], y_train)\n",
    "    print(\"----\")\n",
    "    print(name,' Train Score ', model.score(X_train.iloc[:, selected_features],y_train))\n",
    "    print(name, ' Test Score ', model.score(X_test.iloc[:, selected_features],y_test))\n",
    "        \n",
    "    y_ModelPredictTrain = model.predict(X_train.iloc[:, selected_features])    \n",
    "    mseTrain = mean_squared_error(y_train, y_ModelPredictTrain)\n",
    "    mrse_train = np.sqrt(mseTrain)\n",
    "    \n",
    "    y_ModelPredictTest = model.predict(X_test.iloc[:, selected_features])\n",
    "    mseTest = mean_squared_error(y_test, y_ModelPredictTest)\n",
    "    mrse_test = np.sqrt(mseTest)\n",
    "    \n",
    "    best_alpha = ''\n",
    "    if name != 'LinearRegression':\n",
    "        best_alpha = ' best alpha: ' + str(model.alpha_)\n",
    "    best_l1 = ''\n",
    "    if name == 'ElasticNet':\n",
    "        best_l1 = ' best l1: '+ str(model.l1_ratio_)\n",
    "    print(name + ' mse_train: ' + str(mseTrain) + ', mse_test: ' + str(mseTest) + best_alpha + best_l1)\n",
    "    print(name + ' mrse_train: ' + str(mrse_train) + ', mrse_test: ' + str(mrse_test) + best_alpha + best_l1)"
   ]
  },
  {
   "cell_type": "code",
   "execution_count": null,
   "metadata": {},
   "outputs": [],
   "source": [
    "print(\"RandomForestRegressor nos ofrece una mejor predicción y un menor RMSE tanto en los datos de Test como de Train.\")\n",
    "print(\"Por lo que sería el modelo que usaría para la predicción.\")\n",
    "print(\"Lasso es el segundo mejor modelo.\")"
   ]
  }
 ],
 "metadata": {
  "kernelspec": {
   "display_name": "Python 3",
   "language": "python",
   "name": "python3"
  },
  "language_info": {
   "codemirror_mode": {
    "name": "ipython",
    "version": 3
   },
   "file_extension": ".py",
   "mimetype": "text/x-python",
   "name": "python",
   "nbconvert_exporter": "python",
   "pygments_lexer": "ipython3",
   "version": "3.7.7"
  }
 },
 "nbformat": 4,
 "nbformat_minor": 4
}
